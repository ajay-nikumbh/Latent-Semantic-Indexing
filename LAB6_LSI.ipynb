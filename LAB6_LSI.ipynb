{
 "cells": [
  {
   "cell_type": "code",
   "execution_count": 1,
   "metadata": {
    "id": "YnMElwlqdz-Z"
   },
   "outputs": [],
   "source": [
    "import pandas as pd\n",
    "import math\n",
    "import numpy as np\n",
    "from sklearn.datasets import fetch_20newsgroups\n",
    "import matplotlib.pyplot as plt\n",
    "from string import punctuation\n",
    "import nltk\n",
    "pi = math.pi"
   ]
  },
  {
   "cell_type": "code",
   "execution_count": 2,
   "metadata": {
    "id": "io4EqxwiqVLS"
   },
   "outputs": [],
   "source": [
    "newsgroups_train = fetch_20newsgroups(subset='train')\n"
   ]
  },
  {
   "cell_type": "code",
   "execution_count": 3,
   "metadata": {
    "id": "iMvhnb1FvdV7"
   },
   "outputs": [],
   "source": [
    "data=newsgroups_train['data']"
   ]
  },
  {
   "cell_type": "code",
   "execution_count": 4,
   "metadata": {
    "colab": {
     "base_uri": "https://localhost:8080/"
    },
    "id": "VgEFMaBdgNi4",
    "outputId": "b8003233-9ea3-4805-ec55-db8e26af0cde"
   },
   "outputs": [
    {
     "name": "stderr",
     "output_type": "stream",
     "text": [
      "[nltk_data] Downloading package stopwords to\n",
      "[nltk_data]     C:\\Users\\Ajay\\AppData\\Roaming\\nltk_data...\n",
      "[nltk_data]   Unzipping corpora\\stopwords.zip.\n"
     ]
    },
    {
     "data": {
      "text/plain": [
       "True"
      ]
     },
     "execution_count": 4,
     "metadata": {},
     "output_type": "execute_result"
    }
   ],
   "source": [
    "nltk.download('stopwords')"
   ]
  },
  {
   "cell_type": "code",
   "execution_count": 6,
   "metadata": {
    "id": "RApII2DG7TmY"
   },
   "outputs": [],
   "source": [
    "inp = ['37261','37913','37914','37915','37916']"
   ]
  },
  {
   "cell_type": "code",
   "execution_count": 7,
   "metadata": {
    "id": "ANnf5OWjffdi"
   },
   "outputs": [],
   "source": [
    "def rem_punct(s):\n",
    "    '''\n",
    "    Parameter: \n",
    "        s - string\n",
    "    Process:\n",
    "        First we initialize an empty output string str1.\n",
    "        The function iterates through s and if the character is not a punctation, \n",
    "        it is added to the outpur string str1.\n",
    "    Output:\n",
    "        str1 - string\n",
    "    '''\n",
    "    str1 = ''\n",
    "    for char in s:\n",
    "        if(char not in punctuation):\n",
    "            str1 = str1 + char\n",
    "    return str1\n",
    "\n",
    "def rem_nums(s):\n",
    "    '''\n",
    "    Parameter: \n",
    "        s - string\n",
    "    Process:\n",
    "        First we initialize an empty output string str1.\n",
    "        The function iterates through s and if the character is not a number, \n",
    "        it is added to the outpur string str1.\n",
    "    Output:\n",
    "        str1 - string\n",
    "    '''\n",
    "    str1 = ''\n",
    "    for num in s:\n",
    "        if(not num.isdigit()):\n",
    "            str1 = str1 + num\n",
    "    return str1\n"
   ]
  },
  {
   "cell_type": "code",
   "execution_count": 8,
   "metadata": {
    "colab": {
     "base_uri": "https://localhost:8080/",
     "height": 243
    },
    "id": "dhYWgRWJh0pZ",
    "outputId": "843c9711-d7cb-41f5-8066-0d9337a0f47c"
   },
   "outputs": [
    {
     "name": "stdout",
     "output_type": "stream",
     "text": [
      "[['xref', 'cantaloupesrvcscmuedu', 'compgraphics', 'altgraphics', 'compgraphicsanimationpath', 'cantaloupesrvcscmuedudasnewsharvardeduogicseuwmeduzaphodmpsohiostateedudarwinsuranetdtixdtnavymiloasyslipmanfrom', 'lipmanoasysdtnavymil', 'robert', 'lipmannewsgroups', 'compgraphicsaltgraphicscompgraphicsanimationsubject', 'call', 'presentations', 'navy', 'scivizvr', 'seminarmessageid', 'oasysdtnavymildate', 'mar', 'gmtarticleid', 'oasysexpires', 'apr', 'gmtreplyto', 'lipmanoasysdtnavymil', 'robert', 'lipmanfollowupto', 'compgraphicsdistribution', 'usaorganization', 'carderock', 'division', 'nswc', 'bethesda', 'mdlines', '\\t\\t\\tcall', 'presentations\\t', 'navy', 'scientific', 'visualization', 'virtual', 'reality', 'seminar\\t\\t\\ttuesday', 'june', '\\t', 'carderock', 'division', 'naval', 'surface', 'warfare', 'center\\t', 'formerly', 'david', 'taylor', 'research', 'center\\t\\t\\t', 'bethesda', 'marylandsponsor', 'ness', 'navy', 'engineering', 'software', 'system', 'sponsoring', 'oneday', 'navy', 'scientific', 'visualization', 'virtual', 'reality', 'seminar', 'purpose', 'seminar', 'present', 'exchange', 'information', 'fornavyrelated', 'scientific', 'visualization', 'virtual', 'reality', 'programs', 'research', 'developments', 'applicationspresentations', 'presentations', 'solicited', 'aspects', 'navyrelated', 'scientific', 'visualization', 'virtual', 'reality', 'current', 'work', 'worksinprogress', 'proposed', 'work', 'navy', 'organizations', 'considered', 'four', 'types', 'presentations', 'available', 'regular', 'presentation', 'minutes', 'length', 'short', 'presentation', 'minutes', 'length', 'video', 'presentation', 'standalone', 'videotape', 'author', 'need', '\\tattend', 'seminar', 'scientific', 'visualization', 'virtual', 'reality', 'demonstration', 'byohaccepted', 'presentations', 'published', 'proceedings', 'however', 'viewgraphs', 'materials', 'reproduced', 'seminar', 'attendeesabstracts', 'authors', 'submit', 'one', 'page', 'abstract', 'andor', 'videotape', 'robert', 'lipman', 'naval', 'surface', 'warfare', 'center', 'carderock', 'division', 'code', 'bethesda', 'maryland', 'voice', 'fax', 'email', 'lipmanoasysdtnavymilauthors', 'include', 'type', 'presentation', 'affiliations', 'addresses', 'telephone', 'fax', 'numbers', 'addresses', 'multiauthor', 'papers', 'designate', 'one', 'point', 'contactdeadlines', 'abstact', 'submission', 'deadline', 'april', 'notification', 'acceptance', 'sent', 'may', 'materials', 'reproduction', 'must', 'received', 'june', 'information', 'contact', 'robert', 'lipman', 'address\\t', 'please', 'distribute', 'widely', 'possible', 'thanksrobert', 'lipman', 'internet', 'lipmanoasysdtnavymildavid', 'taylor', 'model', 'basin', 'cdnswc', 'lipoceandtnavymilcomputational', 'signatures', 'voicenet', 'structures', 'group', 'code', 'factsnet', 'bethesda', 'maryland', 'phishnet', 'stockingslonglegs\\t\\t\\t\\t', 'sixth', 'sick', 'shieks', 'sixth', 'sheeps', 'sick'], ['path', 'cantaloupesrvcscmueducrabapplesrvcscmuedufsececmuedueuropaenggtefsdcomemorywupostuscnewshubsdsueduucssunsdsuedusdsueduwestonfrom', 'westonucssunsdsuedu', 'weston', 'tnewsgroups', 'compgraphicssubject', 'graphical', 'representation', 'vectorvalued', 'functionsdate', 'apr', 'gmtorganization', 'sdsu', 'computing', 'serviceslines', 'messageid', 'pqeafcpandorasdsuedunntppostinghost', 'ucssunsdsuedugnuplot', 'etc', 'make', 'easy', 'plot', 'real', 'valued', 'functions', 'variablesbut', 'want', 'plot', 'functions', 'whose', 'values', 'vectors', 'plotting', 'arrays', 'arrows', 'complete', 'arrowheads', 'butbefore', 'going', 'thought', 'would', 'ask', 'whether', 'someone', 'alreadydone', 'work', 'pointersthanx', 'advancetom', 'weston', 'usenet', 'westonucssunsdsuedudepartment', 'philosophy', 'officesan', 'diego', 'state', 'univ', 'homesan', 'diego', 'ca'], ['path', 'cantaloupesrvcscmuedudasnewsharvardeduogicseuwmeduzaphodmpsohiostateeducaenusenetcisufledurapfrom', 'rapcoconutcisufledu', 'ryan', 'porternewsgroups', 'compgraphicssubject', 'dmorphmessageid', 'pqlhninnksnoopycisufledudate', 'apr', 'gmtarticleid', 'snoopypqlhninnkreferences', 'aprusleduorganization', 'univ', 'florida', 'cis', 'deptlines', 'nntppostinghost', 'coconutcisufleduin', 'article', 'aprusledu', 'jnaucsusledu', 'armstrong', 'jay', 'n', 'writescan', 'someone', 'please', 'tell', 'ftp', 'dta', 'dmorphdmorf', 'daves', 'morph', 'think', 'means', 'dtax', 'daves', 'tga', 'assembler', 'available', 'msdosuploads', 'directoryon', 'wuarchivethey', 'arjed', 'bundled', 'respective', 'xmemory', 'versionsdmorfxexe', 'dtaxexe', 'also', 'find', 'version', 'aaplayexethere', 'view', 'files', 'create', 'dtaexe', 'ordtaxexei', 'downloaded', 'whole', 'bunch', 'last', 'week', 'morphing', 'away', 'afternoons', 'since', 'programmes', 'bit', 'buggy', 'anddefinitely', 'notreadytospreadtothemasses', 'verywell', 'written', 'interface', 'frustrating', 'first', 'gets', 'easy', 'youfigure', 'tricksi', 'noticed', 'dmorfx', 'crash', 'horribly', 'try', 'morphwithout', 'using', 'splines', 'option', 'sure', 'since', 'dont', 'havethe', 'source', 'think', 'written', 'tp', 'anyone', 'else', 'comes', 'hints', 'getting', 'thing', 'work', 'right', 'tell', 'took', 'several', 'hours', 'first', 'timejust', 'figure', 'used', 'durned', 'splines', 'would', 'workjnajnausleduryanrapcisufledu'], ['xref', 'cantaloupesrvcscmuedu', 'comphumanfactors', 'compgraphics', 'compsyshpnewsgroups', 'comphumanfactorscompgraphicscompsyshppath', 'cantaloupesrvcscmueducrabapplesrvcscmuedufsececmuedueuropaenggtefsdcomgatechasuvaxcsutexasedusddhpcomcaenuvaarpamurdochonyxcsvirginiaedukphqfrom', 'kphqonyxcsvirginiaedu', 'kenneth', 'hinckleysubject', 'voice', 'input', 'vendor', 'information', 'neededmessageid', 'cyxljmzbmurdochaccvirginiaedusender', 'usenetmurdochaccvirginiaedureplyto', 'kphqonyxcsvirginiaedu', 'kenneth', 'hinckleyorganization', 'university', 'virginiadate', 'sun', 'apr', 'gmtlines', 'hello', 'looking', 'add', 'voice', 'input', 'capability', 'user', 'interface', 'amdeveloping', 'hp', 'unix', 'workstation', 'would', 'greatly', 'appreciate', 'information', 'anyone', 'would', 'care', 'offer', 'voice', 'input', 'systems', 'easily', 'accessible', 'unix', 'environment', 'names', 'adresses', 'applicable', 'vendors', 'well', 'experiences', 'specific', 'systems', 'would', 'helpful', 'please', 'respond', 'via', 'email', 'post', 'summary', 'sufficient', 'interestthankskenps', 'found', 'several', 'impressive', 'systems', 'ibm', 'pcs', 'would', 'like', 'avoid', 'hassle', 'purchasing', 'maintaining', 'separate', 'pc', 'possibleken', 'hinckley', 'kphqvirginiaeduuniversity', 'virginia', 'neurosurgical', 'visualization', 'laboratory'], ['path', 'cantaloupesrvcscmueducrabapplesrvcscmuedufsececmuedueuropaenggtefsdcomgatechasuvaxcsutexaseduzaphodmpsohiostateedusaimiriprimatewisceduusenetcoemontanaedunewsuwashingtoneduuwbeavercsubccaunixgubccakakwaucsualbertacaersysjothfrom', 'jothersysedmontonabca', 'joe', 'thamnewsgroups', 'compgraphicssubject', 'find', 'sippmessageid', 'yfxjbwwersysedmontonabcadate', 'mon', 'apr', 'mdtorganization', 'edmonton', 'remote', 'systems', 'edmonton', 'ab', 'canadalines', 'recently', 'got', 'file', 'describing', 'library', 'rendering', 'routines', 'called', 'sipp', 'simple', 'polygon', 'processor', 'could', 'anyone', 'tell', 'ftp', 'source', 'code', 'newest', 'version', 'around', 'also', 'ive', 'never', 'used', 'renderman', 'wondering', 'renderman', 'like', 'sipp', 'ie', 'library', 'rendering', 'routines', 'one', 'uses', 'make', 'program', 'creates', 'image', 'thanks', 'joe', 'thamjoe', 'tham', 'jothersysedmontonabca']]\n"
     ]
    }
   ],
   "source": [
    "\n",
    "\n",
    "docs = len(inp) #number of documents\n",
    "store =[] #list of content of all docs. stored as a string \n",
    "#store=newsgroups_train['data'][0:100]\n",
    "\n",
    "for i in range(len(inp)):\n",
    "    file = open(inp[i],'r')\n",
    "    string = ''\n",
    "    while 1: \n",
    "        # read by character \n",
    "        char = file.read(1)\n",
    "        if char!='\\n':\n",
    "            string+=char\n",
    "        if not char:  \n",
    "            break\n",
    "    store.append(string)\n",
    "    file.close\n",
    "\n",
    "\n",
    "\n",
    "stopwords = nltk.corpus.stopwords.words('english')\n",
    "\n",
    "all_docs = []\n",
    "for string in store:\n",
    "    string = rem_punct(rem_nums(string).lower())\n",
    "    string = string.split(\" \")\n",
    "    all_docs.append(string)\n",
    "\n",
    "bow=[] #bag of words\n",
    "for j in range(docs):\n",
    "    temp = []\n",
    "    for i in all_docs[j]: #all_docs[j] is the jth document's list of words\n",
    "        if i not in stopwords and len(i)>0 and i!=None:\n",
    "            temp.append(i)\n",
    "            #print(i)\n",
    "    bow.append(temp)\n",
    "print(bow)"
   ]
  },
  {
   "cell_type": "code",
   "execution_count": 9,
   "metadata": {
    "colab": {
     "base_uri": "https://localhost:8080/"
    },
    "id": "z6_BYNYhflT3",
    "outputId": "cf3445d3-dd3a-4d04-89ce-834304e69bdc",
    "scrolled": true
   },
   "outputs": [
    {
     "name": "stdout",
     "output_type": "stream",
     "text": [
      "{'complete', 'view', 'laboratory', 'hassle', 'vendors', 'oasysexpires', 'philosophy', 'types', 'polygon', 'cis', 'verywell', 'fax', 'florida', 'notreadytospreadtothemasses', 'simple', 'took', 'work', 'center\\t\\t\\t', 'post', 'andor', 'standalone', 'uses', 'real', 'tell', 'recently', 'naval', 'presentations\\t', 'describing', 'newest', 'cdnswc', 'information', 'organizations', 'interface', 'separate', 'westonucssunsdsuedu', 'could', 'apr', 'systems', 'hints', 'never', 'nswc', 'address\\t', 'exchange', 'internet', 'kphqvirginiaeduuniversity', 'else', 'altgraphics', 'research', 'oasysdtnavymildate', 'respond', 'plotting', 'using', 'however', 'anyone', 'rendering', 'usenetmurdochaccvirginiaedureplyto', 'scivizvr', 'sun', 'mdtorganization', 'shieks', 'compgraphicssubject', 'reality', 'names', 'pointersthanx', 'acceptance', 'path', 'away', 'written', 'short', 'center', 'cantaloupesrvcscmueducrabapplesrvcscmuedufsececmuedueuropaenggtefsdcomemorywupostuscnewshubsdsueduucssunsdsuedusdsueduwestonfrom', 'make', 'proposed', 'advancetom', 'type', 'ask', 'jay', 'software', 'maryland', 'aprusleduorganization', 'demonstration', 'cantaloupesrvcscmueducrabapplesrvcscmuedufsececmuedueuropaenggtefsdcomgatechasuvaxcsutexasedusddhpcomcaenuvaarpamurdochonyxcsvirginiaedukphqfrom', 'representation', 'reproduction', 'renderman', 'snoopypqlhninnkreferences', 'user', 'university', 'greatly', 'hello', 'would', 'armstrong', 'unix', 'dtax', 'carderock', 'phishnet', 'arrays', 'vectorvalued', 'contact', 'morphing', 'oneday', 'try', 'processor', 'david', 'state', 'ness', 'canadalines', 'option', 'sixth', 'comes', 'aprusledu', 'lipmanoasysdtnavymildavid', 'well', 'pcs', 'addresses', 'sdsu', 'values', 'navyrelated', 'arrowheads', 'call', '\\t\\t\\tcall', 'figure', 'mdlines', 'compgraphics', 'ordtaxexei', 'offer', 'seminar', 'cyxljmzbmurdochaccvirginiaedusender', 'variablesbut', 'article', 'hours', 'cantaloupesrvcscmuedu', 'want', 'distribute', 'noticed', 'abstact', 'wuarchivethey', 'pqlhninnksnoopycisufledudate', 'dmorfx', 'ive', 'gmtlines', 'one', 'virginia', 'means', 'xmemory', 'workstation', 'attendeesabstracts', 'dtaexe', 'experiences', 'create', 'considered', 'bunch', 'program', 'engineering', 'virtual', 'coconutcisufleduin', 'signatures', 'bit', 'cantaloupesrvcscmuedudasnewsharvardeduogicseuwmeduzaphodmpsohiostateeducaenusenetcisufledurapfrom', 'code', 'files', 'whether', 'thamjoe', 'horribly', 'weston', 'gmtarticleid', 'videotape', 'sent', 'factsnet', 'directoryon', 'care', 'thanks', 'jothersysedmontonabca', 'hinckleyorganization', 'purchasing', 'edmonton', '\\tattend', 'sponsoring', 'contactdeadlines', 'plot', 'several', 'since', 'formerly', 'published', 'comphumanfactors', 'adresses', 'via', 'thing', 'present', 'length', 'find', 'tnewsgroups', 'butbefore', 'surface', 'homesan', 'lipmanfollowupto', 'possible', 'xref', 'possibleken', 'interestthankskenps', 'computing', 'sick', 'dmorphmessageid', 'visualization', 'current', 'authors', 'applicationspresentations', 'right', 'hinckley', 'fornavyrelated', 'routines', 'submit', 'thought', 'wondering', 'bethesda', 'worksinprogress', 'minutes', 'seminar\\t\\t\\ttuesday', 'source', 'thamnewsgroups', 'around', 'vectors', 'easily', 'june', 'image', 'numbers', 'neededmessageid', 'april', 'capability', 'ftp', 'sipp', 'compsyshpnewsgroups', 'ie', 'structures', 'deptlines', 'point', 'hinckleysubject', 'messageid', 'hp', 'yfxjbwwersysedmontonabcadate', 'afternoons', 'aaplayexethere', 'amdeveloping', 'library', 'email', 'ca', 'gets', 'version', 'scientific', 'rapcoconutcisufledu', 'pc', 'telephone', 'maintaining', 'dont', 'pqeafcpandorasdsuedunntppostinghost', 'compgraphicsanimationpath', 'someone', 'dmorphdmorf', 'workjnajnausleduryanrapcisufledu', 'helpful', 'sufficient', 'solicited', 'vendor', 'mon', 'dta', 'splines', 'basin', 'functionsdate', 'sheeps', 'multiauthor', 'available', 'impressive', 'page', 'accessible', 'comphumanfactorscompgraphicscompsyshppath', 'avoid', 'lipmannewsgroups', 'marylandsponsor', 'appreciate', 'youfigure', 'found', 'division', 'versionsdmorfxexe', 'gmtreplyto', 'programmes', 'kphqonyxcsvirginiaedu', 'programs', 'durned', 'assembler', 'last', 'buggy', 'affiliations', 'lipoceandtnavymilcomputational', 'include', 'univ', 'arrows', 'cantaloupesrvcscmueducrabapplesrvcscmuedufsececmuedueuropaenggtefsdcomgatechasuvaxcsutexaseduzaphodmpsohiostateedusaimiriprimatewisceduusenetcoemontanaedunewsuwashingtoneduuwbeavercsubccaunixgubccakakwaucsualbertacaersysjothfrom', 'presentations', 'usaorganization', 'summary', 'add', 'looking', 'widely', 'week', 'graphical', 'lipman', 'designate', 'respective', 'lipmanoasysdtnavymil', 'four', 'please', 'thanksrobert', 'voicenet', 'remote', 'group', 'mar', 'submission', 'officesan', 'sure', 'need', 'called', 'presentation', 'taylor', 'aspects', 'system', 'lipmanoasysdtnavymilauthors', 'westonucssunsdsuedudepartment', 'writescan', 'received', 'compgraphicsdistribution', 'easy', 'daves', 'functions', 'usenet', 'used', 'serviceslines', 'got', 'tp', 'creates', 'bundled', 'alreadydone', 'applicable', 'tga', 'anddefinitely', 'porternewsgroups', 'reproduced', 'think', 'input', 'downloaded', 'papers', 'whole', 'warfare', 'tricksi', 'developments', 'diego', 'arjed', 'n', 'frustrating', 'getting', 'byohaccepted', 'file', 'video', 'etc', 'ucssunsdsuedugnuplot', 'must', 'seminarmessageid', 'robert', 'havethe', 'regular', 'viewgraphs', 'specific', 'author', 'navy', 'model', 'whose', 'deadline', 'crash', 'valued', 'ryan', 'dtaxexe', 'stockingslonglegs\\t\\t\\t\\t', 'abstract', 'kenneth', 'ibm', 'timejust', 'virginiadate', 'msdosuploads', 'sippmessageid', 'joe', 'tham', '\\t', 'ab', 'compgraphicsaltgraphicscompgraphicsanimationsubject', 'going', 'voice', 'center\\t', 'notification', 'morphwithout', 'jnaucsusledu', 'first', 'environment', 'morph', 'materials', 'gmtorganization', 'may', 'also', 'purpose', 'cantaloupesrvcscmuedudasnewsharvardeduogicseuwmeduzaphodmpsohiostateedudarwinsuranetdtixdtnavymiloasyslipmanfrom', 'nntppostinghost', 'neurosurgical', 'proceedings', 'like'}\n"
     ]
    }
   ],
   "source": [
    "\n",
    "def unique(bow):\n",
    "    '''\n",
    "    Parameter: \n",
    "        bow - 2D list\n",
    "    Process:\n",
    "        a is initialized as first list of bow\n",
    "        \n",
    "        The function iterates through all other lists and sets\n",
    "        a = union(a,cur_list)\n",
    "        Here cur_list is the iterator\n",
    "    Output:\n",
    "        a - set of all unique words in bow\n",
    "    '''\n",
    "    a = bow[0]\n",
    "    for i in range(1,len(bow)):\n",
    "        a = set(a).union(set(bow[i]))\n",
    "    print(a)\n",
    "    return a\n",
    "\n",
    "wordset = unique(bow)\n"
   ]
  },
  {
   "cell_type": "code",
   "execution_count": 10,
   "metadata": {
    "id": "QYJatRfvfrDk"
   },
   "outputs": [],
   "source": [
    "def term_document_matrix():\n",
    "    '''\n",
    "    Parameter: \n",
    "        Nothing\n",
    "    Process:\n",
    "        Iterates through bow and worddict at the same time \n",
    "        bow - 2D list  (iterator is bow_i)\n",
    "        worddict = list of dictionaries    (iterator is worddict_i)\n",
    "        increments value of each word found in bow_i\n",
    "    Output:\n",
    "        pandas dataframe\n",
    "    '''\n",
    "    for bow_i,worddict_i in zip(bow,worddict): #zip takes first row of bow and key of worddict\n",
    "        for word in bow_i:\n",
    "            worddict_i[word]+=1 #increments value of each word when found in the document\n",
    "        \n",
    "    return pd.DataFrame(worddict)\n",
    "#The above function returns a document term matrix.\n",
    "#from this we get number of times a unique word is found in each document respectively.\n"
   ]
  },
  {
   "cell_type": "code",
   "execution_count": 11,
   "metadata": {
    "colab": {
     "base_uri": "https://localhost:8080/"
    },
    "id": "i3CP8vRPiTug",
    "outputId": "9ced326d-8fd6-4bd8-a34c-586684520136",
    "scrolled": true
   },
   "outputs": [
    {
     "name": "stdout",
     "output_type": "stream",
     "text": [
      "   complete  view  laboratory  hassle  vendors  oasysexpires  philosophy  \\\n",
      "0         0     0           0       0        0             1           0   \n",
      "1         1     0           0       0        0             0           1   \n",
      "2         0     1           0       0        0             0           0   \n",
      "3         0     0           1       1        1             0           0   \n",
      "4         0     0           0       0        0             0           0   \n",
      "\n",
      "   types  polygon  cis  ...  materials  gmtorganization  may  also  purpose  \\\n",
      "0      1        0    0  ...          2                0    1     0        1   \n",
      "1      0        0    0  ...          0                1    0     0        0   \n",
      "2      0        0    1  ...          0                0    0     1        0   \n",
      "3      0        0    0  ...          0                0    0     0        0   \n",
      "4      0        1    0  ...          0                0    0     1        0   \n",
      "\n",
      "   cantaloupesrvcscmuedudasnewsharvardeduogicseuwmeduzaphodmpsohiostateedudarwinsuranetdtixdtnavymiloasyslipmanfrom  \\\n",
      "0                                                  1                                                                  \n",
      "1                                                  0                                                                  \n",
      "2                                                  0                                                                  \n",
      "3                                                  0                                                                  \n",
      "4                                                  0                                                                  \n",
      "\n",
      "   nntppostinghost  neurosurgical  proceedings  like  \n",
      "0                0              0            1     0  \n",
      "1                0              0            0     0  \n",
      "2                1              0            0     0  \n",
      "3                0              1            0     1  \n",
      "4                0              0            0     1  \n",
      "\n",
      "[5 rows x 412 columns]\n"
     ]
    }
   ],
   "source": [
    "\n",
    "\n",
    "worddict = [dict.fromkeys(wordset,0) for i in range(len(bow))]\n",
    "docterm = term_document_matrix()\n",
    "print(docterm)"
   ]
  },
  {
   "cell_type": "code",
   "execution_count": 12,
   "metadata": {
    "id": "FmxrsTWhfxvM"
   },
   "outputs": [],
   "source": [
    "def term_freq(worddict,bow):\n",
    "    '''\n",
    "    Parameter: \n",
    "        worddict - dictionary\n",
    "        bow - list of strings \n",
    "    Process:\n",
    "        initialize empty dictionary called tfdict\n",
    "        bowcount = number of elements(words) in bow\n",
    "        traverse through key value pairs of worddict\n",
    "        Here,\n",
    "            word - key\n",
    "            count - value\n",
    "        Divide count of a word by total number of elements in that document and store it as a \n",
    "        key value pair in tfdict\n",
    "    Output:\n",
    "        tfdict - dictionary\n",
    "    '''\n",
    "    #here worddict is a single dictionary. NOT A LIST OF DICTIONARIES\n",
    "    #bow is a single list. NOT A NESTED LIST\n",
    "    tfdict = {} #tfdict -- term frequency dict\n",
    "    bowcount = len(bow) #bowcount = total number of words in the document \n",
    "    for word,count in worddict.items(): \n",
    "        tfdict[word] = count/float(bowcount)\n",
    "    return tfdict\n"
   ]
  },
  {
   "cell_type": "code",
   "execution_count": 13,
   "metadata": {
    "colab": {
     "base_uri": "https://localhost:8080/"
    },
    "id": "Yw27iP9AjoBp",
    "outputId": "a5a46a1a-39bc-419e-f353-6bd2674ee729"
   },
   "outputs": [
    {
     "name": "stdout",
     "output_type": "stream",
     "text": [
      "[{'complete': 0.0, 'view': 0.0, 'laboratory': 0.0, 'hassle': 0.0, 'vendors': 0.0, 'oasysexpires': 0.004629629629629629, 'philosophy': 0.0, 'types': 0.004629629629629629, 'polygon': 0.0, 'cis': 0.0, 'verywell': 0.0, 'fax': 0.009259259259259259, 'florida': 0.0, 'notreadytospreadtothemasses': 0.0, 'simple': 0.0, 'took': 0.0, 'work': 0.009259259259259259, 'center\\t\\t\\t': 0.004629629629629629, 'post': 0.0, 'andor': 0.004629629629629629, 'standalone': 0.004629629629629629, 'uses': 0.0, 'real': 0.0, 'tell': 0.0, 'recently': 0.0, 'naval': 0.009259259259259259, 'presentations\\t': 0.004629629629629629, 'describing': 0.0, 'newest': 0.0, 'cdnswc': 0.004629629629629629, 'information': 0.009259259259259259, 'organizations': 0.004629629629629629, 'interface': 0.0, 'separate': 0.0, 'westonucssunsdsuedu': 0.0, 'could': 0.0, 'apr': 0.004629629629629629, 'systems': 0.0, 'hints': 0.0, 'never': 0.0, 'nswc': 0.004629629629629629, 'address\\t': 0.004629629629629629, 'exchange': 0.004629629629629629, 'internet': 0.004629629629629629, 'kphqvirginiaeduuniversity': 0.0, 'else': 0.0, 'altgraphics': 0.004629629629629629, 'research': 0.009259259259259259, 'oasysdtnavymildate': 0.004629629629629629, 'respond': 0.0, 'plotting': 0.0, 'using': 0.0, 'however': 0.004629629629629629, 'anyone': 0.0, 'rendering': 0.0, 'usenetmurdochaccvirginiaedureplyto': 0.0, 'scivizvr': 0.004629629629629629, 'sun': 0.0, 'mdtorganization': 0.0, 'shieks': 0.004629629629629629, 'compgraphicssubject': 0.0, 'reality': 0.023148148148148147, 'names': 0.0, 'pointersthanx': 0.0, 'acceptance': 0.004629629629629629, 'path': 0.0, 'away': 0.0, 'written': 0.0, 'short': 0.004629629629629629, 'center': 0.004629629629629629, 'cantaloupesrvcscmueducrabapplesrvcscmuedufsececmuedueuropaenggtefsdcomemorywupostuscnewshubsdsueduucssunsdsuedusdsueduwestonfrom': 0.0, 'make': 0.0, 'proposed': 0.004629629629629629, 'advancetom': 0.0, 'type': 0.004629629629629629, 'ask': 0.0, 'jay': 0.0, 'software': 0.004629629629629629, 'maryland': 0.009259259259259259, 'aprusleduorganization': 0.0, 'demonstration': 0.004629629629629629, 'cantaloupesrvcscmueducrabapplesrvcscmuedufsececmuedueuropaenggtefsdcomgatechasuvaxcsutexasedusddhpcomcaenuvaarpamurdochonyxcsvirginiaedukphqfrom': 0.0, 'representation': 0.0, 'reproduction': 0.004629629629629629, 'renderman': 0.0, 'snoopypqlhninnkreferences': 0.0, 'user': 0.0, 'university': 0.0, 'greatly': 0.0, 'hello': 0.0, 'would': 0.0, 'armstrong': 0.0, 'unix': 0.0, 'dtax': 0.0, 'carderock': 0.013888888888888888, 'phishnet': 0.004629629629629629, 'arrays': 0.0, 'vectorvalued': 0.0, 'contact': 0.004629629629629629, 'morphing': 0.0, 'oneday': 0.004629629629629629, 'try': 0.0, 'processor': 0.0, 'david': 0.004629629629629629, 'state': 0.0, 'ness': 0.004629629629629629, 'canadalines': 0.0, 'option': 0.0, 'sixth': 0.009259259259259259, 'comes': 0.0, 'aprusledu': 0.0, 'lipmanoasysdtnavymildavid': 0.004629629629629629, 'well': 0.0, 'pcs': 0.0, 'addresses': 0.009259259259259259, 'sdsu': 0.0, 'values': 0.0, 'navyrelated': 0.004629629629629629, 'arrowheads': 0.0, 'call': 0.004629629629629629, '\\t\\t\\tcall': 0.004629629629629629, 'figure': 0.0, 'mdlines': 0.004629629629629629, 'compgraphics': 0.004629629629629629, 'ordtaxexei': 0.0, 'offer': 0.0, 'seminar': 0.018518518518518517, 'cyxljmzbmurdochaccvirginiaedusender': 0.0, 'variablesbut': 0.0, 'article': 0.0, 'hours': 0.0, 'cantaloupesrvcscmuedu': 0.004629629629629629, 'want': 0.0, 'distribute': 0.004629629629629629, 'noticed': 0.0, 'abstact': 0.004629629629629629, 'wuarchivethey': 0.0, 'pqlhninnksnoopycisufledudate': 0.0, 'dmorfx': 0.0, 'ive': 0.0, 'gmtlines': 0.0, 'one': 0.009259259259259259, 'virginia': 0.0, 'means': 0.0, 'xmemory': 0.0, 'workstation': 0.0, 'attendeesabstracts': 0.004629629629629629, 'dtaexe': 0.0, 'experiences': 0.0, 'create': 0.0, 'considered': 0.004629629629629629, 'bunch': 0.0, 'program': 0.0, 'engineering': 0.004629629629629629, 'virtual': 0.023148148148148147, 'coconutcisufleduin': 0.0, 'signatures': 0.004629629629629629, 'bit': 0.0, 'cantaloupesrvcscmuedudasnewsharvardeduogicseuwmeduzaphodmpsohiostateeducaenusenetcisufledurapfrom': 0.0, 'code': 0.009259259259259259, 'files': 0.0, 'whether': 0.0, 'thamjoe': 0.0, 'horribly': 0.0, 'weston': 0.0, 'gmtarticleid': 0.004629629629629629, 'videotape': 0.009259259259259259, 'sent': 0.004629629629629629, 'factsnet': 0.004629629629629629, 'directoryon': 0.0, 'care': 0.0, 'thanks': 0.0, 'jothersysedmontonabca': 0.0, 'hinckleyorganization': 0.0, 'purchasing': 0.0, 'edmonton': 0.0, '\\tattend': 0.004629629629629629, 'sponsoring': 0.004629629629629629, 'contactdeadlines': 0.004629629629629629, 'plot': 0.0, 'several': 0.0, 'since': 0.0, 'formerly': 0.004629629629629629, 'published': 0.004629629629629629, 'comphumanfactors': 0.0, 'adresses': 0.0, 'via': 0.0, 'thing': 0.0, 'present': 0.004629629629629629, 'length': 0.009259259259259259, 'find': 0.0, 'tnewsgroups': 0.0, 'butbefore': 0.0, 'surface': 0.009259259259259259, 'homesan': 0.0, 'lipmanfollowupto': 0.004629629629629629, 'possible': 0.004629629629629629, 'xref': 0.004629629629629629, 'possibleken': 0.0, 'interestthankskenps': 0.0, 'computing': 0.0, 'sick': 0.009259259259259259, 'dmorphmessageid': 0.0, 'visualization': 0.023148148148148147, 'current': 0.004629629629629629, 'authors': 0.004629629629629629, 'applicationspresentations': 0.004629629629629629, 'right': 0.0, 'hinckley': 0.0, 'fornavyrelated': 0.004629629629629629, 'routines': 0.0, 'submit': 0.004629629629629629, 'thought': 0.0, 'wondering': 0.0, 'bethesda': 0.018518518518518517, 'worksinprogress': 0.004629629629629629, 'minutes': 0.009259259259259259, 'seminar\\t\\t\\ttuesday': 0.004629629629629629, 'source': 0.0, 'thamnewsgroups': 0.0, 'around': 0.0, 'vectors': 0.0, 'easily': 0.0, 'june': 0.009259259259259259, 'image': 0.0, 'numbers': 0.004629629629629629, 'neededmessageid': 0.0, 'april': 0.004629629629629629, 'capability': 0.0, 'ftp': 0.0, 'sipp': 0.0, 'compsyshpnewsgroups': 0.0, 'ie': 0.0, 'structures': 0.004629629629629629, 'deptlines': 0.0, 'point': 0.004629629629629629, 'hinckleysubject': 0.0, 'messageid': 0.0, 'hp': 0.0, 'yfxjbwwersysedmontonabcadate': 0.0, 'afternoons': 0.0, 'aaplayexethere': 0.0, 'amdeveloping': 0.0, 'library': 0.0, 'email': 0.004629629629629629, 'ca': 0.0, 'gets': 0.0, 'version': 0.0, 'scientific': 0.023148148148148147, 'rapcoconutcisufledu': 0.0, 'pc': 0.0, 'telephone': 0.004629629629629629, 'maintaining': 0.0, 'dont': 0.0, 'pqeafcpandorasdsuedunntppostinghost': 0.0, 'compgraphicsanimationpath': 0.004629629629629629, 'someone': 0.0, 'dmorphdmorf': 0.0, 'workjnajnausleduryanrapcisufledu': 0.0, 'helpful': 0.0, 'sufficient': 0.0, 'solicited': 0.004629629629629629, 'vendor': 0.0, 'mon': 0.0, 'dta': 0.0, 'splines': 0.0, 'basin': 0.004629629629629629, 'functionsdate': 0.0, 'sheeps': 0.004629629629629629, 'multiauthor': 0.004629629629629629, 'available': 0.004629629629629629, 'impressive': 0.0, 'page': 0.004629629629629629, 'accessible': 0.0, 'comphumanfactorscompgraphicscompsyshppath': 0.0, 'avoid': 0.0, 'lipmannewsgroups': 0.004629629629629629, 'marylandsponsor': 0.004629629629629629, 'appreciate': 0.0, 'youfigure': 0.0, 'found': 0.0, 'division': 0.013888888888888888, 'versionsdmorfxexe': 0.0, 'gmtreplyto': 0.004629629629629629, 'programmes': 0.0, 'kphqonyxcsvirginiaedu': 0.0, 'programs': 0.004629629629629629, 'durned': 0.0, 'assembler': 0.0, 'last': 0.0, 'buggy': 0.0, 'affiliations': 0.004629629629629629, 'lipoceandtnavymilcomputational': 0.004629629629629629, 'include': 0.004629629629629629, 'univ': 0.0, 'arrows': 0.0, 'cantaloupesrvcscmueducrabapplesrvcscmuedufsececmuedueuropaenggtefsdcomgatechasuvaxcsutexaseduzaphodmpsohiostateedusaimiriprimatewisceduusenetcoemontanaedunewsuwashingtoneduuwbeavercsubccaunixgubccakakwaucsualbertacaersysjothfrom': 0.0, 'presentations': 0.018518518518518517, 'usaorganization': 0.004629629629629629, 'summary': 0.0, 'add': 0.0, 'looking': 0.0, 'widely': 0.004629629629629629, 'week': 0.0, 'graphical': 0.0, 'lipman': 0.013888888888888888, 'designate': 0.004629629629629629, 'respective': 0.0, 'lipmanoasysdtnavymil': 0.009259259259259259, 'four': 0.004629629629629629, 'please': 0.004629629629629629, 'thanksrobert': 0.004629629629629629, 'voicenet': 0.004629629629629629, 'remote': 0.0, 'group': 0.004629629629629629, 'mar': 0.004629629629629629, 'submission': 0.004629629629629629, 'officesan': 0.0, 'sure': 0.0, 'need': 0.004629629629629629, 'called': 0.0, 'presentation': 0.018518518518518517, 'taylor': 0.009259259259259259, 'aspects': 0.004629629629629629, 'system': 0.004629629629629629, 'lipmanoasysdtnavymilauthors': 0.004629629629629629, 'westonucssunsdsuedudepartment': 0.0, 'writescan': 0.0, 'received': 0.004629629629629629, 'compgraphicsdistribution': 0.004629629629629629, 'easy': 0.0, 'daves': 0.0, 'functions': 0.0, 'usenet': 0.0, 'used': 0.0, 'serviceslines': 0.0, 'got': 0.0, 'tp': 0.0, 'creates': 0.0, 'bundled': 0.0, 'alreadydone': 0.0, 'applicable': 0.0, 'tga': 0.0, 'anddefinitely': 0.0, 'porternewsgroups': 0.0, 'reproduced': 0.004629629629629629, 'think': 0.0, 'input': 0.0, 'downloaded': 0.0, 'papers': 0.004629629629629629, 'whole': 0.0, 'warfare': 0.009259259259259259, 'tricksi': 0.0, 'developments': 0.004629629629629629, 'diego': 0.0, 'arjed': 0.0, 'n': 0.0, 'frustrating': 0.0, 'getting': 0.0, 'byohaccepted': 0.004629629629629629, 'file': 0.0, 'video': 0.004629629629629629, 'etc': 0.0, 'ucssunsdsuedugnuplot': 0.0, 'must': 0.004629629629629629, 'seminarmessageid': 0.004629629629629629, 'robert': 0.018518518518518517, 'havethe': 0.0, 'regular': 0.004629629629629629, 'viewgraphs': 0.004629629629629629, 'specific': 0.0, 'author': 0.004629629629629629, 'navy': 0.023148148148148147, 'model': 0.004629629629629629, 'whose': 0.0, 'deadline': 0.004629629629629629, 'crash': 0.0, 'valued': 0.0, 'ryan': 0.0, 'dtaxexe': 0.0, 'stockingslonglegs\\t\\t\\t\\t': 0.004629629629629629, 'abstract': 0.004629629629629629, 'kenneth': 0.0, 'ibm': 0.0, 'timejust': 0.0, 'virginiadate': 0.0, 'msdosuploads': 0.0, 'sippmessageid': 0.0, 'joe': 0.0, 'tham': 0.0, '\\t': 0.004629629629629629, 'ab': 0.0, 'compgraphicsaltgraphicscompgraphicsanimationsubject': 0.004629629629629629, 'going': 0.0, 'voice': 0.004629629629629629, 'center\\t': 0.004629629629629629, 'notification': 0.004629629629629629, 'morphwithout': 0.0, 'jnaucsusledu': 0.0, 'first': 0.0, 'environment': 0.0, 'morph': 0.0, 'materials': 0.009259259259259259, 'gmtorganization': 0.0, 'may': 0.004629629629629629, 'also': 0.0, 'purpose': 0.004629629629629629, 'cantaloupesrvcscmuedudasnewsharvardeduogicseuwmeduzaphodmpsohiostateedudarwinsuranetdtixdtnavymiloasyslipmanfrom': 0.004629629629629629, 'nntppostinghost': 0.0, 'neurosurgical': 0.0, 'proceedings': 0.004629629629629629, 'like': 0.0}, {'complete': 0.01694915254237288, 'view': 0.0, 'laboratory': 0.0, 'hassle': 0.0, 'vendors': 0.0, 'oasysexpires': 0.0, 'philosophy': 0.01694915254237288, 'types': 0.0, 'polygon': 0.0, 'cis': 0.0, 'verywell': 0.0, 'fax': 0.0, 'florida': 0.0, 'notreadytospreadtothemasses': 0.0, 'simple': 0.0, 'took': 0.0, 'work': 0.01694915254237288, 'center\\t\\t\\t': 0.0, 'post': 0.0, 'andor': 0.0, 'standalone': 0.0, 'uses': 0.0, 'real': 0.01694915254237288, 'tell': 0.0, 'recently': 0.0, 'naval': 0.0, 'presentations\\t': 0.0, 'describing': 0.0, 'newest': 0.0, 'cdnswc': 0.0, 'information': 0.0, 'organizations': 0.0, 'interface': 0.0, 'separate': 0.0, 'westonucssunsdsuedu': 0.01694915254237288, 'could': 0.0, 'apr': 0.01694915254237288, 'systems': 0.0, 'hints': 0.0, 'never': 0.0, 'nswc': 0.0, 'address\\t': 0.0, 'exchange': 0.0, 'internet': 0.0, 'kphqvirginiaeduuniversity': 0.0, 'else': 0.0, 'altgraphics': 0.0, 'research': 0.0, 'oasysdtnavymildate': 0.0, 'respond': 0.0, 'plotting': 0.01694915254237288, 'using': 0.0, 'however': 0.0, 'anyone': 0.0, 'rendering': 0.0, 'usenetmurdochaccvirginiaedureplyto': 0.0, 'scivizvr': 0.0, 'sun': 0.0, 'mdtorganization': 0.0, 'shieks': 0.0, 'compgraphicssubject': 0.01694915254237288, 'reality': 0.0, 'names': 0.0, 'pointersthanx': 0.01694915254237288, 'acceptance': 0.0, 'path': 0.01694915254237288, 'away': 0.0, 'written': 0.0, 'short': 0.0, 'center': 0.0, 'cantaloupesrvcscmueducrabapplesrvcscmuedufsececmuedueuropaenggtefsdcomemorywupostuscnewshubsdsueduucssunsdsuedusdsueduwestonfrom': 0.01694915254237288, 'make': 0.01694915254237288, 'proposed': 0.0, 'advancetom': 0.01694915254237288, 'type': 0.0, 'ask': 0.01694915254237288, 'jay': 0.0, 'software': 0.0, 'maryland': 0.0, 'aprusleduorganization': 0.0, 'demonstration': 0.0, 'cantaloupesrvcscmueducrabapplesrvcscmuedufsececmuedueuropaenggtefsdcomgatechasuvaxcsutexasedusddhpcomcaenuvaarpamurdochonyxcsvirginiaedukphqfrom': 0.0, 'representation': 0.01694915254237288, 'reproduction': 0.0, 'renderman': 0.0, 'snoopypqlhninnkreferences': 0.0, 'user': 0.0, 'university': 0.0, 'greatly': 0.0, 'hello': 0.0, 'would': 0.01694915254237288, 'armstrong': 0.0, 'unix': 0.0, 'dtax': 0.0, 'carderock': 0.0, 'phishnet': 0.0, 'arrays': 0.01694915254237288, 'vectorvalued': 0.01694915254237288, 'contact': 0.0, 'morphing': 0.0, 'oneday': 0.0, 'try': 0.0, 'processor': 0.0, 'david': 0.0, 'state': 0.01694915254237288, 'ness': 0.0, 'canadalines': 0.0, 'option': 0.0, 'sixth': 0.0, 'comes': 0.0, 'aprusledu': 0.0, 'lipmanoasysdtnavymildavid': 0.0, 'well': 0.0, 'pcs': 0.0, 'addresses': 0.0, 'sdsu': 0.01694915254237288, 'values': 0.01694915254237288, 'navyrelated': 0.0, 'arrowheads': 0.01694915254237288, 'call': 0.0, '\\t\\t\\tcall': 0.0, 'figure': 0.0, 'mdlines': 0.0, 'compgraphics': 0.0, 'ordtaxexei': 0.0, 'offer': 0.0, 'seminar': 0.0, 'cyxljmzbmurdochaccvirginiaedusender': 0.0, 'variablesbut': 0.01694915254237288, 'article': 0.0, 'hours': 0.0, 'cantaloupesrvcscmuedu': 0.0, 'want': 0.01694915254237288, 'distribute': 0.0, 'noticed': 0.0, 'abstact': 0.0, 'wuarchivethey': 0.0, 'pqlhninnksnoopycisufledudate': 0.0, 'dmorfx': 0.0, 'ive': 0.0, 'gmtlines': 0.0, 'one': 0.0, 'virginia': 0.0, 'means': 0.0, 'xmemory': 0.0, 'workstation': 0.0, 'attendeesabstracts': 0.0, 'dtaexe': 0.0, 'experiences': 0.0, 'create': 0.0, 'considered': 0.0, 'bunch': 0.0, 'program': 0.0, 'engineering': 0.0, 'virtual': 0.0, 'coconutcisufleduin': 0.0, 'signatures': 0.0, 'bit': 0.0, 'cantaloupesrvcscmuedudasnewsharvardeduogicseuwmeduzaphodmpsohiostateeducaenusenetcisufledurapfrom': 0.0, 'code': 0.0, 'files': 0.0, 'whether': 0.01694915254237288, 'thamjoe': 0.0, 'horribly': 0.0, 'weston': 0.03389830508474576, 'gmtarticleid': 0.0, 'videotape': 0.0, 'sent': 0.0, 'factsnet': 0.0, 'directoryon': 0.0, 'care': 0.0, 'thanks': 0.0, 'jothersysedmontonabca': 0.0, 'hinckleyorganization': 0.0, 'purchasing': 0.0, 'edmonton': 0.0, '\\tattend': 0.0, 'sponsoring': 0.0, 'contactdeadlines': 0.0, 'plot': 0.03389830508474576, 'several': 0.0, 'since': 0.0, 'formerly': 0.0, 'published': 0.0, 'comphumanfactors': 0.0, 'adresses': 0.0, 'via': 0.0, 'thing': 0.0, 'present': 0.0, 'length': 0.0, 'find': 0.0, 'tnewsgroups': 0.01694915254237288, 'butbefore': 0.01694915254237288, 'surface': 0.0, 'homesan': 0.01694915254237288, 'lipmanfollowupto': 0.0, 'possible': 0.0, 'xref': 0.0, 'possibleken': 0.0, 'interestthankskenps': 0.0, 'computing': 0.01694915254237288, 'sick': 0.0, 'dmorphmessageid': 0.0, 'visualization': 0.0, 'current': 0.0, 'authors': 0.0, 'applicationspresentations': 0.0, 'right': 0.0, 'hinckley': 0.0, 'fornavyrelated': 0.0, 'routines': 0.0, 'submit': 0.0, 'thought': 0.01694915254237288, 'wondering': 0.0, 'bethesda': 0.0, 'worksinprogress': 0.0, 'minutes': 0.0, 'seminar\\t\\t\\ttuesday': 0.0, 'source': 0.0, 'thamnewsgroups': 0.0, 'around': 0.0, 'vectors': 0.01694915254237288, 'easily': 0.0, 'june': 0.0, 'image': 0.0, 'numbers': 0.0, 'neededmessageid': 0.0, 'april': 0.0, 'capability': 0.0, 'ftp': 0.0, 'sipp': 0.0, 'compsyshpnewsgroups': 0.0, 'ie': 0.0, 'structures': 0.0, 'deptlines': 0.0, 'point': 0.0, 'hinckleysubject': 0.0, 'messageid': 0.01694915254237288, 'hp': 0.0, 'yfxjbwwersysedmontonabcadate': 0.0, 'afternoons': 0.0, 'aaplayexethere': 0.0, 'amdeveloping': 0.0, 'library': 0.0, 'email': 0.0, 'ca': 0.01694915254237288, 'gets': 0.0, 'version': 0.0, 'scientific': 0.0, 'rapcoconutcisufledu': 0.0, 'pc': 0.0, 'telephone': 0.0, 'maintaining': 0.0, 'dont': 0.0, 'pqeafcpandorasdsuedunntppostinghost': 0.01694915254237288, 'compgraphicsanimationpath': 0.0, 'someone': 0.01694915254237288, 'dmorphdmorf': 0.0, 'workjnajnausleduryanrapcisufledu': 0.0, 'helpful': 0.0, 'sufficient': 0.0, 'solicited': 0.0, 'vendor': 0.0, 'mon': 0.0, 'dta': 0.0, 'splines': 0.0, 'basin': 0.0, 'functionsdate': 0.01694915254237288, 'sheeps': 0.0, 'multiauthor': 0.0, 'available': 0.0, 'impressive': 0.0, 'page': 0.0, 'accessible': 0.0, 'comphumanfactorscompgraphicscompsyshppath': 0.0, 'avoid': 0.0, 'lipmannewsgroups': 0.0, 'marylandsponsor': 0.0, 'appreciate': 0.0, 'youfigure': 0.0, 'found': 0.0, 'division': 0.0, 'versionsdmorfxexe': 0.0, 'gmtreplyto': 0.0, 'programmes': 0.0, 'kphqonyxcsvirginiaedu': 0.0, 'programs': 0.0, 'durned': 0.0, 'assembler': 0.0, 'last': 0.0, 'buggy': 0.0, 'affiliations': 0.0, 'lipoceandtnavymilcomputational': 0.0, 'include': 0.0, 'univ': 0.01694915254237288, 'arrows': 0.01694915254237288, 'cantaloupesrvcscmueducrabapplesrvcscmuedufsececmuedueuropaenggtefsdcomgatechasuvaxcsutexaseduzaphodmpsohiostateedusaimiriprimatewisceduusenetcoemontanaedunewsuwashingtoneduuwbeavercsubccaunixgubccakakwaucsualbertacaersysjothfrom': 0.0, 'presentations': 0.0, 'usaorganization': 0.0, 'summary': 0.0, 'add': 0.0, 'looking': 0.0, 'widely': 0.0, 'week': 0.0, 'graphical': 0.01694915254237288, 'lipman': 0.0, 'designate': 0.0, 'respective': 0.0, 'lipmanoasysdtnavymil': 0.0, 'four': 0.0, 'please': 0.0, 'thanksrobert': 0.0, 'voicenet': 0.0, 'remote': 0.0, 'group': 0.0, 'mar': 0.0, 'submission': 0.0, 'officesan': 0.01694915254237288, 'sure': 0.0, 'need': 0.0, 'called': 0.0, 'presentation': 0.0, 'taylor': 0.0, 'aspects': 0.0, 'system': 0.0, 'lipmanoasysdtnavymilauthors': 0.0, 'westonucssunsdsuedudepartment': 0.01694915254237288, 'writescan': 0.0, 'received': 0.0, 'compgraphicsdistribution': 0.0, 'easy': 0.01694915254237288, 'daves': 0.0, 'functions': 0.03389830508474576, 'usenet': 0.01694915254237288, 'used': 0.0, 'serviceslines': 0.01694915254237288, 'got': 0.0, 'tp': 0.0, 'creates': 0.0, 'bundled': 0.0, 'alreadydone': 0.01694915254237288, 'applicable': 0.0, 'tga': 0.0, 'anddefinitely': 0.0, 'porternewsgroups': 0.0, 'reproduced': 0.0, 'think': 0.0, 'input': 0.0, 'downloaded': 0.0, 'papers': 0.0, 'whole': 0.0, 'warfare': 0.0, 'tricksi': 0.0, 'developments': 0.0, 'diego': 0.03389830508474576, 'arjed': 0.0, 'n': 0.0, 'frustrating': 0.0, 'getting': 0.0, 'byohaccepted': 0.0, 'file': 0.0, 'video': 0.0, 'etc': 0.01694915254237288, 'ucssunsdsuedugnuplot': 0.01694915254237288, 'must': 0.0, 'seminarmessageid': 0.0, 'robert': 0.0, 'havethe': 0.0, 'regular': 0.0, 'viewgraphs': 0.0, 'specific': 0.0, 'author': 0.0, 'navy': 0.0, 'model': 0.0, 'whose': 0.01694915254237288, 'deadline': 0.0, 'crash': 0.0, 'valued': 0.01694915254237288, 'ryan': 0.0, 'dtaxexe': 0.0, 'stockingslonglegs\\t\\t\\t\\t': 0.0, 'abstract': 0.0, 'kenneth': 0.0, 'ibm': 0.0, 'timejust': 0.0, 'virginiadate': 0.0, 'msdosuploads': 0.0, 'sippmessageid': 0.0, 'joe': 0.0, 'tham': 0.0, '\\t': 0.0, 'ab': 0.0, 'compgraphicsaltgraphicscompgraphicsanimationsubject': 0.0, 'going': 0.01694915254237288, 'voice': 0.0, 'center\\t': 0.0, 'notification': 0.0, 'morphwithout': 0.0, 'jnaucsusledu': 0.0, 'first': 0.0, 'environment': 0.0, 'morph': 0.0, 'materials': 0.0, 'gmtorganization': 0.01694915254237288, 'may': 0.0, 'also': 0.0, 'purpose': 0.0, 'cantaloupesrvcscmuedudasnewsharvardeduogicseuwmeduzaphodmpsohiostateedudarwinsuranetdtixdtnavymiloasyslipmanfrom': 0.0, 'nntppostinghost': 0.0, 'neurosurgical': 0.0, 'proceedings': 0.0, 'like': 0.0}, {'complete': 0.0, 'view': 0.00847457627118644, 'laboratory': 0.0, 'hassle': 0.0, 'vendors': 0.0, 'oasysexpires': 0.0, 'philosophy': 0.0, 'types': 0.0, 'polygon': 0.0, 'cis': 0.00847457627118644, 'verywell': 0.00847457627118644, 'fax': 0.0, 'florida': 0.00847457627118644, 'notreadytospreadtothemasses': 0.00847457627118644, 'simple': 0.0, 'took': 0.00847457627118644, 'work': 0.00847457627118644, 'center\\t\\t\\t': 0.0, 'post': 0.0, 'andor': 0.0, 'standalone': 0.0, 'uses': 0.0, 'real': 0.0, 'tell': 0.01694915254237288, 'recently': 0.0, 'naval': 0.0, 'presentations\\t': 0.0, 'describing': 0.0, 'newest': 0.0, 'cdnswc': 0.0, 'information': 0.0, 'organizations': 0.0, 'interface': 0.00847457627118644, 'separate': 0.0, 'westonucssunsdsuedu': 0.0, 'could': 0.0, 'apr': 0.00847457627118644, 'systems': 0.0, 'hints': 0.00847457627118644, 'never': 0.0, 'nswc': 0.0, 'address\\t': 0.0, 'exchange': 0.0, 'internet': 0.0, 'kphqvirginiaeduuniversity': 0.0, 'else': 0.00847457627118644, 'altgraphics': 0.0, 'research': 0.0, 'oasysdtnavymildate': 0.0, 'respond': 0.0, 'plotting': 0.0, 'using': 0.00847457627118644, 'however': 0.0, 'anyone': 0.00847457627118644, 'rendering': 0.0, 'usenetmurdochaccvirginiaedureplyto': 0.0, 'scivizvr': 0.0, 'sun': 0.0, 'mdtorganization': 0.0, 'shieks': 0.0, 'compgraphicssubject': 0.00847457627118644, 'reality': 0.0, 'names': 0.0, 'pointersthanx': 0.0, 'acceptance': 0.0, 'path': 0.00847457627118644, 'away': 0.00847457627118644, 'written': 0.01694915254237288, 'short': 0.0, 'center': 0.0, 'cantaloupesrvcscmueducrabapplesrvcscmuedufsececmuedueuropaenggtefsdcomemorywupostuscnewshubsdsueduucssunsdsuedusdsueduwestonfrom': 0.0, 'make': 0.0, 'proposed': 0.0, 'advancetom': 0.0, 'type': 0.0, 'ask': 0.0, 'jay': 0.00847457627118644, 'software': 0.0, 'maryland': 0.0, 'aprusleduorganization': 0.00847457627118644, 'demonstration': 0.0, 'cantaloupesrvcscmueducrabapplesrvcscmuedufsececmuedueuropaenggtefsdcomgatechasuvaxcsutexasedusddhpcomcaenuvaarpamurdochonyxcsvirginiaedukphqfrom': 0.0, 'representation': 0.0, 'reproduction': 0.0, 'renderman': 0.0, 'snoopypqlhninnkreferences': 0.00847457627118644, 'user': 0.0, 'university': 0.0, 'greatly': 0.0, 'hello': 0.0, 'would': 0.00847457627118644, 'armstrong': 0.00847457627118644, 'unix': 0.0, 'dtax': 0.00847457627118644, 'carderock': 0.0, 'phishnet': 0.0, 'arrays': 0.0, 'vectorvalued': 0.0, 'contact': 0.0, 'morphing': 0.00847457627118644, 'oneday': 0.0, 'try': 0.00847457627118644, 'processor': 0.0, 'david': 0.0, 'state': 0.0, 'ness': 0.0, 'canadalines': 0.0, 'option': 0.00847457627118644, 'sixth': 0.0, 'comes': 0.00847457627118644, 'aprusledu': 0.00847457627118644, 'lipmanoasysdtnavymildavid': 0.0, 'well': 0.0, 'pcs': 0.0, 'addresses': 0.0, 'sdsu': 0.0, 'values': 0.0, 'navyrelated': 0.0, 'arrowheads': 0.0, 'call': 0.0, '\\t\\t\\tcall': 0.0, 'figure': 0.00847457627118644, 'mdlines': 0.0, 'compgraphics': 0.0, 'ordtaxexei': 0.00847457627118644, 'offer': 0.0, 'seminar': 0.0, 'cyxljmzbmurdochaccvirginiaedusender': 0.0, 'variablesbut': 0.0, 'article': 0.00847457627118644, 'hours': 0.00847457627118644, 'cantaloupesrvcscmuedu': 0.0, 'want': 0.0, 'distribute': 0.0, 'noticed': 0.00847457627118644, 'abstact': 0.0, 'wuarchivethey': 0.00847457627118644, 'pqlhninnksnoopycisufledudate': 0.00847457627118644, 'dmorfx': 0.00847457627118644, 'ive': 0.0, 'gmtlines': 0.0, 'one': 0.0, 'virginia': 0.0, 'means': 0.00847457627118644, 'xmemory': 0.00847457627118644, 'workstation': 0.0, 'attendeesabstracts': 0.0, 'dtaexe': 0.00847457627118644, 'experiences': 0.0, 'create': 0.00847457627118644, 'considered': 0.0, 'bunch': 0.00847457627118644, 'program': 0.0, 'engineering': 0.0, 'virtual': 0.0, 'coconutcisufleduin': 0.00847457627118644, 'signatures': 0.0, 'bit': 0.00847457627118644, 'cantaloupesrvcscmuedudasnewsharvardeduogicseuwmeduzaphodmpsohiostateeducaenusenetcisufledurapfrom': 0.00847457627118644, 'code': 0.0, 'files': 0.00847457627118644, 'whether': 0.0, 'thamjoe': 0.0, 'horribly': 0.00847457627118644, 'weston': 0.0, 'gmtarticleid': 0.00847457627118644, 'videotape': 0.0, 'sent': 0.0, 'factsnet': 0.0, 'directoryon': 0.00847457627118644, 'care': 0.0, 'thanks': 0.0, 'jothersysedmontonabca': 0.0, 'hinckleyorganization': 0.0, 'purchasing': 0.0, 'edmonton': 0.0, '\\tattend': 0.0, 'sponsoring': 0.0, 'contactdeadlines': 0.0, 'plot': 0.0, 'several': 0.00847457627118644, 'since': 0.01694915254237288, 'formerly': 0.0, 'published': 0.0, 'comphumanfactors': 0.0, 'adresses': 0.0, 'via': 0.0, 'thing': 0.00847457627118644, 'present': 0.0, 'length': 0.0, 'find': 0.00847457627118644, 'tnewsgroups': 0.0, 'butbefore': 0.0, 'surface': 0.0, 'homesan': 0.0, 'lipmanfollowupto': 0.0, 'possible': 0.0, 'xref': 0.0, 'possibleken': 0.0, 'interestthankskenps': 0.0, 'computing': 0.0, 'sick': 0.0, 'dmorphmessageid': 0.00847457627118644, 'visualization': 0.0, 'current': 0.0, 'authors': 0.0, 'applicationspresentations': 0.0, 'right': 0.00847457627118644, 'hinckley': 0.0, 'fornavyrelated': 0.0, 'routines': 0.0, 'submit': 0.0, 'thought': 0.0, 'wondering': 0.0, 'bethesda': 0.0, 'worksinprogress': 0.0, 'minutes': 0.0, 'seminar\\t\\t\\ttuesday': 0.0, 'source': 0.00847457627118644, 'thamnewsgroups': 0.0, 'around': 0.0, 'vectors': 0.0, 'easily': 0.0, 'june': 0.0, 'image': 0.0, 'numbers': 0.0, 'neededmessageid': 0.0, 'april': 0.0, 'capability': 0.0, 'ftp': 0.00847457627118644, 'sipp': 0.0, 'compsyshpnewsgroups': 0.0, 'ie': 0.0, 'structures': 0.0, 'deptlines': 0.00847457627118644, 'point': 0.0, 'hinckleysubject': 0.0, 'messageid': 0.0, 'hp': 0.0, 'yfxjbwwersysedmontonabcadate': 0.0, 'afternoons': 0.00847457627118644, 'aaplayexethere': 0.00847457627118644, 'amdeveloping': 0.0, 'library': 0.0, 'email': 0.0, 'ca': 0.0, 'gets': 0.00847457627118644, 'version': 0.00847457627118644, 'scientific': 0.0, 'rapcoconutcisufledu': 0.00847457627118644, 'pc': 0.0, 'telephone': 0.0, 'maintaining': 0.0, 'dont': 0.00847457627118644, 'pqeafcpandorasdsuedunntppostinghost': 0.0, 'compgraphicsanimationpath': 0.0, 'someone': 0.00847457627118644, 'dmorphdmorf': 0.00847457627118644, 'workjnajnausleduryanrapcisufledu': 0.00847457627118644, 'helpful': 0.0, 'sufficient': 0.0, 'solicited': 0.0, 'vendor': 0.0, 'mon': 0.0, 'dta': 0.00847457627118644, 'splines': 0.01694915254237288, 'basin': 0.0, 'functionsdate': 0.0, 'sheeps': 0.0, 'multiauthor': 0.0, 'available': 0.00847457627118644, 'impressive': 0.0, 'page': 0.0, 'accessible': 0.0, 'comphumanfactorscompgraphicscompsyshppath': 0.0, 'avoid': 0.0, 'lipmannewsgroups': 0.0, 'marylandsponsor': 0.0, 'appreciate': 0.0, 'youfigure': 0.00847457627118644, 'found': 0.0, 'division': 0.0, 'versionsdmorfxexe': 0.00847457627118644, 'gmtreplyto': 0.0, 'programmes': 0.00847457627118644, 'kphqonyxcsvirginiaedu': 0.0, 'programs': 0.0, 'durned': 0.00847457627118644, 'assembler': 0.00847457627118644, 'last': 0.00847457627118644, 'buggy': 0.00847457627118644, 'affiliations': 0.0, 'lipoceandtnavymilcomputational': 0.0, 'include': 0.0, 'univ': 0.00847457627118644, 'arrows': 0.0, 'cantaloupesrvcscmueducrabapplesrvcscmuedufsececmuedueuropaenggtefsdcomgatechasuvaxcsutexaseduzaphodmpsohiostateedusaimiriprimatewisceduusenetcoemontanaedunewsuwashingtoneduuwbeavercsubccaunixgubccakakwaucsualbertacaersysjothfrom': 0.0, 'presentations': 0.0, 'usaorganization': 0.0, 'summary': 0.0, 'add': 0.0, 'looking': 0.0, 'widely': 0.0, 'week': 0.00847457627118644, 'graphical': 0.0, 'lipman': 0.0, 'designate': 0.0, 'respective': 0.00847457627118644, 'lipmanoasysdtnavymil': 0.0, 'four': 0.0, 'please': 0.00847457627118644, 'thanksrobert': 0.0, 'voicenet': 0.0, 'remote': 0.0, 'group': 0.0, 'mar': 0.0, 'submission': 0.0, 'officesan': 0.0, 'sure': 0.00847457627118644, 'need': 0.0, 'called': 0.0, 'presentation': 0.0, 'taylor': 0.0, 'aspects': 0.0, 'system': 0.0, 'lipmanoasysdtnavymilauthors': 0.0, 'westonucssunsdsuedudepartment': 0.0, 'writescan': 0.00847457627118644, 'received': 0.0, 'compgraphicsdistribution': 0.0, 'easy': 0.00847457627118644, 'daves': 0.01694915254237288, 'functions': 0.0, 'usenet': 0.0, 'used': 0.00847457627118644, 'serviceslines': 0.0, 'got': 0.0, 'tp': 0.00847457627118644, 'creates': 0.0, 'bundled': 0.00847457627118644, 'alreadydone': 0.0, 'applicable': 0.0, 'tga': 0.00847457627118644, 'anddefinitely': 0.00847457627118644, 'porternewsgroups': 0.00847457627118644, 'reproduced': 0.0, 'think': 0.01694915254237288, 'input': 0.0, 'downloaded': 0.00847457627118644, 'papers': 0.0, 'whole': 0.00847457627118644, 'warfare': 0.0, 'tricksi': 0.00847457627118644, 'developments': 0.0, 'diego': 0.0, 'arjed': 0.00847457627118644, 'n': 0.00847457627118644, 'frustrating': 0.00847457627118644, 'getting': 0.00847457627118644, 'byohaccepted': 0.0, 'file': 0.0, 'video': 0.0, 'etc': 0.0, 'ucssunsdsuedugnuplot': 0.0, 'must': 0.0, 'seminarmessageid': 0.0, 'robert': 0.0, 'havethe': 0.00847457627118644, 'regular': 0.0, 'viewgraphs': 0.0, 'specific': 0.0, 'author': 0.0, 'navy': 0.0, 'model': 0.0, 'whose': 0.0, 'deadline': 0.0, 'crash': 0.00847457627118644, 'valued': 0.0, 'ryan': 0.00847457627118644, 'dtaxexe': 0.00847457627118644, 'stockingslonglegs\\t\\t\\t\\t': 0.0, 'abstract': 0.0, 'kenneth': 0.0, 'ibm': 0.0, 'timejust': 0.00847457627118644, 'virginiadate': 0.0, 'msdosuploads': 0.00847457627118644, 'sippmessageid': 0.0, 'joe': 0.0, 'tham': 0.0, '\\t': 0.0, 'ab': 0.0, 'compgraphicsaltgraphicscompgraphicsanimationsubject': 0.0, 'going': 0.0, 'voice': 0.0, 'center\\t': 0.0, 'notification': 0.0, 'morphwithout': 0.00847457627118644, 'jnaucsusledu': 0.00847457627118644, 'first': 0.01694915254237288, 'environment': 0.0, 'morph': 0.00847457627118644, 'materials': 0.0, 'gmtorganization': 0.0, 'may': 0.0, 'also': 0.00847457627118644, 'purpose': 0.0, 'cantaloupesrvcscmuedudasnewsharvardeduogicseuwmeduzaphodmpsohiostateedudarwinsuranetdtixdtnavymiloasyslipmanfrom': 0.0, 'nntppostinghost': 0.00847457627118644, 'neurosurgical': 0.0, 'proceedings': 0.0, 'like': 0.0}, {'complete': 0.0, 'view': 0.0, 'laboratory': 0.01098901098901099, 'hassle': 0.01098901098901099, 'vendors': 0.01098901098901099, 'oasysexpires': 0.0, 'philosophy': 0.0, 'types': 0.0, 'polygon': 0.0, 'cis': 0.0, 'verywell': 0.0, 'fax': 0.0, 'florida': 0.0, 'notreadytospreadtothemasses': 0.0, 'simple': 0.0, 'took': 0.0, 'work': 0.0, 'center\\t\\t\\t': 0.0, 'post': 0.01098901098901099, 'andor': 0.0, 'standalone': 0.0, 'uses': 0.0, 'real': 0.0, 'tell': 0.0, 'recently': 0.0, 'naval': 0.0, 'presentations\\t': 0.0, 'describing': 0.0, 'newest': 0.0, 'cdnswc': 0.0, 'information': 0.02197802197802198, 'organizations': 0.0, 'interface': 0.01098901098901099, 'separate': 0.01098901098901099, 'westonucssunsdsuedu': 0.0, 'could': 0.0, 'apr': 0.01098901098901099, 'systems': 0.03296703296703297, 'hints': 0.0, 'never': 0.0, 'nswc': 0.0, 'address\\t': 0.0, 'exchange': 0.0, 'internet': 0.0, 'kphqvirginiaeduuniversity': 0.01098901098901099, 'else': 0.0, 'altgraphics': 0.0, 'research': 0.0, 'oasysdtnavymildate': 0.0, 'respond': 0.01098901098901099, 'plotting': 0.0, 'using': 0.0, 'however': 0.0, 'anyone': 0.01098901098901099, 'rendering': 0.0, 'usenetmurdochaccvirginiaedureplyto': 0.01098901098901099, 'scivizvr': 0.0, 'sun': 0.01098901098901099, 'mdtorganization': 0.0, 'shieks': 0.0, 'compgraphicssubject': 0.0, 'reality': 0.0, 'names': 0.01098901098901099, 'pointersthanx': 0.0, 'acceptance': 0.0, 'path': 0.0, 'away': 0.0, 'written': 0.0, 'short': 0.0, 'center': 0.0, 'cantaloupesrvcscmueducrabapplesrvcscmuedufsececmuedueuropaenggtefsdcomemorywupostuscnewshubsdsueduucssunsdsuedusdsueduwestonfrom': 0.0, 'make': 0.0, 'proposed': 0.0, 'advancetom': 0.0, 'type': 0.0, 'ask': 0.0, 'jay': 0.0, 'software': 0.0, 'maryland': 0.0, 'aprusleduorganization': 0.0, 'demonstration': 0.0, 'cantaloupesrvcscmueducrabapplesrvcscmuedufsececmuedueuropaenggtefsdcomgatechasuvaxcsutexasedusddhpcomcaenuvaarpamurdochonyxcsvirginiaedukphqfrom': 0.01098901098901099, 'representation': 0.0, 'reproduction': 0.0, 'renderman': 0.0, 'snoopypqlhninnkreferences': 0.0, 'user': 0.01098901098901099, 'university': 0.01098901098901099, 'greatly': 0.01098901098901099, 'hello': 0.01098901098901099, 'would': 0.04395604395604396, 'armstrong': 0.0, 'unix': 0.02197802197802198, 'dtax': 0.0, 'carderock': 0.0, 'phishnet': 0.0, 'arrays': 0.0, 'vectorvalued': 0.0, 'contact': 0.0, 'morphing': 0.0, 'oneday': 0.0, 'try': 0.0, 'processor': 0.0, 'david': 0.0, 'state': 0.0, 'ness': 0.0, 'canadalines': 0.0, 'option': 0.0, 'sixth': 0.0, 'comes': 0.0, 'aprusledu': 0.0, 'lipmanoasysdtnavymildavid': 0.0, 'well': 0.01098901098901099, 'pcs': 0.01098901098901099, 'addresses': 0.0, 'sdsu': 0.0, 'values': 0.0, 'navyrelated': 0.0, 'arrowheads': 0.0, 'call': 0.0, '\\t\\t\\tcall': 0.0, 'figure': 0.0, 'mdlines': 0.0, 'compgraphics': 0.01098901098901099, 'ordtaxexei': 0.0, 'offer': 0.01098901098901099, 'seminar': 0.0, 'cyxljmzbmurdochaccvirginiaedusender': 0.01098901098901099, 'variablesbut': 0.0, 'article': 0.0, 'hours': 0.0, 'cantaloupesrvcscmuedu': 0.01098901098901099, 'want': 0.0, 'distribute': 0.0, 'noticed': 0.0, 'abstact': 0.0, 'wuarchivethey': 0.0, 'pqlhninnksnoopycisufledudate': 0.0, 'dmorfx': 0.0, 'ive': 0.0, 'gmtlines': 0.01098901098901099, 'one': 0.0, 'virginia': 0.01098901098901099, 'means': 0.0, 'xmemory': 0.0, 'workstation': 0.01098901098901099, 'attendeesabstracts': 0.0, 'dtaexe': 0.0, 'experiences': 0.01098901098901099, 'create': 0.0, 'considered': 0.0, 'bunch': 0.0, 'program': 0.0, 'engineering': 0.0, 'virtual': 0.0, 'coconutcisufleduin': 0.0, 'signatures': 0.0, 'bit': 0.0, 'cantaloupesrvcscmuedudasnewsharvardeduogicseuwmeduzaphodmpsohiostateeducaenusenetcisufledurapfrom': 0.0, 'code': 0.0, 'files': 0.0, 'whether': 0.0, 'thamjoe': 0.0, 'horribly': 0.0, 'weston': 0.0, 'gmtarticleid': 0.0, 'videotape': 0.0, 'sent': 0.0, 'factsnet': 0.0, 'directoryon': 0.0, 'care': 0.01098901098901099, 'thanks': 0.0, 'jothersysedmontonabca': 0.0, 'hinckleyorganization': 0.01098901098901099, 'purchasing': 0.01098901098901099, 'edmonton': 0.0, '\\tattend': 0.0, 'sponsoring': 0.0, 'contactdeadlines': 0.0, 'plot': 0.0, 'several': 0.01098901098901099, 'since': 0.0, 'formerly': 0.0, 'published': 0.0, 'comphumanfactors': 0.01098901098901099, 'adresses': 0.01098901098901099, 'via': 0.01098901098901099, 'thing': 0.0, 'present': 0.0, 'length': 0.0, 'find': 0.0, 'tnewsgroups': 0.0, 'butbefore': 0.0, 'surface': 0.0, 'homesan': 0.0, 'lipmanfollowupto': 0.0, 'possible': 0.0, 'xref': 0.01098901098901099, 'possibleken': 0.01098901098901099, 'interestthankskenps': 0.01098901098901099, 'computing': 0.0, 'sick': 0.0, 'dmorphmessageid': 0.0, 'visualization': 0.01098901098901099, 'current': 0.0, 'authors': 0.0, 'applicationspresentations': 0.0, 'right': 0.0, 'hinckley': 0.01098901098901099, 'fornavyrelated': 0.0, 'routines': 0.0, 'submit': 0.0, 'thought': 0.0, 'wondering': 0.0, 'bethesda': 0.0, 'worksinprogress': 0.0, 'minutes': 0.0, 'seminar\\t\\t\\ttuesday': 0.0, 'source': 0.0, 'thamnewsgroups': 0.0, 'around': 0.0, 'vectors': 0.0, 'easily': 0.01098901098901099, 'june': 0.0, 'image': 0.0, 'numbers': 0.0, 'neededmessageid': 0.01098901098901099, 'april': 0.0, 'capability': 0.01098901098901099, 'ftp': 0.0, 'sipp': 0.0, 'compsyshpnewsgroups': 0.01098901098901099, 'ie': 0.0, 'structures': 0.0, 'deptlines': 0.0, 'point': 0.0, 'hinckleysubject': 0.01098901098901099, 'messageid': 0.0, 'hp': 0.01098901098901099, 'yfxjbwwersysedmontonabcadate': 0.0, 'afternoons': 0.0, 'aaplayexethere': 0.0, 'amdeveloping': 0.01098901098901099, 'library': 0.0, 'email': 0.01098901098901099, 'ca': 0.0, 'gets': 0.0, 'version': 0.0, 'scientific': 0.0, 'rapcoconutcisufledu': 0.0, 'pc': 0.01098901098901099, 'telephone': 0.0, 'maintaining': 0.01098901098901099, 'dont': 0.0, 'pqeafcpandorasdsuedunntppostinghost': 0.0, 'compgraphicsanimationpath': 0.0, 'someone': 0.0, 'dmorphdmorf': 0.0, 'workjnajnausleduryanrapcisufledu': 0.0, 'helpful': 0.01098901098901099, 'sufficient': 0.01098901098901099, 'solicited': 0.0, 'vendor': 0.01098901098901099, 'mon': 0.0, 'dta': 0.0, 'splines': 0.0, 'basin': 0.0, 'functionsdate': 0.0, 'sheeps': 0.0, 'multiauthor': 0.0, 'available': 0.0, 'impressive': 0.01098901098901099, 'page': 0.0, 'accessible': 0.01098901098901099, 'comphumanfactorscompgraphicscompsyshppath': 0.01098901098901099, 'avoid': 0.01098901098901099, 'lipmannewsgroups': 0.0, 'marylandsponsor': 0.0, 'appreciate': 0.01098901098901099, 'youfigure': 0.0, 'found': 0.01098901098901099, 'division': 0.0, 'versionsdmorfxexe': 0.0, 'gmtreplyto': 0.0, 'programmes': 0.0, 'kphqonyxcsvirginiaedu': 0.02197802197802198, 'programs': 0.0, 'durned': 0.0, 'assembler': 0.0, 'last': 0.0, 'buggy': 0.0, 'affiliations': 0.0, 'lipoceandtnavymilcomputational': 0.0, 'include': 0.0, 'univ': 0.0, 'arrows': 0.0, 'cantaloupesrvcscmueducrabapplesrvcscmuedufsececmuedueuropaenggtefsdcomgatechasuvaxcsutexaseduzaphodmpsohiostateedusaimiriprimatewisceduusenetcoemontanaedunewsuwashingtoneduuwbeavercsubccaunixgubccakakwaucsualbertacaersysjothfrom': 0.0, 'presentations': 0.0, 'usaorganization': 0.0, 'summary': 0.01098901098901099, 'add': 0.01098901098901099, 'looking': 0.01098901098901099, 'widely': 0.0, 'week': 0.0, 'graphical': 0.0, 'lipman': 0.0, 'designate': 0.0, 'respective': 0.0, 'lipmanoasysdtnavymil': 0.0, 'four': 0.0, 'please': 0.01098901098901099, 'thanksrobert': 0.0, 'voicenet': 0.0, 'remote': 0.0, 'group': 0.0, 'mar': 0.0, 'submission': 0.0, 'officesan': 0.0, 'sure': 0.0, 'need': 0.0, 'called': 0.0, 'presentation': 0.0, 'taylor': 0.0, 'aspects': 0.0, 'system': 0.0, 'lipmanoasysdtnavymilauthors': 0.0, 'westonucssunsdsuedudepartment': 0.0, 'writescan': 0.0, 'received': 0.0, 'compgraphicsdistribution': 0.0, 'easy': 0.0, 'daves': 0.0, 'functions': 0.0, 'usenet': 0.0, 'used': 0.0, 'serviceslines': 0.0, 'got': 0.0, 'tp': 0.0, 'creates': 0.0, 'bundled': 0.0, 'alreadydone': 0.0, 'applicable': 0.01098901098901099, 'tga': 0.0, 'anddefinitely': 0.0, 'porternewsgroups': 0.0, 'reproduced': 0.0, 'think': 0.0, 'input': 0.03296703296703297, 'downloaded': 0.0, 'papers': 0.0, 'whole': 0.0, 'warfare': 0.0, 'tricksi': 0.0, 'developments': 0.0, 'diego': 0.0, 'arjed': 0.0, 'n': 0.0, 'frustrating': 0.0, 'getting': 0.0, 'byohaccepted': 0.0, 'file': 0.0, 'video': 0.0, 'etc': 0.0, 'ucssunsdsuedugnuplot': 0.0, 'must': 0.0, 'seminarmessageid': 0.0, 'robert': 0.0, 'havethe': 0.0, 'regular': 0.0, 'viewgraphs': 0.0, 'specific': 0.01098901098901099, 'author': 0.0, 'navy': 0.0, 'model': 0.0, 'whose': 0.0, 'deadline': 0.0, 'crash': 0.0, 'valued': 0.0, 'ryan': 0.0, 'dtaxexe': 0.0, 'stockingslonglegs\\t\\t\\t\\t': 0.0, 'abstract': 0.0, 'kenneth': 0.02197802197802198, 'ibm': 0.01098901098901099, 'timejust': 0.0, 'virginiadate': 0.01098901098901099, 'msdosuploads': 0.0, 'sippmessageid': 0.0, 'joe': 0.0, 'tham': 0.0, '\\t': 0.0, 'ab': 0.0, 'compgraphicsaltgraphicscompgraphicsanimationsubject': 0.0, 'going': 0.0, 'voice': 0.03296703296703297, 'center\\t': 0.0, 'notification': 0.0, 'morphwithout': 0.0, 'jnaucsusledu': 0.0, 'first': 0.0, 'environment': 0.01098901098901099, 'morph': 0.0, 'materials': 0.0, 'gmtorganization': 0.0, 'may': 0.0, 'also': 0.0, 'purpose': 0.0, 'cantaloupesrvcscmuedudasnewsharvardeduogicseuwmeduzaphodmpsohiostateedudarwinsuranetdtixdtnavymiloasyslipmanfrom': 0.0, 'nntppostinghost': 0.0, 'neurosurgical': 0.01098901098901099, 'proceedings': 0.0, 'like': 0.01098901098901099}, {'complete': 0.0, 'view': 0.0, 'laboratory': 0.0, 'hassle': 0.0, 'vendors': 0.0, 'oasysexpires': 0.0, 'philosophy': 0.0, 'types': 0.0, 'polygon': 0.015873015873015872, 'cis': 0.0, 'verywell': 0.0, 'fax': 0.0, 'florida': 0.0, 'notreadytospreadtothemasses': 0.0, 'simple': 0.015873015873015872, 'took': 0.0, 'work': 0.0, 'center\\t\\t\\t': 0.0, 'post': 0.0, 'andor': 0.0, 'standalone': 0.0, 'uses': 0.015873015873015872, 'real': 0.0, 'tell': 0.015873015873015872, 'recently': 0.015873015873015872, 'naval': 0.0, 'presentations\\t': 0.0, 'describing': 0.015873015873015872, 'newest': 0.015873015873015872, 'cdnswc': 0.0, 'information': 0.0, 'organizations': 0.0, 'interface': 0.0, 'separate': 0.0, 'westonucssunsdsuedu': 0.0, 'could': 0.015873015873015872, 'apr': 0.015873015873015872, 'systems': 0.015873015873015872, 'hints': 0.0, 'never': 0.015873015873015872, 'nswc': 0.0, 'address\\t': 0.0, 'exchange': 0.0, 'internet': 0.0, 'kphqvirginiaeduuniversity': 0.0, 'else': 0.0, 'altgraphics': 0.0, 'research': 0.0, 'oasysdtnavymildate': 0.0, 'respond': 0.0, 'plotting': 0.0, 'using': 0.0, 'however': 0.0, 'anyone': 0.015873015873015872, 'rendering': 0.031746031746031744, 'usenetmurdochaccvirginiaedureplyto': 0.0, 'scivizvr': 0.0, 'sun': 0.0, 'mdtorganization': 0.015873015873015872, 'shieks': 0.0, 'compgraphicssubject': 0.015873015873015872, 'reality': 0.0, 'names': 0.0, 'pointersthanx': 0.0, 'acceptance': 0.0, 'path': 0.015873015873015872, 'away': 0.0, 'written': 0.0, 'short': 0.0, 'center': 0.0, 'cantaloupesrvcscmueducrabapplesrvcscmuedufsececmuedueuropaenggtefsdcomemorywupostuscnewshubsdsueduucssunsdsuedusdsueduwestonfrom': 0.0, 'make': 0.015873015873015872, 'proposed': 0.0, 'advancetom': 0.0, 'type': 0.0, 'ask': 0.0, 'jay': 0.0, 'software': 0.0, 'maryland': 0.0, 'aprusleduorganization': 0.0, 'demonstration': 0.0, 'cantaloupesrvcscmueducrabapplesrvcscmuedufsececmuedueuropaenggtefsdcomgatechasuvaxcsutexasedusddhpcomcaenuvaarpamurdochonyxcsvirginiaedukphqfrom': 0.0, 'representation': 0.0, 'reproduction': 0.0, 'renderman': 0.031746031746031744, 'snoopypqlhninnkreferences': 0.0, 'user': 0.0, 'university': 0.0, 'greatly': 0.0, 'hello': 0.0, 'would': 0.0, 'armstrong': 0.0, 'unix': 0.0, 'dtax': 0.0, 'carderock': 0.0, 'phishnet': 0.0, 'arrays': 0.0, 'vectorvalued': 0.0, 'contact': 0.0, 'morphing': 0.0, 'oneday': 0.0, 'try': 0.0, 'processor': 0.015873015873015872, 'david': 0.0, 'state': 0.0, 'ness': 0.0, 'canadalines': 0.015873015873015872, 'option': 0.0, 'sixth': 0.0, 'comes': 0.0, 'aprusledu': 0.0, 'lipmanoasysdtnavymildavid': 0.0, 'well': 0.0, 'pcs': 0.0, 'addresses': 0.0, 'sdsu': 0.0, 'values': 0.0, 'navyrelated': 0.0, 'arrowheads': 0.0, 'call': 0.0, '\\t\\t\\tcall': 0.0, 'figure': 0.0, 'mdlines': 0.0, 'compgraphics': 0.0, 'ordtaxexei': 0.0, 'offer': 0.0, 'seminar': 0.0, 'cyxljmzbmurdochaccvirginiaedusender': 0.0, 'variablesbut': 0.0, 'article': 0.0, 'hours': 0.0, 'cantaloupesrvcscmuedu': 0.0, 'want': 0.0, 'distribute': 0.0, 'noticed': 0.0, 'abstact': 0.0, 'wuarchivethey': 0.0, 'pqlhninnksnoopycisufledudate': 0.0, 'dmorfx': 0.0, 'ive': 0.015873015873015872, 'gmtlines': 0.0, 'one': 0.015873015873015872, 'virginia': 0.0, 'means': 0.0, 'xmemory': 0.0, 'workstation': 0.0, 'attendeesabstracts': 0.0, 'dtaexe': 0.0, 'experiences': 0.0, 'create': 0.0, 'considered': 0.0, 'bunch': 0.0, 'program': 0.015873015873015872, 'engineering': 0.0, 'virtual': 0.0, 'coconutcisufleduin': 0.0, 'signatures': 0.0, 'bit': 0.0, 'cantaloupesrvcscmuedudasnewsharvardeduogicseuwmeduzaphodmpsohiostateeducaenusenetcisufledurapfrom': 0.0, 'code': 0.015873015873015872, 'files': 0.0, 'whether': 0.0, 'thamjoe': 0.015873015873015872, 'horribly': 0.0, 'weston': 0.0, 'gmtarticleid': 0.0, 'videotape': 0.0, 'sent': 0.0, 'factsnet': 0.0, 'directoryon': 0.0, 'care': 0.0, 'thanks': 0.015873015873015872, 'jothersysedmontonabca': 0.031746031746031744, 'hinckleyorganization': 0.0, 'purchasing': 0.0, 'edmonton': 0.031746031746031744, '\\tattend': 0.0, 'sponsoring': 0.0, 'contactdeadlines': 0.0, 'plot': 0.0, 'several': 0.0, 'since': 0.0, 'formerly': 0.0, 'published': 0.0, 'comphumanfactors': 0.0, 'adresses': 0.0, 'via': 0.0, 'thing': 0.0, 'present': 0.0, 'length': 0.0, 'find': 0.015873015873015872, 'tnewsgroups': 0.0, 'butbefore': 0.0, 'surface': 0.0, 'homesan': 0.0, 'lipmanfollowupto': 0.0, 'possible': 0.0, 'xref': 0.0, 'possibleken': 0.0, 'interestthankskenps': 0.0, 'computing': 0.0, 'sick': 0.0, 'dmorphmessageid': 0.0, 'visualization': 0.0, 'current': 0.0, 'authors': 0.0, 'applicationspresentations': 0.0, 'right': 0.0, 'hinckley': 0.0, 'fornavyrelated': 0.0, 'routines': 0.031746031746031744, 'submit': 0.0, 'thought': 0.0, 'wondering': 0.015873015873015872, 'bethesda': 0.0, 'worksinprogress': 0.0, 'minutes': 0.0, 'seminar\\t\\t\\ttuesday': 0.0, 'source': 0.015873015873015872, 'thamnewsgroups': 0.015873015873015872, 'around': 0.015873015873015872, 'vectors': 0.0, 'easily': 0.0, 'june': 0.0, 'image': 0.015873015873015872, 'numbers': 0.0, 'neededmessageid': 0.0, 'april': 0.0, 'capability': 0.0, 'ftp': 0.015873015873015872, 'sipp': 0.031746031746031744, 'compsyshpnewsgroups': 0.0, 'ie': 0.015873015873015872, 'structures': 0.0, 'deptlines': 0.0, 'point': 0.0, 'hinckleysubject': 0.0, 'messageid': 0.0, 'hp': 0.0, 'yfxjbwwersysedmontonabcadate': 0.015873015873015872, 'afternoons': 0.0, 'aaplayexethere': 0.0, 'amdeveloping': 0.0, 'library': 0.031746031746031744, 'email': 0.0, 'ca': 0.0, 'gets': 0.0, 'version': 0.015873015873015872, 'scientific': 0.0, 'rapcoconutcisufledu': 0.0, 'pc': 0.0, 'telephone': 0.0, 'maintaining': 0.0, 'dont': 0.0, 'pqeafcpandorasdsuedunntppostinghost': 0.0, 'compgraphicsanimationpath': 0.0, 'someone': 0.0, 'dmorphdmorf': 0.0, 'workjnajnausleduryanrapcisufledu': 0.0, 'helpful': 0.0, 'sufficient': 0.0, 'solicited': 0.0, 'vendor': 0.0, 'mon': 0.015873015873015872, 'dta': 0.0, 'splines': 0.0, 'basin': 0.0, 'functionsdate': 0.0, 'sheeps': 0.0, 'multiauthor': 0.0, 'available': 0.0, 'impressive': 0.0, 'page': 0.0, 'accessible': 0.0, 'comphumanfactorscompgraphicscompsyshppath': 0.0, 'avoid': 0.0, 'lipmannewsgroups': 0.0, 'marylandsponsor': 0.0, 'appreciate': 0.0, 'youfigure': 0.0, 'found': 0.0, 'division': 0.0, 'versionsdmorfxexe': 0.0, 'gmtreplyto': 0.0, 'programmes': 0.0, 'kphqonyxcsvirginiaedu': 0.0, 'programs': 0.0, 'durned': 0.0, 'assembler': 0.0, 'last': 0.0, 'buggy': 0.0, 'affiliations': 0.0, 'lipoceandtnavymilcomputational': 0.0, 'include': 0.0, 'univ': 0.0, 'arrows': 0.0, 'cantaloupesrvcscmueducrabapplesrvcscmuedufsececmuedueuropaenggtefsdcomgatechasuvaxcsutexaseduzaphodmpsohiostateedusaimiriprimatewisceduusenetcoemontanaedunewsuwashingtoneduuwbeavercsubccaunixgubccakakwaucsualbertacaersysjothfrom': 0.015873015873015872, 'presentations': 0.0, 'usaorganization': 0.0, 'summary': 0.0, 'add': 0.0, 'looking': 0.0, 'widely': 0.0, 'week': 0.0, 'graphical': 0.0, 'lipman': 0.0, 'designate': 0.0, 'respective': 0.0, 'lipmanoasysdtnavymil': 0.0, 'four': 0.0, 'please': 0.0, 'thanksrobert': 0.0, 'voicenet': 0.0, 'remote': 0.015873015873015872, 'group': 0.0, 'mar': 0.0, 'submission': 0.0, 'officesan': 0.0, 'sure': 0.0, 'need': 0.0, 'called': 0.015873015873015872, 'presentation': 0.0, 'taylor': 0.0, 'aspects': 0.0, 'system': 0.0, 'lipmanoasysdtnavymilauthors': 0.0, 'westonucssunsdsuedudepartment': 0.0, 'writescan': 0.0, 'received': 0.0, 'compgraphicsdistribution': 0.0, 'easy': 0.0, 'daves': 0.0, 'functions': 0.0, 'usenet': 0.0, 'used': 0.015873015873015872, 'serviceslines': 0.0, 'got': 0.015873015873015872, 'tp': 0.0, 'creates': 0.015873015873015872, 'bundled': 0.0, 'alreadydone': 0.0, 'applicable': 0.0, 'tga': 0.0, 'anddefinitely': 0.0, 'porternewsgroups': 0.0, 'reproduced': 0.0, 'think': 0.0, 'input': 0.0, 'downloaded': 0.0, 'papers': 0.0, 'whole': 0.0, 'warfare': 0.0, 'tricksi': 0.0, 'developments': 0.0, 'diego': 0.0, 'arjed': 0.0, 'n': 0.0, 'frustrating': 0.0, 'getting': 0.0, 'byohaccepted': 0.0, 'file': 0.015873015873015872, 'video': 0.0, 'etc': 0.0, 'ucssunsdsuedugnuplot': 0.0, 'must': 0.0, 'seminarmessageid': 0.0, 'robert': 0.0, 'havethe': 0.0, 'regular': 0.0, 'viewgraphs': 0.0, 'specific': 0.0, 'author': 0.0, 'navy': 0.0, 'model': 0.0, 'whose': 0.0, 'deadline': 0.0, 'crash': 0.0, 'valued': 0.0, 'ryan': 0.0, 'dtaxexe': 0.0, 'stockingslonglegs\\t\\t\\t\\t': 0.0, 'abstract': 0.0, 'kenneth': 0.0, 'ibm': 0.0, 'timejust': 0.0, 'virginiadate': 0.0, 'msdosuploads': 0.0, 'sippmessageid': 0.015873015873015872, 'joe': 0.031746031746031744, 'tham': 0.015873015873015872, '\\t': 0.0, 'ab': 0.015873015873015872, 'compgraphicsaltgraphicscompgraphicsanimationsubject': 0.0, 'going': 0.0, 'voice': 0.0, 'center\\t': 0.0, 'notification': 0.0, 'morphwithout': 0.0, 'jnaucsusledu': 0.0, 'first': 0.0, 'environment': 0.0, 'morph': 0.0, 'materials': 0.0, 'gmtorganization': 0.0, 'may': 0.0, 'also': 0.015873015873015872, 'purpose': 0.0, 'cantaloupesrvcscmuedudasnewsharvardeduogicseuwmeduzaphodmpsohiostateedudarwinsuranetdtixdtnavymiloasyslipmanfrom': 0.0, 'nntppostinghost': 0.0, 'neurosurgical': 0.0, 'proceedings': 0.0, 'like': 0.015873015873015872}]\n"
     ]
    }
   ],
   "source": [
    "tfbow = []       \n",
    "for i,j in zip(worddict,bow): #worddict is a list of dictionaries\n",
    "    tfbow.append(term_freq(i,j))\n",
    "\n",
    "#tfbow is a list of dictionaries. ith dictionary in tfbow is the tfdict of ith document \n",
    "\n",
    "print(tfbow)"
   ]
  },
  {
   "cell_type": "code",
   "execution_count": 14,
   "metadata": {
    "id": "Wq8lI5AXf4N5"
   },
   "outputs": [],
   "source": [
    "def idf(doclist):\n",
    "    '''\n",
    "    Parameters:\n",
    "        doclist - list of dictionaries \n",
    "    Process:\n",
    "        returns a dictionary containing key value pairs of words and number of documents\n",
    "        that words occurs in. \n",
    "        The process is described in detail below.\n",
    "    Output:\n",
    "        idfdict - dictionary \n",
    "    '''\n",
    "    idfdict={}\n",
    "    n = len(doclist)\n",
    "    idfdict = dict.fromkeys(doclist[0].keys(),0)\n",
    "    #initializes idfdict as a dictionary which has same keys as doclist[0] and value of each key is 0\n",
    "    for doc in doclist:\n",
    "        for word,val in doc.items():\n",
    "            if val>0:\n",
    "                idfdict[word]+=1\n",
    "    #now idfdict has total occurences of each word in all of the documents\n",
    "    #note that multiple occurences of a word in one document is considered as 1\n",
    "    #hence if value of a key is... for eg: {'king':2,....} \n",
    "    #this means that the word king has appeared in 2 documents\n",
    "    for word,val in idfdict.items():\n",
    "        idfdict[word]=math.log(n/float(val)) \n",
    "        #computes log (total num of documents/no. of documents that contain a particular word)n\n",
    "    return idfdict\n"
   ]
  },
  {
   "cell_type": "code",
   "execution_count": 15,
   "metadata": {
    "colab": {
     "base_uri": "https://localhost:8080/"
    },
    "id": "PVOYqvLJjy_1",
    "outputId": "247dcf9e-6fbc-475c-c6f8-0e4acf3af1f2"
   },
   "outputs": [
    {
     "name": "stdout",
     "output_type": "stream",
     "text": [
      "{'complete': 1.6094379124341003, 'view': 1.6094379124341003, 'laboratory': 1.6094379124341003, 'hassle': 1.6094379124341003, 'vendors': 1.6094379124341003, 'oasysexpires': 1.6094379124341003, 'philosophy': 1.6094379124341003, 'types': 1.6094379124341003, 'polygon': 1.6094379124341003, 'cis': 1.6094379124341003, 'verywell': 1.6094379124341003, 'fax': 1.6094379124341003, 'florida': 1.6094379124341003, 'notreadytospreadtothemasses': 1.6094379124341003, 'simple': 1.6094379124341003, 'took': 1.6094379124341003, 'work': 0.5108256237659907, 'center\\t\\t\\t': 1.6094379124341003, 'post': 1.6094379124341003, 'andor': 1.6094379124341003, 'standalone': 1.6094379124341003, 'uses': 1.6094379124341003, 'real': 1.6094379124341003, 'tell': 0.9162907318741551, 'recently': 1.6094379124341003, 'naval': 1.6094379124341003, 'presentations\\t': 1.6094379124341003, 'describing': 1.6094379124341003, 'newest': 1.6094379124341003, 'cdnswc': 1.6094379124341003, 'information': 0.9162907318741551, 'organizations': 1.6094379124341003, 'interface': 0.9162907318741551, 'separate': 1.6094379124341003, 'westonucssunsdsuedu': 1.6094379124341003, 'could': 1.6094379124341003, 'apr': 0.0, 'systems': 0.9162907318741551, 'hints': 1.6094379124341003, 'never': 1.6094379124341003, 'nswc': 1.6094379124341003, 'address\\t': 1.6094379124341003, 'exchange': 1.6094379124341003, 'internet': 1.6094379124341003, 'kphqvirginiaeduuniversity': 1.6094379124341003, 'else': 1.6094379124341003, 'altgraphics': 1.6094379124341003, 'research': 1.6094379124341003, 'oasysdtnavymildate': 1.6094379124341003, 'respond': 1.6094379124341003, 'plotting': 1.6094379124341003, 'using': 1.6094379124341003, 'however': 1.6094379124341003, 'anyone': 0.5108256237659907, 'rendering': 1.6094379124341003, 'usenetmurdochaccvirginiaedureplyto': 1.6094379124341003, 'scivizvr': 1.6094379124341003, 'sun': 1.6094379124341003, 'mdtorganization': 1.6094379124341003, 'shieks': 1.6094379124341003, 'compgraphicssubject': 0.5108256237659907, 'reality': 1.6094379124341003, 'names': 1.6094379124341003, 'pointersthanx': 1.6094379124341003, 'acceptance': 1.6094379124341003, 'path': 0.5108256237659907, 'away': 1.6094379124341003, 'written': 1.6094379124341003, 'short': 1.6094379124341003, 'center': 1.6094379124341003, 'cantaloupesrvcscmueducrabapplesrvcscmuedufsececmuedueuropaenggtefsdcomemorywupostuscnewshubsdsueduucssunsdsuedusdsueduwestonfrom': 1.6094379124341003, 'make': 0.9162907318741551, 'proposed': 1.6094379124341003, 'advancetom': 1.6094379124341003, 'type': 1.6094379124341003, 'ask': 1.6094379124341003, 'jay': 1.6094379124341003, 'software': 1.6094379124341003, 'maryland': 1.6094379124341003, 'aprusleduorganization': 1.6094379124341003, 'demonstration': 1.6094379124341003, 'cantaloupesrvcscmueducrabapplesrvcscmuedufsececmuedueuropaenggtefsdcomgatechasuvaxcsutexasedusddhpcomcaenuvaarpamurdochonyxcsvirginiaedukphqfrom': 1.6094379124341003, 'representation': 1.6094379124341003, 'reproduction': 1.6094379124341003, 'renderman': 1.6094379124341003, 'snoopypqlhninnkreferences': 1.6094379124341003, 'user': 1.6094379124341003, 'university': 1.6094379124341003, 'greatly': 1.6094379124341003, 'hello': 1.6094379124341003, 'would': 0.5108256237659907, 'armstrong': 1.6094379124341003, 'unix': 1.6094379124341003, 'dtax': 1.6094379124341003, 'carderock': 1.6094379124341003, 'phishnet': 1.6094379124341003, 'arrays': 1.6094379124341003, 'vectorvalued': 1.6094379124341003, 'contact': 1.6094379124341003, 'morphing': 1.6094379124341003, 'oneday': 1.6094379124341003, 'try': 1.6094379124341003, 'processor': 1.6094379124341003, 'david': 1.6094379124341003, 'state': 1.6094379124341003, 'ness': 1.6094379124341003, 'canadalines': 1.6094379124341003, 'option': 1.6094379124341003, 'sixth': 1.6094379124341003, 'comes': 1.6094379124341003, 'aprusledu': 1.6094379124341003, 'lipmanoasysdtnavymildavid': 1.6094379124341003, 'well': 1.6094379124341003, 'pcs': 1.6094379124341003, 'addresses': 1.6094379124341003, 'sdsu': 1.6094379124341003, 'values': 1.6094379124341003, 'navyrelated': 1.6094379124341003, 'arrowheads': 1.6094379124341003, 'call': 1.6094379124341003, '\\t\\t\\tcall': 1.6094379124341003, 'figure': 1.6094379124341003, 'mdlines': 1.6094379124341003, 'compgraphics': 0.9162907318741551, 'ordtaxexei': 1.6094379124341003, 'offer': 1.6094379124341003, 'seminar': 1.6094379124341003, 'cyxljmzbmurdochaccvirginiaedusender': 1.6094379124341003, 'variablesbut': 1.6094379124341003, 'article': 1.6094379124341003, 'hours': 1.6094379124341003, 'cantaloupesrvcscmuedu': 0.9162907318741551, 'want': 1.6094379124341003, 'distribute': 1.6094379124341003, 'noticed': 1.6094379124341003, 'abstact': 1.6094379124341003, 'wuarchivethey': 1.6094379124341003, 'pqlhninnksnoopycisufledudate': 1.6094379124341003, 'dmorfx': 1.6094379124341003, 'ive': 1.6094379124341003, 'gmtlines': 1.6094379124341003, 'one': 0.9162907318741551, 'virginia': 1.6094379124341003, 'means': 1.6094379124341003, 'xmemory': 1.6094379124341003, 'workstation': 1.6094379124341003, 'attendeesabstracts': 1.6094379124341003, 'dtaexe': 1.6094379124341003, 'experiences': 1.6094379124341003, 'create': 1.6094379124341003, 'considered': 1.6094379124341003, 'bunch': 1.6094379124341003, 'program': 1.6094379124341003, 'engineering': 1.6094379124341003, 'virtual': 1.6094379124341003, 'coconutcisufleduin': 1.6094379124341003, 'signatures': 1.6094379124341003, 'bit': 1.6094379124341003, 'cantaloupesrvcscmuedudasnewsharvardeduogicseuwmeduzaphodmpsohiostateeducaenusenetcisufledurapfrom': 1.6094379124341003, 'code': 0.9162907318741551, 'files': 1.6094379124341003, 'whether': 1.6094379124341003, 'thamjoe': 1.6094379124341003, 'horribly': 1.6094379124341003, 'weston': 1.6094379124341003, 'gmtarticleid': 0.9162907318741551, 'videotape': 1.6094379124341003, 'sent': 1.6094379124341003, 'factsnet': 1.6094379124341003, 'directoryon': 1.6094379124341003, 'care': 1.6094379124341003, 'thanks': 1.6094379124341003, 'jothersysedmontonabca': 1.6094379124341003, 'hinckleyorganization': 1.6094379124341003, 'purchasing': 1.6094379124341003, 'edmonton': 1.6094379124341003, '\\tattend': 1.6094379124341003, 'sponsoring': 1.6094379124341003, 'contactdeadlines': 1.6094379124341003, 'plot': 1.6094379124341003, 'several': 0.9162907318741551, 'since': 1.6094379124341003, 'formerly': 1.6094379124341003, 'published': 1.6094379124341003, 'comphumanfactors': 1.6094379124341003, 'adresses': 1.6094379124341003, 'via': 1.6094379124341003, 'thing': 1.6094379124341003, 'present': 1.6094379124341003, 'length': 1.6094379124341003, 'find': 0.9162907318741551, 'tnewsgroups': 1.6094379124341003, 'butbefore': 1.6094379124341003, 'surface': 1.6094379124341003, 'homesan': 1.6094379124341003, 'lipmanfollowupto': 1.6094379124341003, 'possible': 1.6094379124341003, 'xref': 0.9162907318741551, 'possibleken': 1.6094379124341003, 'interestthankskenps': 1.6094379124341003, 'computing': 1.6094379124341003, 'sick': 1.6094379124341003, 'dmorphmessageid': 1.6094379124341003, 'visualization': 0.9162907318741551, 'current': 1.6094379124341003, 'authors': 1.6094379124341003, 'applicationspresentations': 1.6094379124341003, 'right': 1.6094379124341003, 'hinckley': 1.6094379124341003, 'fornavyrelated': 1.6094379124341003, 'routines': 1.6094379124341003, 'submit': 1.6094379124341003, 'thought': 1.6094379124341003, 'wondering': 1.6094379124341003, 'bethesda': 1.6094379124341003, 'worksinprogress': 1.6094379124341003, 'minutes': 1.6094379124341003, 'seminar\\t\\t\\ttuesday': 1.6094379124341003, 'source': 0.9162907318741551, 'thamnewsgroups': 1.6094379124341003, 'around': 1.6094379124341003, 'vectors': 1.6094379124341003, 'easily': 1.6094379124341003, 'june': 1.6094379124341003, 'image': 1.6094379124341003, 'numbers': 1.6094379124341003, 'neededmessageid': 1.6094379124341003, 'april': 1.6094379124341003, 'capability': 1.6094379124341003, 'ftp': 0.9162907318741551, 'sipp': 1.6094379124341003, 'compsyshpnewsgroups': 1.6094379124341003, 'ie': 1.6094379124341003, 'structures': 1.6094379124341003, 'deptlines': 1.6094379124341003, 'point': 1.6094379124341003, 'hinckleysubject': 1.6094379124341003, 'messageid': 1.6094379124341003, 'hp': 1.6094379124341003, 'yfxjbwwersysedmontonabcadate': 1.6094379124341003, 'afternoons': 1.6094379124341003, 'aaplayexethere': 1.6094379124341003, 'amdeveloping': 1.6094379124341003, 'library': 1.6094379124341003, 'email': 0.9162907318741551, 'ca': 1.6094379124341003, 'gets': 1.6094379124341003, 'version': 0.9162907318741551, 'scientific': 1.6094379124341003, 'rapcoconutcisufledu': 1.6094379124341003, 'pc': 1.6094379124341003, 'telephone': 1.6094379124341003, 'maintaining': 1.6094379124341003, 'dont': 1.6094379124341003, 'pqeafcpandorasdsuedunntppostinghost': 1.6094379124341003, 'compgraphicsanimationpath': 1.6094379124341003, 'someone': 0.9162907318741551, 'dmorphdmorf': 1.6094379124341003, 'workjnajnausleduryanrapcisufledu': 1.6094379124341003, 'helpful': 1.6094379124341003, 'sufficient': 1.6094379124341003, 'solicited': 1.6094379124341003, 'vendor': 1.6094379124341003, 'mon': 1.6094379124341003, 'dta': 1.6094379124341003, 'splines': 1.6094379124341003, 'basin': 1.6094379124341003, 'functionsdate': 1.6094379124341003, 'sheeps': 1.6094379124341003, 'multiauthor': 1.6094379124341003, 'available': 0.9162907318741551, 'impressive': 1.6094379124341003, 'page': 1.6094379124341003, 'accessible': 1.6094379124341003, 'comphumanfactorscompgraphicscompsyshppath': 1.6094379124341003, 'avoid': 1.6094379124341003, 'lipmannewsgroups': 1.6094379124341003, 'marylandsponsor': 1.6094379124341003, 'appreciate': 1.6094379124341003, 'youfigure': 1.6094379124341003, 'found': 1.6094379124341003, 'division': 1.6094379124341003, 'versionsdmorfxexe': 1.6094379124341003, 'gmtreplyto': 1.6094379124341003, 'programmes': 1.6094379124341003, 'kphqonyxcsvirginiaedu': 1.6094379124341003, 'programs': 1.6094379124341003, 'durned': 1.6094379124341003, 'assembler': 1.6094379124341003, 'last': 1.6094379124341003, 'buggy': 1.6094379124341003, 'affiliations': 1.6094379124341003, 'lipoceandtnavymilcomputational': 1.6094379124341003, 'include': 1.6094379124341003, 'univ': 0.9162907318741551, 'arrows': 1.6094379124341003, 'cantaloupesrvcscmueducrabapplesrvcscmuedufsececmuedueuropaenggtefsdcomgatechasuvaxcsutexaseduzaphodmpsohiostateedusaimiriprimatewisceduusenetcoemontanaedunewsuwashingtoneduuwbeavercsubccaunixgubccakakwaucsualbertacaersysjothfrom': 1.6094379124341003, 'presentations': 1.6094379124341003, 'usaorganization': 1.6094379124341003, 'summary': 1.6094379124341003, 'add': 1.6094379124341003, 'looking': 1.6094379124341003, 'widely': 1.6094379124341003, 'week': 1.6094379124341003, 'graphical': 1.6094379124341003, 'lipman': 1.6094379124341003, 'designate': 1.6094379124341003, 'respective': 1.6094379124341003, 'lipmanoasysdtnavymil': 1.6094379124341003, 'four': 1.6094379124341003, 'please': 0.5108256237659907, 'thanksrobert': 1.6094379124341003, 'voicenet': 1.6094379124341003, 'remote': 1.6094379124341003, 'group': 1.6094379124341003, 'mar': 1.6094379124341003, 'submission': 1.6094379124341003, 'officesan': 1.6094379124341003, 'sure': 1.6094379124341003, 'need': 1.6094379124341003, 'called': 1.6094379124341003, 'presentation': 1.6094379124341003, 'taylor': 1.6094379124341003, 'aspects': 1.6094379124341003, 'system': 1.6094379124341003, 'lipmanoasysdtnavymilauthors': 1.6094379124341003, 'westonucssunsdsuedudepartment': 1.6094379124341003, 'writescan': 1.6094379124341003, 'received': 1.6094379124341003, 'compgraphicsdistribution': 1.6094379124341003, 'easy': 0.9162907318741551, 'daves': 1.6094379124341003, 'functions': 1.6094379124341003, 'usenet': 1.6094379124341003, 'used': 0.9162907318741551, 'serviceslines': 1.6094379124341003, 'got': 1.6094379124341003, 'tp': 1.6094379124341003, 'creates': 1.6094379124341003, 'bundled': 1.6094379124341003, 'alreadydone': 1.6094379124341003, 'applicable': 1.6094379124341003, 'tga': 1.6094379124341003, 'anddefinitely': 1.6094379124341003, 'porternewsgroups': 1.6094379124341003, 'reproduced': 1.6094379124341003, 'think': 1.6094379124341003, 'input': 1.6094379124341003, 'downloaded': 1.6094379124341003, 'papers': 1.6094379124341003, 'whole': 1.6094379124341003, 'warfare': 1.6094379124341003, 'tricksi': 1.6094379124341003, 'developments': 1.6094379124341003, 'diego': 1.6094379124341003, 'arjed': 1.6094379124341003, 'n': 1.6094379124341003, 'frustrating': 1.6094379124341003, 'getting': 1.6094379124341003, 'byohaccepted': 1.6094379124341003, 'file': 1.6094379124341003, 'video': 1.6094379124341003, 'etc': 1.6094379124341003, 'ucssunsdsuedugnuplot': 1.6094379124341003, 'must': 1.6094379124341003, 'seminarmessageid': 1.6094379124341003, 'robert': 1.6094379124341003, 'havethe': 1.6094379124341003, 'regular': 1.6094379124341003, 'viewgraphs': 1.6094379124341003, 'specific': 1.6094379124341003, 'author': 1.6094379124341003, 'navy': 1.6094379124341003, 'model': 1.6094379124341003, 'whose': 1.6094379124341003, 'deadline': 1.6094379124341003, 'crash': 1.6094379124341003, 'valued': 1.6094379124341003, 'ryan': 1.6094379124341003, 'dtaxexe': 1.6094379124341003, 'stockingslonglegs\\t\\t\\t\\t': 1.6094379124341003, 'abstract': 1.6094379124341003, 'kenneth': 1.6094379124341003, 'ibm': 1.6094379124341003, 'timejust': 1.6094379124341003, 'virginiadate': 1.6094379124341003, 'msdosuploads': 1.6094379124341003, 'sippmessageid': 1.6094379124341003, 'joe': 1.6094379124341003, 'tham': 1.6094379124341003, '\\t': 1.6094379124341003, 'ab': 1.6094379124341003, 'compgraphicsaltgraphicscompgraphicsanimationsubject': 1.6094379124341003, 'going': 1.6094379124341003, 'voice': 0.9162907318741551, 'center\\t': 1.6094379124341003, 'notification': 1.6094379124341003, 'morphwithout': 1.6094379124341003, 'jnaucsusledu': 1.6094379124341003, 'first': 1.6094379124341003, 'environment': 1.6094379124341003, 'morph': 1.6094379124341003, 'materials': 1.6094379124341003, 'gmtorganization': 1.6094379124341003, 'may': 1.6094379124341003, 'also': 0.9162907318741551, 'purpose': 1.6094379124341003, 'cantaloupesrvcscmuedudasnewsharvardeduogicseuwmeduzaphodmpsohiostateedudarwinsuranetdtixdtnavymiloasyslipmanfrom': 1.6094379124341003, 'nntppostinghost': 1.6094379124341003, 'neurosurgical': 1.6094379124341003, 'proceedings': 1.6094379124341003, 'like': 0.9162907318741551}\n"
     ]
    }
   ],
   "source": [
    "\n",
    "idfs = idf(worddict) #stores idf value of all words\n",
    "print(idfs)"
   ]
  },
  {
   "cell_type": "code",
   "execution_count": 16,
   "metadata": {
    "id": "fS6EdgdGgB1o"
   },
   "outputs": [],
   "source": [
    "def tfidf(tfbow_dict,idfs):\n",
    "    '''\n",
    "    Parameter: \n",
    "        tfbow_dict - dictionary \n",
    "        idfs - dictionary\n",
    "    Process:\n",
    "        multiplies term frequency with idf of each term \n",
    "    Output: \n",
    "        tfidf - dictionary\n",
    "    '''\n",
    "    tfidf = {}\n",
    "    for word,val in tfbow_dict.items():\n",
    "        tfidf[word]=val*idfs[word] #multiply term freq with idf for each term \n",
    "    return tfidf\n"
   ]
  },
  {
   "cell_type": "code",
   "execution_count": 17,
   "metadata": {
    "colab": {
     "base_uri": "https://localhost:8080/"
    },
    "id": "fmwNmU1ikLNr",
    "outputId": "aa097253-8dc2-462c-91c1-f58e81678210"
   },
   "outputs": [
    {
     "name": "stdout",
     "output_type": "stream",
     "text": [
      "[{'complete': 0.0, 'view': 0.0, 'laboratory': 0.0, 'hassle': 0.0, 'vendors': 0.0, 'oasysexpires': 0.007451101446454168, 'philosophy': 0.0, 'types': 0.007451101446454168, 'polygon': 0.0, 'cis': 0.0, 'verywell': 0.0, 'fax': 0.014902202892908336, 'florida': 0.0, 'notreadytospreadtothemasses': 0.0, 'simple': 0.0, 'took': 0.0, 'work': 0.004729866886722136, 'center\\t\\t\\t': 0.007451101446454168, 'post': 0.0, 'andor': 0.007451101446454168, 'standalone': 0.007451101446454168, 'uses': 0.0, 'real': 0.0, 'tell': 0.0, 'recently': 0.0, 'naval': 0.014902202892908336, 'presentations\\t': 0.007451101446454168, 'describing': 0.0, 'newest': 0.0, 'cdnswc': 0.007451101446454168, 'information': 0.008484173443279213, 'organizations': 0.007451101446454168, 'interface': 0.0, 'separate': 0.0, 'westonucssunsdsuedu': 0.0, 'could': 0.0, 'apr': 0.0, 'systems': 0.0, 'hints': 0.0, 'never': 0.0, 'nswc': 0.007451101446454168, 'address\\t': 0.007451101446454168, 'exchange': 0.007451101446454168, 'internet': 0.007451101446454168, 'kphqvirginiaeduuniversity': 0.0, 'else': 0.0, 'altgraphics': 0.007451101446454168, 'research': 0.014902202892908336, 'oasysdtnavymildate': 0.007451101446454168, 'respond': 0.0, 'plotting': 0.0, 'using': 0.0, 'however': 0.007451101446454168, 'anyone': 0.0, 'rendering': 0.0, 'usenetmurdochaccvirginiaedureplyto': 0.0, 'scivizvr': 0.007451101446454168, 'sun': 0.0, 'mdtorganization': 0.0, 'shieks': 0.007451101446454168, 'compgraphicssubject': 0.0, 'reality': 0.037255507232270835, 'names': 0.0, 'pointersthanx': 0.0, 'acceptance': 0.007451101446454168, 'path': 0.0, 'away': 0.0, 'written': 0.0, 'short': 0.007451101446454168, 'center': 0.007451101446454168, 'cantaloupesrvcscmueducrabapplesrvcscmuedufsececmuedueuropaenggtefsdcomemorywupostuscnewshubsdsueduucssunsdsuedusdsueduwestonfrom': 0.0, 'make': 0.0, 'proposed': 0.007451101446454168, 'advancetom': 0.0, 'type': 0.007451101446454168, 'ask': 0.0, 'jay': 0.0, 'software': 0.007451101446454168, 'maryland': 0.014902202892908336, 'aprusleduorganization': 0.0, 'demonstration': 0.007451101446454168, 'cantaloupesrvcscmueducrabapplesrvcscmuedufsececmuedueuropaenggtefsdcomgatechasuvaxcsutexasedusddhpcomcaenuvaarpamurdochonyxcsvirginiaedukphqfrom': 0.0, 'representation': 0.0, 'reproduction': 0.007451101446454168, 'renderman': 0.0, 'snoopypqlhninnkreferences': 0.0, 'user': 0.0, 'university': 0.0, 'greatly': 0.0, 'hello': 0.0, 'would': 0.0, 'armstrong': 0.0, 'unix': 0.0, 'dtax': 0.0, 'carderock': 0.022353304339362504, 'phishnet': 0.007451101446454168, 'arrays': 0.0, 'vectorvalued': 0.0, 'contact': 0.007451101446454168, 'morphing': 0.0, 'oneday': 0.007451101446454168, 'try': 0.0, 'processor': 0.0, 'david': 0.007451101446454168, 'state': 0.0, 'ness': 0.007451101446454168, 'canadalines': 0.0, 'option': 0.0, 'sixth': 0.014902202892908336, 'comes': 0.0, 'aprusledu': 0.0, 'lipmanoasysdtnavymildavid': 0.007451101446454168, 'well': 0.0, 'pcs': 0.0, 'addresses': 0.014902202892908336, 'sdsu': 0.0, 'values': 0.0, 'navyrelated': 0.007451101446454168, 'arrowheads': 0.0, 'call': 0.007451101446454168, '\\t\\t\\tcall': 0.007451101446454168, 'figure': 0.0, 'mdlines': 0.007451101446454168, 'compgraphics': 0.0042420867216396065, 'ordtaxexei': 0.0, 'offer': 0.0, 'seminar': 0.02980440578581667, 'cyxljmzbmurdochaccvirginiaedusender': 0.0, 'variablesbut': 0.0, 'article': 0.0, 'hours': 0.0, 'cantaloupesrvcscmuedu': 0.0042420867216396065, 'want': 0.0, 'distribute': 0.007451101446454168, 'noticed': 0.0, 'abstact': 0.007451101446454168, 'wuarchivethey': 0.0, 'pqlhninnksnoopycisufledudate': 0.0, 'dmorfx': 0.0, 'ive': 0.0, 'gmtlines': 0.0, 'one': 0.008484173443279213, 'virginia': 0.0, 'means': 0.0, 'xmemory': 0.0, 'workstation': 0.0, 'attendeesabstracts': 0.007451101446454168, 'dtaexe': 0.0, 'experiences': 0.0, 'create': 0.0, 'considered': 0.007451101446454168, 'bunch': 0.0, 'program': 0.0, 'engineering': 0.007451101446454168, 'virtual': 0.037255507232270835, 'coconutcisufleduin': 0.0, 'signatures': 0.007451101446454168, 'bit': 0.0, 'cantaloupesrvcscmuedudasnewsharvardeduogicseuwmeduzaphodmpsohiostateeducaenusenetcisufledurapfrom': 0.0, 'code': 0.008484173443279213, 'files': 0.0, 'whether': 0.0, 'thamjoe': 0.0, 'horribly': 0.0, 'weston': 0.0, 'gmtarticleid': 0.0042420867216396065, 'videotape': 0.014902202892908336, 'sent': 0.007451101446454168, 'factsnet': 0.007451101446454168, 'directoryon': 0.0, 'care': 0.0, 'thanks': 0.0, 'jothersysedmontonabca': 0.0, 'hinckleyorganization': 0.0, 'purchasing': 0.0, 'edmonton': 0.0, '\\tattend': 0.007451101446454168, 'sponsoring': 0.007451101446454168, 'contactdeadlines': 0.007451101446454168, 'plot': 0.0, 'several': 0.0, 'since': 0.0, 'formerly': 0.007451101446454168, 'published': 0.007451101446454168, 'comphumanfactors': 0.0, 'adresses': 0.0, 'via': 0.0, 'thing': 0.0, 'present': 0.007451101446454168, 'length': 0.014902202892908336, 'find': 0.0, 'tnewsgroups': 0.0, 'butbefore': 0.0, 'surface': 0.014902202892908336, 'homesan': 0.0, 'lipmanfollowupto': 0.007451101446454168, 'possible': 0.007451101446454168, 'xref': 0.0042420867216396065, 'possibleken': 0.0, 'interestthankskenps': 0.0, 'computing': 0.0, 'sick': 0.014902202892908336, 'dmorphmessageid': 0.0, 'visualization': 0.021210433608198034, 'current': 0.007451101446454168, 'authors': 0.007451101446454168, 'applicationspresentations': 0.007451101446454168, 'right': 0.0, 'hinckley': 0.0, 'fornavyrelated': 0.007451101446454168, 'routines': 0.0, 'submit': 0.007451101446454168, 'thought': 0.0, 'wondering': 0.0, 'bethesda': 0.02980440578581667, 'worksinprogress': 0.007451101446454168, 'minutes': 0.014902202892908336, 'seminar\\t\\t\\ttuesday': 0.007451101446454168, 'source': 0.0, 'thamnewsgroups': 0.0, 'around': 0.0, 'vectors': 0.0, 'easily': 0.0, 'june': 0.014902202892908336, 'image': 0.0, 'numbers': 0.007451101446454168, 'neededmessageid': 0.0, 'april': 0.007451101446454168, 'capability': 0.0, 'ftp': 0.0, 'sipp': 0.0, 'compsyshpnewsgroups': 0.0, 'ie': 0.0, 'structures': 0.007451101446454168, 'deptlines': 0.0, 'point': 0.007451101446454168, 'hinckleysubject': 0.0, 'messageid': 0.0, 'hp': 0.0, 'yfxjbwwersysedmontonabcadate': 0.0, 'afternoons': 0.0, 'aaplayexethere': 0.0, 'amdeveloping': 0.0, 'library': 0.0, 'email': 0.0042420867216396065, 'ca': 0.0, 'gets': 0.0, 'version': 0.0, 'scientific': 0.037255507232270835, 'rapcoconutcisufledu': 0.0, 'pc': 0.0, 'telephone': 0.007451101446454168, 'maintaining': 0.0, 'dont': 0.0, 'pqeafcpandorasdsuedunntppostinghost': 0.0, 'compgraphicsanimationpath': 0.007451101446454168, 'someone': 0.0, 'dmorphdmorf': 0.0, 'workjnajnausleduryanrapcisufledu': 0.0, 'helpful': 0.0, 'sufficient': 0.0, 'solicited': 0.007451101446454168, 'vendor': 0.0, 'mon': 0.0, 'dta': 0.0, 'splines': 0.0, 'basin': 0.007451101446454168, 'functionsdate': 0.0, 'sheeps': 0.007451101446454168, 'multiauthor': 0.007451101446454168, 'available': 0.0042420867216396065, 'impressive': 0.0, 'page': 0.007451101446454168, 'accessible': 0.0, 'comphumanfactorscompgraphicscompsyshppath': 0.0, 'avoid': 0.0, 'lipmannewsgroups': 0.007451101446454168, 'marylandsponsor': 0.007451101446454168, 'appreciate': 0.0, 'youfigure': 0.0, 'found': 0.0, 'division': 0.022353304339362504, 'versionsdmorfxexe': 0.0, 'gmtreplyto': 0.007451101446454168, 'programmes': 0.0, 'kphqonyxcsvirginiaedu': 0.0, 'programs': 0.007451101446454168, 'durned': 0.0, 'assembler': 0.0, 'last': 0.0, 'buggy': 0.0, 'affiliations': 0.007451101446454168, 'lipoceandtnavymilcomputational': 0.007451101446454168, 'include': 0.007451101446454168, 'univ': 0.0, 'arrows': 0.0, 'cantaloupesrvcscmueducrabapplesrvcscmuedufsececmuedueuropaenggtefsdcomgatechasuvaxcsutexaseduzaphodmpsohiostateedusaimiriprimatewisceduusenetcoemontanaedunewsuwashingtoneduuwbeavercsubccaunixgubccakakwaucsualbertacaersysjothfrom': 0.0, 'presentations': 0.02980440578581667, 'usaorganization': 0.007451101446454168, 'summary': 0.0, 'add': 0.0, 'looking': 0.0, 'widely': 0.007451101446454168, 'week': 0.0, 'graphical': 0.0, 'lipman': 0.022353304339362504, 'designate': 0.007451101446454168, 'respective': 0.0, 'lipmanoasysdtnavymil': 0.014902202892908336, 'four': 0.007451101446454168, 'please': 0.002364933443361068, 'thanksrobert': 0.007451101446454168, 'voicenet': 0.007451101446454168, 'remote': 0.0, 'group': 0.007451101446454168, 'mar': 0.007451101446454168, 'submission': 0.007451101446454168, 'officesan': 0.0, 'sure': 0.0, 'need': 0.007451101446454168, 'called': 0.0, 'presentation': 0.02980440578581667, 'taylor': 0.014902202892908336, 'aspects': 0.007451101446454168, 'system': 0.007451101446454168, 'lipmanoasysdtnavymilauthors': 0.007451101446454168, 'westonucssunsdsuedudepartment': 0.0, 'writescan': 0.0, 'received': 0.007451101446454168, 'compgraphicsdistribution': 0.007451101446454168, 'easy': 0.0, 'daves': 0.0, 'functions': 0.0, 'usenet': 0.0, 'used': 0.0, 'serviceslines': 0.0, 'got': 0.0, 'tp': 0.0, 'creates': 0.0, 'bundled': 0.0, 'alreadydone': 0.0, 'applicable': 0.0, 'tga': 0.0, 'anddefinitely': 0.0, 'porternewsgroups': 0.0, 'reproduced': 0.007451101446454168, 'think': 0.0, 'input': 0.0, 'downloaded': 0.0, 'papers': 0.007451101446454168, 'whole': 0.0, 'warfare': 0.014902202892908336, 'tricksi': 0.0, 'developments': 0.007451101446454168, 'diego': 0.0, 'arjed': 0.0, 'n': 0.0, 'frustrating': 0.0, 'getting': 0.0, 'byohaccepted': 0.007451101446454168, 'file': 0.0, 'video': 0.007451101446454168, 'etc': 0.0, 'ucssunsdsuedugnuplot': 0.0, 'must': 0.007451101446454168, 'seminarmessageid': 0.007451101446454168, 'robert': 0.02980440578581667, 'havethe': 0.0, 'regular': 0.007451101446454168, 'viewgraphs': 0.007451101446454168, 'specific': 0.0, 'author': 0.007451101446454168, 'navy': 0.037255507232270835, 'model': 0.007451101446454168, 'whose': 0.0, 'deadline': 0.007451101446454168, 'crash': 0.0, 'valued': 0.0, 'ryan': 0.0, 'dtaxexe': 0.0, 'stockingslonglegs\\t\\t\\t\\t': 0.007451101446454168, 'abstract': 0.007451101446454168, 'kenneth': 0.0, 'ibm': 0.0, 'timejust': 0.0, 'virginiadate': 0.0, 'msdosuploads': 0.0, 'sippmessageid': 0.0, 'joe': 0.0, 'tham': 0.0, '\\t': 0.007451101446454168, 'ab': 0.0, 'compgraphicsaltgraphicscompgraphicsanimationsubject': 0.007451101446454168, 'going': 0.0, 'voice': 0.0042420867216396065, 'center\\t': 0.007451101446454168, 'notification': 0.007451101446454168, 'morphwithout': 0.0, 'jnaucsusledu': 0.0, 'first': 0.0, 'environment': 0.0, 'morph': 0.0, 'materials': 0.014902202892908336, 'gmtorganization': 0.0, 'may': 0.007451101446454168, 'also': 0.0, 'purpose': 0.007451101446454168, 'cantaloupesrvcscmuedudasnewsharvardeduogicseuwmeduzaphodmpsohiostateedudarwinsuranetdtixdtnavymiloasyslipmanfrom': 0.007451101446454168, 'nntppostinghost': 0.0, 'neurosurgical': 0.0, 'proceedings': 0.007451101446454168, 'like': 0.0}, {'complete': 0.027278608685323735, 'view': 0.0, 'laboratory': 0.0, 'hassle': 0.0, 'vendors': 0.0, 'oasysexpires': 0.0, 'philosophy': 0.027278608685323735, 'types': 0.0, 'polygon': 0.0, 'cis': 0.0, 'verywell': 0.0, 'fax': 0.0, 'florida': 0.0, 'notreadytospreadtothemasses': 0.0, 'simple': 0.0, 'took': 0.0, 'work': 0.008658061419762554, 'center\\t\\t\\t': 0.0, 'post': 0.0, 'andor': 0.0, 'standalone': 0.0, 'uses': 0.0, 'real': 0.027278608685323735, 'tell': 0.0, 'recently': 0.0, 'naval': 0.0, 'presentations\\t': 0.0, 'describing': 0.0, 'newest': 0.0, 'cdnswc': 0.0, 'information': 0.0, 'organizations': 0.0, 'interface': 0.0, 'separate': 0.0, 'westonucssunsdsuedu': 0.027278608685323735, 'could': 0.0, 'apr': 0.0, 'systems': 0.0, 'hints': 0.0, 'never': 0.0, 'nswc': 0.0, 'address\\t': 0.0, 'exchange': 0.0, 'internet': 0.0, 'kphqvirginiaeduuniversity': 0.0, 'else': 0.0, 'altgraphics': 0.0, 'research': 0.0, 'oasysdtnavymildate': 0.0, 'respond': 0.0, 'plotting': 0.027278608685323735, 'using': 0.0, 'however': 0.0, 'anyone': 0.0, 'rendering': 0.0, 'usenetmurdochaccvirginiaedureplyto': 0.0, 'scivizvr': 0.0, 'sun': 0.0, 'mdtorganization': 0.0, 'shieks': 0.0, 'compgraphicssubject': 0.008658061419762554, 'reality': 0.0, 'names': 0.0, 'pointersthanx': 0.027278608685323735, 'acceptance': 0.0, 'path': 0.008658061419762554, 'away': 0.0, 'written': 0.0, 'short': 0.0, 'center': 0.0, 'cantaloupesrvcscmueducrabapplesrvcscmuedufsececmuedueuropaenggtefsdcomemorywupostuscnewshubsdsueduucssunsdsuedusdsueduwestonfrom': 0.027278608685323735, 'make': 0.015530351387697544, 'proposed': 0.0, 'advancetom': 0.027278608685323735, 'type': 0.0, 'ask': 0.027278608685323735, 'jay': 0.0, 'software': 0.0, 'maryland': 0.0, 'aprusleduorganization': 0.0, 'demonstration': 0.0, 'cantaloupesrvcscmueducrabapplesrvcscmuedufsececmuedueuropaenggtefsdcomgatechasuvaxcsutexasedusddhpcomcaenuvaarpamurdochonyxcsvirginiaedukphqfrom': 0.0, 'representation': 0.027278608685323735, 'reproduction': 0.0, 'renderman': 0.0, 'snoopypqlhninnkreferences': 0.0, 'user': 0.0, 'university': 0.0, 'greatly': 0.0, 'hello': 0.0, 'would': 0.008658061419762554, 'armstrong': 0.0, 'unix': 0.0, 'dtax': 0.0, 'carderock': 0.0, 'phishnet': 0.0, 'arrays': 0.027278608685323735, 'vectorvalued': 0.027278608685323735, 'contact': 0.0, 'morphing': 0.0, 'oneday': 0.0, 'try': 0.0, 'processor': 0.0, 'david': 0.0, 'state': 0.027278608685323735, 'ness': 0.0, 'canadalines': 0.0, 'option': 0.0, 'sixth': 0.0, 'comes': 0.0, 'aprusledu': 0.0, 'lipmanoasysdtnavymildavid': 0.0, 'well': 0.0, 'pcs': 0.0, 'addresses': 0.0, 'sdsu': 0.027278608685323735, 'values': 0.027278608685323735, 'navyrelated': 0.0, 'arrowheads': 0.027278608685323735, 'call': 0.0, '\\t\\t\\tcall': 0.0, 'figure': 0.0, 'mdlines': 0.0, 'compgraphics': 0.0, 'ordtaxexei': 0.0, 'offer': 0.0, 'seminar': 0.0, 'cyxljmzbmurdochaccvirginiaedusender': 0.0, 'variablesbut': 0.027278608685323735, 'article': 0.0, 'hours': 0.0, 'cantaloupesrvcscmuedu': 0.0, 'want': 0.027278608685323735, 'distribute': 0.0, 'noticed': 0.0, 'abstact': 0.0, 'wuarchivethey': 0.0, 'pqlhninnksnoopycisufledudate': 0.0, 'dmorfx': 0.0, 'ive': 0.0, 'gmtlines': 0.0, 'one': 0.0, 'virginia': 0.0, 'means': 0.0, 'xmemory': 0.0, 'workstation': 0.0, 'attendeesabstracts': 0.0, 'dtaexe': 0.0, 'experiences': 0.0, 'create': 0.0, 'considered': 0.0, 'bunch': 0.0, 'program': 0.0, 'engineering': 0.0, 'virtual': 0.0, 'coconutcisufleduin': 0.0, 'signatures': 0.0, 'bit': 0.0, 'cantaloupesrvcscmuedudasnewsharvardeduogicseuwmeduzaphodmpsohiostateeducaenusenetcisufledurapfrom': 0.0, 'code': 0.0, 'files': 0.0, 'whether': 0.027278608685323735, 'thamjoe': 0.0, 'horribly': 0.0, 'weston': 0.05455721737064747, 'gmtarticleid': 0.0, 'videotape': 0.0, 'sent': 0.0, 'factsnet': 0.0, 'directoryon': 0.0, 'care': 0.0, 'thanks': 0.0, 'jothersysedmontonabca': 0.0, 'hinckleyorganization': 0.0, 'purchasing': 0.0, 'edmonton': 0.0, '\\tattend': 0.0, 'sponsoring': 0.0, 'contactdeadlines': 0.0, 'plot': 0.05455721737064747, 'several': 0.0, 'since': 0.0, 'formerly': 0.0, 'published': 0.0, 'comphumanfactors': 0.0, 'adresses': 0.0, 'via': 0.0, 'thing': 0.0, 'present': 0.0, 'length': 0.0, 'find': 0.0, 'tnewsgroups': 0.027278608685323735, 'butbefore': 0.027278608685323735, 'surface': 0.0, 'homesan': 0.027278608685323735, 'lipmanfollowupto': 0.0, 'possible': 0.0, 'xref': 0.0, 'possibleken': 0.0, 'interestthankskenps': 0.0, 'computing': 0.027278608685323735, 'sick': 0.0, 'dmorphmessageid': 0.0, 'visualization': 0.0, 'current': 0.0, 'authors': 0.0, 'applicationspresentations': 0.0, 'right': 0.0, 'hinckley': 0.0, 'fornavyrelated': 0.0, 'routines': 0.0, 'submit': 0.0, 'thought': 0.027278608685323735, 'wondering': 0.0, 'bethesda': 0.0, 'worksinprogress': 0.0, 'minutes': 0.0, 'seminar\\t\\t\\ttuesday': 0.0, 'source': 0.0, 'thamnewsgroups': 0.0, 'around': 0.0, 'vectors': 0.027278608685323735, 'easily': 0.0, 'june': 0.0, 'image': 0.0, 'numbers': 0.0, 'neededmessageid': 0.0, 'april': 0.0, 'capability': 0.0, 'ftp': 0.0, 'sipp': 0.0, 'compsyshpnewsgroups': 0.0, 'ie': 0.0, 'structures': 0.0, 'deptlines': 0.0, 'point': 0.0, 'hinckleysubject': 0.0, 'messageid': 0.027278608685323735, 'hp': 0.0, 'yfxjbwwersysedmontonabcadate': 0.0, 'afternoons': 0.0, 'aaplayexethere': 0.0, 'amdeveloping': 0.0, 'library': 0.0, 'email': 0.0, 'ca': 0.027278608685323735, 'gets': 0.0, 'version': 0.0, 'scientific': 0.0, 'rapcoconutcisufledu': 0.0, 'pc': 0.0, 'telephone': 0.0, 'maintaining': 0.0, 'dont': 0.0, 'pqeafcpandorasdsuedunntppostinghost': 0.027278608685323735, 'compgraphicsanimationpath': 0.0, 'someone': 0.015530351387697544, 'dmorphdmorf': 0.0, 'workjnajnausleduryanrapcisufledu': 0.0, 'helpful': 0.0, 'sufficient': 0.0, 'solicited': 0.0, 'vendor': 0.0, 'mon': 0.0, 'dta': 0.0, 'splines': 0.0, 'basin': 0.0, 'functionsdate': 0.027278608685323735, 'sheeps': 0.0, 'multiauthor': 0.0, 'available': 0.0, 'impressive': 0.0, 'page': 0.0, 'accessible': 0.0, 'comphumanfactorscompgraphicscompsyshppath': 0.0, 'avoid': 0.0, 'lipmannewsgroups': 0.0, 'marylandsponsor': 0.0, 'appreciate': 0.0, 'youfigure': 0.0, 'found': 0.0, 'division': 0.0, 'versionsdmorfxexe': 0.0, 'gmtreplyto': 0.0, 'programmes': 0.0, 'kphqonyxcsvirginiaedu': 0.0, 'programs': 0.0, 'durned': 0.0, 'assembler': 0.0, 'last': 0.0, 'buggy': 0.0, 'affiliations': 0.0, 'lipoceandtnavymilcomputational': 0.0, 'include': 0.0, 'univ': 0.015530351387697544, 'arrows': 0.027278608685323735, 'cantaloupesrvcscmueducrabapplesrvcscmuedufsececmuedueuropaenggtefsdcomgatechasuvaxcsutexaseduzaphodmpsohiostateedusaimiriprimatewisceduusenetcoemontanaedunewsuwashingtoneduuwbeavercsubccaunixgubccakakwaucsualbertacaersysjothfrom': 0.0, 'presentations': 0.0, 'usaorganization': 0.0, 'summary': 0.0, 'add': 0.0, 'looking': 0.0, 'widely': 0.0, 'week': 0.0, 'graphical': 0.027278608685323735, 'lipman': 0.0, 'designate': 0.0, 'respective': 0.0, 'lipmanoasysdtnavymil': 0.0, 'four': 0.0, 'please': 0.0, 'thanksrobert': 0.0, 'voicenet': 0.0, 'remote': 0.0, 'group': 0.0, 'mar': 0.0, 'submission': 0.0, 'officesan': 0.027278608685323735, 'sure': 0.0, 'need': 0.0, 'called': 0.0, 'presentation': 0.0, 'taylor': 0.0, 'aspects': 0.0, 'system': 0.0, 'lipmanoasysdtnavymilauthors': 0.0, 'westonucssunsdsuedudepartment': 0.027278608685323735, 'writescan': 0.0, 'received': 0.0, 'compgraphicsdistribution': 0.0, 'easy': 0.015530351387697544, 'daves': 0.0, 'functions': 0.05455721737064747, 'usenet': 0.027278608685323735, 'used': 0.0, 'serviceslines': 0.027278608685323735, 'got': 0.0, 'tp': 0.0, 'creates': 0.0, 'bundled': 0.0, 'alreadydone': 0.027278608685323735, 'applicable': 0.0, 'tga': 0.0, 'anddefinitely': 0.0, 'porternewsgroups': 0.0, 'reproduced': 0.0, 'think': 0.0, 'input': 0.0, 'downloaded': 0.0, 'papers': 0.0, 'whole': 0.0, 'warfare': 0.0, 'tricksi': 0.0, 'developments': 0.0, 'diego': 0.05455721737064747, 'arjed': 0.0, 'n': 0.0, 'frustrating': 0.0, 'getting': 0.0, 'byohaccepted': 0.0, 'file': 0.0, 'video': 0.0, 'etc': 0.027278608685323735, 'ucssunsdsuedugnuplot': 0.027278608685323735, 'must': 0.0, 'seminarmessageid': 0.0, 'robert': 0.0, 'havethe': 0.0, 'regular': 0.0, 'viewgraphs': 0.0, 'specific': 0.0, 'author': 0.0, 'navy': 0.0, 'model': 0.0, 'whose': 0.027278608685323735, 'deadline': 0.0, 'crash': 0.0, 'valued': 0.027278608685323735, 'ryan': 0.0, 'dtaxexe': 0.0, 'stockingslonglegs\\t\\t\\t\\t': 0.0, 'abstract': 0.0, 'kenneth': 0.0, 'ibm': 0.0, 'timejust': 0.0, 'virginiadate': 0.0, 'msdosuploads': 0.0, 'sippmessageid': 0.0, 'joe': 0.0, 'tham': 0.0, '\\t': 0.0, 'ab': 0.0, 'compgraphicsaltgraphicscompgraphicsanimationsubject': 0.0, 'going': 0.027278608685323735, 'voice': 0.0, 'center\\t': 0.0, 'notification': 0.0, 'morphwithout': 0.0, 'jnaucsusledu': 0.0, 'first': 0.0, 'environment': 0.0, 'morph': 0.0, 'materials': 0.0, 'gmtorganization': 0.027278608685323735, 'may': 0.0, 'also': 0.0, 'purpose': 0.0, 'cantaloupesrvcscmuedudasnewsharvardeduogicseuwmeduzaphodmpsohiostateedudarwinsuranetdtixdtnavymiloasyslipmanfrom': 0.0, 'nntppostinghost': 0.0, 'neurosurgical': 0.0, 'proceedings': 0.0, 'like': 0.0}, {'complete': 0.0, 'view': 0.013639304342661867, 'laboratory': 0.0, 'hassle': 0.0, 'vendors': 0.0, 'oasysexpires': 0.0, 'philosophy': 0.0, 'types': 0.0, 'polygon': 0.0, 'cis': 0.013639304342661867, 'verywell': 0.013639304342661867, 'fax': 0.0, 'florida': 0.013639304342661867, 'notreadytospreadtothemasses': 0.013639304342661867, 'simple': 0.0, 'took': 0.013639304342661867, 'work': 0.004329030709881277, 'center\\t\\t\\t': 0.0, 'post': 0.0, 'andor': 0.0, 'standalone': 0.0, 'uses': 0.0, 'real': 0.0, 'tell': 0.015530351387697544, 'recently': 0.0, 'naval': 0.0, 'presentations\\t': 0.0, 'describing': 0.0, 'newest': 0.0, 'cdnswc': 0.0, 'information': 0.0, 'organizations': 0.0, 'interface': 0.007765175693848772, 'separate': 0.0, 'westonucssunsdsuedu': 0.0, 'could': 0.0, 'apr': 0.0, 'systems': 0.0, 'hints': 0.013639304342661867, 'never': 0.0, 'nswc': 0.0, 'address\\t': 0.0, 'exchange': 0.0, 'internet': 0.0, 'kphqvirginiaeduuniversity': 0.0, 'else': 0.013639304342661867, 'altgraphics': 0.0, 'research': 0.0, 'oasysdtnavymildate': 0.0, 'respond': 0.0, 'plotting': 0.0, 'using': 0.013639304342661867, 'however': 0.0, 'anyone': 0.004329030709881277, 'rendering': 0.0, 'usenetmurdochaccvirginiaedureplyto': 0.0, 'scivizvr': 0.0, 'sun': 0.0, 'mdtorganization': 0.0, 'shieks': 0.0, 'compgraphicssubject': 0.004329030709881277, 'reality': 0.0, 'names': 0.0, 'pointersthanx': 0.0, 'acceptance': 0.0, 'path': 0.004329030709881277, 'away': 0.013639304342661867, 'written': 0.027278608685323735, 'short': 0.0, 'center': 0.0, 'cantaloupesrvcscmueducrabapplesrvcscmuedufsececmuedueuropaenggtefsdcomemorywupostuscnewshubsdsueduucssunsdsuedusdsueduwestonfrom': 0.0, 'make': 0.0, 'proposed': 0.0, 'advancetom': 0.0, 'type': 0.0, 'ask': 0.0, 'jay': 0.013639304342661867, 'software': 0.0, 'maryland': 0.0, 'aprusleduorganization': 0.013639304342661867, 'demonstration': 0.0, 'cantaloupesrvcscmueducrabapplesrvcscmuedufsececmuedueuropaenggtefsdcomgatechasuvaxcsutexasedusddhpcomcaenuvaarpamurdochonyxcsvirginiaedukphqfrom': 0.0, 'representation': 0.0, 'reproduction': 0.0, 'renderman': 0.0, 'snoopypqlhninnkreferences': 0.013639304342661867, 'user': 0.0, 'university': 0.0, 'greatly': 0.0, 'hello': 0.0, 'would': 0.004329030709881277, 'armstrong': 0.013639304342661867, 'unix': 0.0, 'dtax': 0.013639304342661867, 'carderock': 0.0, 'phishnet': 0.0, 'arrays': 0.0, 'vectorvalued': 0.0, 'contact': 0.0, 'morphing': 0.013639304342661867, 'oneday': 0.0, 'try': 0.013639304342661867, 'processor': 0.0, 'david': 0.0, 'state': 0.0, 'ness': 0.0, 'canadalines': 0.0, 'option': 0.013639304342661867, 'sixth': 0.0, 'comes': 0.013639304342661867, 'aprusledu': 0.013639304342661867, 'lipmanoasysdtnavymildavid': 0.0, 'well': 0.0, 'pcs': 0.0, 'addresses': 0.0, 'sdsu': 0.0, 'values': 0.0, 'navyrelated': 0.0, 'arrowheads': 0.0, 'call': 0.0, '\\t\\t\\tcall': 0.0, 'figure': 0.013639304342661867, 'mdlines': 0.0, 'compgraphics': 0.0, 'ordtaxexei': 0.013639304342661867, 'offer': 0.0, 'seminar': 0.0, 'cyxljmzbmurdochaccvirginiaedusender': 0.0, 'variablesbut': 0.0, 'article': 0.013639304342661867, 'hours': 0.013639304342661867, 'cantaloupesrvcscmuedu': 0.0, 'want': 0.0, 'distribute': 0.0, 'noticed': 0.013639304342661867, 'abstact': 0.0, 'wuarchivethey': 0.013639304342661867, 'pqlhninnksnoopycisufledudate': 0.013639304342661867, 'dmorfx': 0.013639304342661867, 'ive': 0.0, 'gmtlines': 0.0, 'one': 0.0, 'virginia': 0.0, 'means': 0.013639304342661867, 'xmemory': 0.013639304342661867, 'workstation': 0.0, 'attendeesabstracts': 0.0, 'dtaexe': 0.013639304342661867, 'experiences': 0.0, 'create': 0.013639304342661867, 'considered': 0.0, 'bunch': 0.013639304342661867, 'program': 0.0, 'engineering': 0.0, 'virtual': 0.0, 'coconutcisufleduin': 0.013639304342661867, 'signatures': 0.0, 'bit': 0.013639304342661867, 'cantaloupesrvcscmuedudasnewsharvardeduogicseuwmeduzaphodmpsohiostateeducaenusenetcisufledurapfrom': 0.013639304342661867, 'code': 0.0, 'files': 0.013639304342661867, 'whether': 0.0, 'thamjoe': 0.0, 'horribly': 0.013639304342661867, 'weston': 0.0, 'gmtarticleid': 0.007765175693848772, 'videotape': 0.0, 'sent': 0.0, 'factsnet': 0.0, 'directoryon': 0.013639304342661867, 'care': 0.0, 'thanks': 0.0, 'jothersysedmontonabca': 0.0, 'hinckleyorganization': 0.0, 'purchasing': 0.0, 'edmonton': 0.0, '\\tattend': 0.0, 'sponsoring': 0.0, 'contactdeadlines': 0.0, 'plot': 0.0, 'several': 0.007765175693848772, 'since': 0.027278608685323735, 'formerly': 0.0, 'published': 0.0, 'comphumanfactors': 0.0, 'adresses': 0.0, 'via': 0.0, 'thing': 0.013639304342661867, 'present': 0.0, 'length': 0.0, 'find': 0.007765175693848772, 'tnewsgroups': 0.0, 'butbefore': 0.0, 'surface': 0.0, 'homesan': 0.0, 'lipmanfollowupto': 0.0, 'possible': 0.0, 'xref': 0.0, 'possibleken': 0.0, 'interestthankskenps': 0.0, 'computing': 0.0, 'sick': 0.0, 'dmorphmessageid': 0.013639304342661867, 'visualization': 0.0, 'current': 0.0, 'authors': 0.0, 'applicationspresentations': 0.0, 'right': 0.013639304342661867, 'hinckley': 0.0, 'fornavyrelated': 0.0, 'routines': 0.0, 'submit': 0.0, 'thought': 0.0, 'wondering': 0.0, 'bethesda': 0.0, 'worksinprogress': 0.0, 'minutes': 0.0, 'seminar\\t\\t\\ttuesday': 0.0, 'source': 0.007765175693848772, 'thamnewsgroups': 0.0, 'around': 0.0, 'vectors': 0.0, 'easily': 0.0, 'june': 0.0, 'image': 0.0, 'numbers': 0.0, 'neededmessageid': 0.0, 'april': 0.0, 'capability': 0.0, 'ftp': 0.007765175693848772, 'sipp': 0.0, 'compsyshpnewsgroups': 0.0, 'ie': 0.0, 'structures': 0.0, 'deptlines': 0.013639304342661867, 'point': 0.0, 'hinckleysubject': 0.0, 'messageid': 0.0, 'hp': 0.0, 'yfxjbwwersysedmontonabcadate': 0.0, 'afternoons': 0.013639304342661867, 'aaplayexethere': 0.013639304342661867, 'amdeveloping': 0.0, 'library': 0.0, 'email': 0.0, 'ca': 0.0, 'gets': 0.013639304342661867, 'version': 0.007765175693848772, 'scientific': 0.0, 'rapcoconutcisufledu': 0.013639304342661867, 'pc': 0.0, 'telephone': 0.0, 'maintaining': 0.0, 'dont': 0.013639304342661867, 'pqeafcpandorasdsuedunntppostinghost': 0.0, 'compgraphicsanimationpath': 0.0, 'someone': 0.007765175693848772, 'dmorphdmorf': 0.013639304342661867, 'workjnajnausleduryanrapcisufledu': 0.013639304342661867, 'helpful': 0.0, 'sufficient': 0.0, 'solicited': 0.0, 'vendor': 0.0, 'mon': 0.0, 'dta': 0.013639304342661867, 'splines': 0.027278608685323735, 'basin': 0.0, 'functionsdate': 0.0, 'sheeps': 0.0, 'multiauthor': 0.0, 'available': 0.007765175693848772, 'impressive': 0.0, 'page': 0.0, 'accessible': 0.0, 'comphumanfactorscompgraphicscompsyshppath': 0.0, 'avoid': 0.0, 'lipmannewsgroups': 0.0, 'marylandsponsor': 0.0, 'appreciate': 0.0, 'youfigure': 0.013639304342661867, 'found': 0.0, 'division': 0.0, 'versionsdmorfxexe': 0.013639304342661867, 'gmtreplyto': 0.0, 'programmes': 0.013639304342661867, 'kphqonyxcsvirginiaedu': 0.0, 'programs': 0.0, 'durned': 0.013639304342661867, 'assembler': 0.013639304342661867, 'last': 0.013639304342661867, 'buggy': 0.013639304342661867, 'affiliations': 0.0, 'lipoceandtnavymilcomputational': 0.0, 'include': 0.0, 'univ': 0.007765175693848772, 'arrows': 0.0, 'cantaloupesrvcscmueducrabapplesrvcscmuedufsececmuedueuropaenggtefsdcomgatechasuvaxcsutexaseduzaphodmpsohiostateedusaimiriprimatewisceduusenetcoemontanaedunewsuwashingtoneduuwbeavercsubccaunixgubccakakwaucsualbertacaersysjothfrom': 0.0, 'presentations': 0.0, 'usaorganization': 0.0, 'summary': 0.0, 'add': 0.0, 'looking': 0.0, 'widely': 0.0, 'week': 0.013639304342661867, 'graphical': 0.0, 'lipman': 0.0, 'designate': 0.0, 'respective': 0.013639304342661867, 'lipmanoasysdtnavymil': 0.0, 'four': 0.0, 'please': 0.004329030709881277, 'thanksrobert': 0.0, 'voicenet': 0.0, 'remote': 0.0, 'group': 0.0, 'mar': 0.0, 'submission': 0.0, 'officesan': 0.0, 'sure': 0.013639304342661867, 'need': 0.0, 'called': 0.0, 'presentation': 0.0, 'taylor': 0.0, 'aspects': 0.0, 'system': 0.0, 'lipmanoasysdtnavymilauthors': 0.0, 'westonucssunsdsuedudepartment': 0.0, 'writescan': 0.013639304342661867, 'received': 0.0, 'compgraphicsdistribution': 0.0, 'easy': 0.007765175693848772, 'daves': 0.027278608685323735, 'functions': 0.0, 'usenet': 0.0, 'used': 0.007765175693848772, 'serviceslines': 0.0, 'got': 0.0, 'tp': 0.013639304342661867, 'creates': 0.0, 'bundled': 0.013639304342661867, 'alreadydone': 0.0, 'applicable': 0.0, 'tga': 0.013639304342661867, 'anddefinitely': 0.013639304342661867, 'porternewsgroups': 0.013639304342661867, 'reproduced': 0.0, 'think': 0.027278608685323735, 'input': 0.0, 'downloaded': 0.013639304342661867, 'papers': 0.0, 'whole': 0.013639304342661867, 'warfare': 0.0, 'tricksi': 0.013639304342661867, 'developments': 0.0, 'diego': 0.0, 'arjed': 0.013639304342661867, 'n': 0.013639304342661867, 'frustrating': 0.013639304342661867, 'getting': 0.013639304342661867, 'byohaccepted': 0.0, 'file': 0.0, 'video': 0.0, 'etc': 0.0, 'ucssunsdsuedugnuplot': 0.0, 'must': 0.0, 'seminarmessageid': 0.0, 'robert': 0.0, 'havethe': 0.013639304342661867, 'regular': 0.0, 'viewgraphs': 0.0, 'specific': 0.0, 'author': 0.0, 'navy': 0.0, 'model': 0.0, 'whose': 0.0, 'deadline': 0.0, 'crash': 0.013639304342661867, 'valued': 0.0, 'ryan': 0.013639304342661867, 'dtaxexe': 0.013639304342661867, 'stockingslonglegs\\t\\t\\t\\t': 0.0, 'abstract': 0.0, 'kenneth': 0.0, 'ibm': 0.0, 'timejust': 0.013639304342661867, 'virginiadate': 0.0, 'msdosuploads': 0.013639304342661867, 'sippmessageid': 0.0, 'joe': 0.0, 'tham': 0.0, '\\t': 0.0, 'ab': 0.0, 'compgraphicsaltgraphicscompgraphicsanimationsubject': 0.0, 'going': 0.0, 'voice': 0.0, 'center\\t': 0.0, 'notification': 0.0, 'morphwithout': 0.013639304342661867, 'jnaucsusledu': 0.013639304342661867, 'first': 0.027278608685323735, 'environment': 0.0, 'morph': 0.013639304342661867, 'materials': 0.0, 'gmtorganization': 0.0, 'may': 0.0, 'also': 0.007765175693848772, 'purpose': 0.0, 'cantaloupesrvcscmuedudasnewsharvardeduogicseuwmeduzaphodmpsohiostateedudarwinsuranetdtixdtnavymiloasyslipmanfrom': 0.0, 'nntppostinghost': 0.013639304342661867, 'neurosurgical': 0.0, 'proceedings': 0.0, 'like': 0.0}, {'complete': 0.0, 'view': 0.0, 'laboratory': 0.017686130905869235, 'hassle': 0.017686130905869235, 'vendors': 0.017686130905869235, 'oasysexpires': 0.0, 'philosophy': 0.0, 'types': 0.0, 'polygon': 0.0, 'cis': 0.0, 'verywell': 0.0, 'fax': 0.0, 'florida': 0.0, 'notreadytospreadtothemasses': 0.0, 'simple': 0.0, 'took': 0.0, 'work': 0.0, 'center\\t\\t\\t': 0.0, 'post': 0.017686130905869235, 'andor': 0.0, 'standalone': 0.0, 'uses': 0.0, 'real': 0.0, 'tell': 0.0, 'recently': 0.0, 'naval': 0.0, 'presentations\\t': 0.0, 'describing': 0.0, 'newest': 0.0, 'cdnswc': 0.0, 'information': 0.020138257843388026, 'organizations': 0.0, 'interface': 0.010069128921694013, 'separate': 0.017686130905869235, 'westonucssunsdsuedu': 0.0, 'could': 0.0, 'apr': 0.0, 'systems': 0.03020738676508204, 'hints': 0.0, 'never': 0.0, 'nswc': 0.0, 'address\\t': 0.0, 'exchange': 0.0, 'internet': 0.0, 'kphqvirginiaeduuniversity': 0.017686130905869235, 'else': 0.0, 'altgraphics': 0.0, 'research': 0.0, 'oasysdtnavymildate': 0.0, 'respond': 0.017686130905869235, 'plotting': 0.0, 'using': 0.0, 'however': 0.0, 'anyone': 0.005613468393032866, 'rendering': 0.0, 'usenetmurdochaccvirginiaedureplyto': 0.017686130905869235, 'scivizvr': 0.0, 'sun': 0.017686130905869235, 'mdtorganization': 0.0, 'shieks': 0.0, 'compgraphicssubject': 0.0, 'reality': 0.0, 'names': 0.017686130905869235, 'pointersthanx': 0.0, 'acceptance': 0.0, 'path': 0.0, 'away': 0.0, 'written': 0.0, 'short': 0.0, 'center': 0.0, 'cantaloupesrvcscmueducrabapplesrvcscmuedufsececmuedueuropaenggtefsdcomemorywupostuscnewshubsdsueduucssunsdsuedusdsueduwestonfrom': 0.0, 'make': 0.0, 'proposed': 0.0, 'advancetom': 0.0, 'type': 0.0, 'ask': 0.0, 'jay': 0.0, 'software': 0.0, 'maryland': 0.0, 'aprusleduorganization': 0.0, 'demonstration': 0.0, 'cantaloupesrvcscmueducrabapplesrvcscmuedufsececmuedueuropaenggtefsdcomgatechasuvaxcsutexasedusddhpcomcaenuvaarpamurdochonyxcsvirginiaedukphqfrom': 0.017686130905869235, 'representation': 0.0, 'reproduction': 0.0, 'renderman': 0.0, 'snoopypqlhninnkreferences': 0.0, 'user': 0.017686130905869235, 'university': 0.017686130905869235, 'greatly': 0.017686130905869235, 'hello': 0.017686130905869235, 'would': 0.022453873572131463, 'armstrong': 0.0, 'unix': 0.03537226181173847, 'dtax': 0.0, 'carderock': 0.0, 'phishnet': 0.0, 'arrays': 0.0, 'vectorvalued': 0.0, 'contact': 0.0, 'morphing': 0.0, 'oneday': 0.0, 'try': 0.0, 'processor': 0.0, 'david': 0.0, 'state': 0.0, 'ness': 0.0, 'canadalines': 0.0, 'option': 0.0, 'sixth': 0.0, 'comes': 0.0, 'aprusledu': 0.0, 'lipmanoasysdtnavymildavid': 0.0, 'well': 0.017686130905869235, 'pcs': 0.017686130905869235, 'addresses': 0.0, 'sdsu': 0.0, 'values': 0.0, 'navyrelated': 0.0, 'arrowheads': 0.0, 'call': 0.0, '\\t\\t\\tcall': 0.0, 'figure': 0.0, 'mdlines': 0.0, 'compgraphics': 0.010069128921694013, 'ordtaxexei': 0.0, 'offer': 0.017686130905869235, 'seminar': 0.0, 'cyxljmzbmurdochaccvirginiaedusender': 0.017686130905869235, 'variablesbut': 0.0, 'article': 0.0, 'hours': 0.0, 'cantaloupesrvcscmuedu': 0.010069128921694013, 'want': 0.0, 'distribute': 0.0, 'noticed': 0.0, 'abstact': 0.0, 'wuarchivethey': 0.0, 'pqlhninnksnoopycisufledudate': 0.0, 'dmorfx': 0.0, 'ive': 0.0, 'gmtlines': 0.017686130905869235, 'one': 0.0, 'virginia': 0.017686130905869235, 'means': 0.0, 'xmemory': 0.0, 'workstation': 0.017686130905869235, 'attendeesabstracts': 0.0, 'dtaexe': 0.0, 'experiences': 0.017686130905869235, 'create': 0.0, 'considered': 0.0, 'bunch': 0.0, 'program': 0.0, 'engineering': 0.0, 'virtual': 0.0, 'coconutcisufleduin': 0.0, 'signatures': 0.0, 'bit': 0.0, 'cantaloupesrvcscmuedudasnewsharvardeduogicseuwmeduzaphodmpsohiostateeducaenusenetcisufledurapfrom': 0.0, 'code': 0.0, 'files': 0.0, 'whether': 0.0, 'thamjoe': 0.0, 'horribly': 0.0, 'weston': 0.0, 'gmtarticleid': 0.0, 'videotape': 0.0, 'sent': 0.0, 'factsnet': 0.0, 'directoryon': 0.0, 'care': 0.017686130905869235, 'thanks': 0.0, 'jothersysedmontonabca': 0.0, 'hinckleyorganization': 0.017686130905869235, 'purchasing': 0.017686130905869235, 'edmonton': 0.0, '\\tattend': 0.0, 'sponsoring': 0.0, 'contactdeadlines': 0.0, 'plot': 0.0, 'several': 0.010069128921694013, 'since': 0.0, 'formerly': 0.0, 'published': 0.0, 'comphumanfactors': 0.017686130905869235, 'adresses': 0.017686130905869235, 'via': 0.017686130905869235, 'thing': 0.0, 'present': 0.0, 'length': 0.0, 'find': 0.0, 'tnewsgroups': 0.0, 'butbefore': 0.0, 'surface': 0.0, 'homesan': 0.0, 'lipmanfollowupto': 0.0, 'possible': 0.0, 'xref': 0.010069128921694013, 'possibleken': 0.017686130905869235, 'interestthankskenps': 0.017686130905869235, 'computing': 0.0, 'sick': 0.0, 'dmorphmessageid': 0.0, 'visualization': 0.010069128921694013, 'current': 0.0, 'authors': 0.0, 'applicationspresentations': 0.0, 'right': 0.0, 'hinckley': 0.017686130905869235, 'fornavyrelated': 0.0, 'routines': 0.0, 'submit': 0.0, 'thought': 0.0, 'wondering': 0.0, 'bethesda': 0.0, 'worksinprogress': 0.0, 'minutes': 0.0, 'seminar\\t\\t\\ttuesday': 0.0, 'source': 0.0, 'thamnewsgroups': 0.0, 'around': 0.0, 'vectors': 0.0, 'easily': 0.017686130905869235, 'june': 0.0, 'image': 0.0, 'numbers': 0.0, 'neededmessageid': 0.017686130905869235, 'april': 0.0, 'capability': 0.017686130905869235, 'ftp': 0.0, 'sipp': 0.0, 'compsyshpnewsgroups': 0.017686130905869235, 'ie': 0.0, 'structures': 0.0, 'deptlines': 0.0, 'point': 0.0, 'hinckleysubject': 0.017686130905869235, 'messageid': 0.0, 'hp': 0.017686130905869235, 'yfxjbwwersysedmontonabcadate': 0.0, 'afternoons': 0.0, 'aaplayexethere': 0.0, 'amdeveloping': 0.017686130905869235, 'library': 0.0, 'email': 0.010069128921694013, 'ca': 0.0, 'gets': 0.0, 'version': 0.0, 'scientific': 0.0, 'rapcoconutcisufledu': 0.0, 'pc': 0.017686130905869235, 'telephone': 0.0, 'maintaining': 0.017686130905869235, 'dont': 0.0, 'pqeafcpandorasdsuedunntppostinghost': 0.0, 'compgraphicsanimationpath': 0.0, 'someone': 0.0, 'dmorphdmorf': 0.0, 'workjnajnausleduryanrapcisufledu': 0.0, 'helpful': 0.017686130905869235, 'sufficient': 0.017686130905869235, 'solicited': 0.0, 'vendor': 0.017686130905869235, 'mon': 0.0, 'dta': 0.0, 'splines': 0.0, 'basin': 0.0, 'functionsdate': 0.0, 'sheeps': 0.0, 'multiauthor': 0.0, 'available': 0.0, 'impressive': 0.017686130905869235, 'page': 0.0, 'accessible': 0.017686130905869235, 'comphumanfactorscompgraphicscompsyshppath': 0.017686130905869235, 'avoid': 0.017686130905869235, 'lipmannewsgroups': 0.0, 'marylandsponsor': 0.0, 'appreciate': 0.017686130905869235, 'youfigure': 0.0, 'found': 0.017686130905869235, 'division': 0.0, 'versionsdmorfxexe': 0.0, 'gmtreplyto': 0.0, 'programmes': 0.0, 'kphqonyxcsvirginiaedu': 0.03537226181173847, 'programs': 0.0, 'durned': 0.0, 'assembler': 0.0, 'last': 0.0, 'buggy': 0.0, 'affiliations': 0.0, 'lipoceandtnavymilcomputational': 0.0, 'include': 0.0, 'univ': 0.0, 'arrows': 0.0, 'cantaloupesrvcscmueducrabapplesrvcscmuedufsececmuedueuropaenggtefsdcomgatechasuvaxcsutexaseduzaphodmpsohiostateedusaimiriprimatewisceduusenetcoemontanaedunewsuwashingtoneduuwbeavercsubccaunixgubccakakwaucsualbertacaersysjothfrom': 0.0, 'presentations': 0.0, 'usaorganization': 0.0, 'summary': 0.017686130905869235, 'add': 0.017686130905869235, 'looking': 0.017686130905869235, 'widely': 0.0, 'week': 0.0, 'graphical': 0.0, 'lipman': 0.0, 'designate': 0.0, 'respective': 0.0, 'lipmanoasysdtnavymil': 0.0, 'four': 0.0, 'please': 0.005613468393032866, 'thanksrobert': 0.0, 'voicenet': 0.0, 'remote': 0.0, 'group': 0.0, 'mar': 0.0, 'submission': 0.0, 'officesan': 0.0, 'sure': 0.0, 'need': 0.0, 'called': 0.0, 'presentation': 0.0, 'taylor': 0.0, 'aspects': 0.0, 'system': 0.0, 'lipmanoasysdtnavymilauthors': 0.0, 'westonucssunsdsuedudepartment': 0.0, 'writescan': 0.0, 'received': 0.0, 'compgraphicsdistribution': 0.0, 'easy': 0.0, 'daves': 0.0, 'functions': 0.0, 'usenet': 0.0, 'used': 0.0, 'serviceslines': 0.0, 'got': 0.0, 'tp': 0.0, 'creates': 0.0, 'bundled': 0.0, 'alreadydone': 0.0, 'applicable': 0.017686130905869235, 'tga': 0.0, 'anddefinitely': 0.0, 'porternewsgroups': 0.0, 'reproduced': 0.0, 'think': 0.0, 'input': 0.053058392717607705, 'downloaded': 0.0, 'papers': 0.0, 'whole': 0.0, 'warfare': 0.0, 'tricksi': 0.0, 'developments': 0.0, 'diego': 0.0, 'arjed': 0.0, 'n': 0.0, 'frustrating': 0.0, 'getting': 0.0, 'byohaccepted': 0.0, 'file': 0.0, 'video': 0.0, 'etc': 0.0, 'ucssunsdsuedugnuplot': 0.0, 'must': 0.0, 'seminarmessageid': 0.0, 'robert': 0.0, 'havethe': 0.0, 'regular': 0.0, 'viewgraphs': 0.0, 'specific': 0.017686130905869235, 'author': 0.0, 'navy': 0.0, 'model': 0.0, 'whose': 0.0, 'deadline': 0.0, 'crash': 0.0, 'valued': 0.0, 'ryan': 0.0, 'dtaxexe': 0.0, 'stockingslonglegs\\t\\t\\t\\t': 0.0, 'abstract': 0.0, 'kenneth': 0.03537226181173847, 'ibm': 0.017686130905869235, 'timejust': 0.0, 'virginiadate': 0.017686130905869235, 'msdosuploads': 0.0, 'sippmessageid': 0.0, 'joe': 0.0, 'tham': 0.0, '\\t': 0.0, 'ab': 0.0, 'compgraphicsaltgraphicscompgraphicsanimationsubject': 0.0, 'going': 0.0, 'voice': 0.03020738676508204, 'center\\t': 0.0, 'notification': 0.0, 'morphwithout': 0.0, 'jnaucsusledu': 0.0, 'first': 0.0, 'environment': 0.017686130905869235, 'morph': 0.0, 'materials': 0.0, 'gmtorganization': 0.0, 'may': 0.0, 'also': 0.0, 'purpose': 0.0, 'cantaloupesrvcscmuedudasnewsharvardeduogicseuwmeduzaphodmpsohiostateedudarwinsuranetdtixdtnavymiloasyslipmanfrom': 0.0, 'nntppostinghost': 0.0, 'neurosurgical': 0.017686130905869235, 'proceedings': 0.0, 'like': 0.010069128921694013}, {'complete': 0.0, 'view': 0.0, 'laboratory': 0.0, 'hassle': 0.0, 'vendors': 0.0, 'oasysexpires': 0.0, 'philosophy': 0.0, 'types': 0.0, 'polygon': 0.025546633530700004, 'cis': 0.0, 'verywell': 0.0, 'fax': 0.0, 'florida': 0.0, 'notreadytospreadtothemasses': 0.0, 'simple': 0.025546633530700004, 'took': 0.0, 'work': 0.0, 'center\\t\\t\\t': 0.0, 'post': 0.0, 'andor': 0.0, 'standalone': 0.0, 'uses': 0.025546633530700004, 'real': 0.0, 'tell': 0.014544297331335795, 'recently': 0.025546633530700004, 'naval': 0.0, 'presentations\\t': 0.0, 'describing': 0.025546633530700004, 'newest': 0.025546633530700004, 'cdnswc': 0.0, 'information': 0.0, 'organizations': 0.0, 'interface': 0.0, 'separate': 0.0, 'westonucssunsdsuedu': 0.0, 'could': 0.025546633530700004, 'apr': 0.0, 'systems': 0.014544297331335795, 'hints': 0.0, 'never': 0.025546633530700004, 'nswc': 0.0, 'address\\t': 0.0, 'exchange': 0.0, 'internet': 0.0, 'kphqvirginiaeduuniversity': 0.0, 'else': 0.0, 'altgraphics': 0.0, 'research': 0.0, 'oasysdtnavymildate': 0.0, 'respond': 0.0, 'plotting': 0.0, 'using': 0.0, 'however': 0.0, 'anyone': 0.008108343234380805, 'rendering': 0.05109326706140001, 'usenetmurdochaccvirginiaedureplyto': 0.0, 'scivizvr': 0.0, 'sun': 0.0, 'mdtorganization': 0.025546633530700004, 'shieks': 0.0, 'compgraphicssubject': 0.008108343234380805, 'reality': 0.0, 'names': 0.0, 'pointersthanx': 0.0, 'acceptance': 0.0, 'path': 0.008108343234380805, 'away': 0.0, 'written': 0.0, 'short': 0.0, 'center': 0.0, 'cantaloupesrvcscmueducrabapplesrvcscmuedufsececmuedueuropaenggtefsdcomemorywupostuscnewshubsdsueduucssunsdsuedusdsueduwestonfrom': 0.0, 'make': 0.014544297331335795, 'proposed': 0.0, 'advancetom': 0.0, 'type': 0.0, 'ask': 0.0, 'jay': 0.0, 'software': 0.0, 'maryland': 0.0, 'aprusleduorganization': 0.0, 'demonstration': 0.0, 'cantaloupesrvcscmueducrabapplesrvcscmuedufsececmuedueuropaenggtefsdcomgatechasuvaxcsutexasedusddhpcomcaenuvaarpamurdochonyxcsvirginiaedukphqfrom': 0.0, 'representation': 0.0, 'reproduction': 0.0, 'renderman': 0.05109326706140001, 'snoopypqlhninnkreferences': 0.0, 'user': 0.0, 'university': 0.0, 'greatly': 0.0, 'hello': 0.0, 'would': 0.0, 'armstrong': 0.0, 'unix': 0.0, 'dtax': 0.0, 'carderock': 0.0, 'phishnet': 0.0, 'arrays': 0.0, 'vectorvalued': 0.0, 'contact': 0.0, 'morphing': 0.0, 'oneday': 0.0, 'try': 0.0, 'processor': 0.025546633530700004, 'david': 0.0, 'state': 0.0, 'ness': 0.0, 'canadalines': 0.025546633530700004, 'option': 0.0, 'sixth': 0.0, 'comes': 0.0, 'aprusledu': 0.0, 'lipmanoasysdtnavymildavid': 0.0, 'well': 0.0, 'pcs': 0.0, 'addresses': 0.0, 'sdsu': 0.0, 'values': 0.0, 'navyrelated': 0.0, 'arrowheads': 0.0, 'call': 0.0, '\\t\\t\\tcall': 0.0, 'figure': 0.0, 'mdlines': 0.0, 'compgraphics': 0.0, 'ordtaxexei': 0.0, 'offer': 0.0, 'seminar': 0.0, 'cyxljmzbmurdochaccvirginiaedusender': 0.0, 'variablesbut': 0.0, 'article': 0.0, 'hours': 0.0, 'cantaloupesrvcscmuedu': 0.0, 'want': 0.0, 'distribute': 0.0, 'noticed': 0.0, 'abstact': 0.0, 'wuarchivethey': 0.0, 'pqlhninnksnoopycisufledudate': 0.0, 'dmorfx': 0.0, 'ive': 0.025546633530700004, 'gmtlines': 0.0, 'one': 0.014544297331335795, 'virginia': 0.0, 'means': 0.0, 'xmemory': 0.0, 'workstation': 0.0, 'attendeesabstracts': 0.0, 'dtaexe': 0.0, 'experiences': 0.0, 'create': 0.0, 'considered': 0.0, 'bunch': 0.0, 'program': 0.025546633530700004, 'engineering': 0.0, 'virtual': 0.0, 'coconutcisufleduin': 0.0, 'signatures': 0.0, 'bit': 0.0, 'cantaloupesrvcscmuedudasnewsharvardeduogicseuwmeduzaphodmpsohiostateeducaenusenetcisufledurapfrom': 0.0, 'code': 0.014544297331335795, 'files': 0.0, 'whether': 0.0, 'thamjoe': 0.025546633530700004, 'horribly': 0.0, 'weston': 0.0, 'gmtarticleid': 0.0, 'videotape': 0.0, 'sent': 0.0, 'factsnet': 0.0, 'directoryon': 0.0, 'care': 0.0, 'thanks': 0.025546633530700004, 'jothersysedmontonabca': 0.05109326706140001, 'hinckleyorganization': 0.0, 'purchasing': 0.0, 'edmonton': 0.05109326706140001, '\\tattend': 0.0, 'sponsoring': 0.0, 'contactdeadlines': 0.0, 'plot': 0.0, 'several': 0.0, 'since': 0.0, 'formerly': 0.0, 'published': 0.0, 'comphumanfactors': 0.0, 'adresses': 0.0, 'via': 0.0, 'thing': 0.0, 'present': 0.0, 'length': 0.0, 'find': 0.014544297331335795, 'tnewsgroups': 0.0, 'butbefore': 0.0, 'surface': 0.0, 'homesan': 0.0, 'lipmanfollowupto': 0.0, 'possible': 0.0, 'xref': 0.0, 'possibleken': 0.0, 'interestthankskenps': 0.0, 'computing': 0.0, 'sick': 0.0, 'dmorphmessageid': 0.0, 'visualization': 0.0, 'current': 0.0, 'authors': 0.0, 'applicationspresentations': 0.0, 'right': 0.0, 'hinckley': 0.0, 'fornavyrelated': 0.0, 'routines': 0.05109326706140001, 'submit': 0.0, 'thought': 0.0, 'wondering': 0.025546633530700004, 'bethesda': 0.0, 'worksinprogress': 0.0, 'minutes': 0.0, 'seminar\\t\\t\\ttuesday': 0.0, 'source': 0.014544297331335795, 'thamnewsgroups': 0.025546633530700004, 'around': 0.025546633530700004, 'vectors': 0.0, 'easily': 0.0, 'june': 0.0, 'image': 0.025546633530700004, 'numbers': 0.0, 'neededmessageid': 0.0, 'april': 0.0, 'capability': 0.0, 'ftp': 0.014544297331335795, 'sipp': 0.05109326706140001, 'compsyshpnewsgroups': 0.0, 'ie': 0.025546633530700004, 'structures': 0.0, 'deptlines': 0.0, 'point': 0.0, 'hinckleysubject': 0.0, 'messageid': 0.0, 'hp': 0.0, 'yfxjbwwersysedmontonabcadate': 0.025546633530700004, 'afternoons': 0.0, 'aaplayexethere': 0.0, 'amdeveloping': 0.0, 'library': 0.05109326706140001, 'email': 0.0, 'ca': 0.0, 'gets': 0.0, 'version': 0.014544297331335795, 'scientific': 0.0, 'rapcoconutcisufledu': 0.0, 'pc': 0.0, 'telephone': 0.0, 'maintaining': 0.0, 'dont': 0.0, 'pqeafcpandorasdsuedunntppostinghost': 0.0, 'compgraphicsanimationpath': 0.0, 'someone': 0.0, 'dmorphdmorf': 0.0, 'workjnajnausleduryanrapcisufledu': 0.0, 'helpful': 0.0, 'sufficient': 0.0, 'solicited': 0.0, 'vendor': 0.0, 'mon': 0.025546633530700004, 'dta': 0.0, 'splines': 0.0, 'basin': 0.0, 'functionsdate': 0.0, 'sheeps': 0.0, 'multiauthor': 0.0, 'available': 0.0, 'impressive': 0.0, 'page': 0.0, 'accessible': 0.0, 'comphumanfactorscompgraphicscompsyshppath': 0.0, 'avoid': 0.0, 'lipmannewsgroups': 0.0, 'marylandsponsor': 0.0, 'appreciate': 0.0, 'youfigure': 0.0, 'found': 0.0, 'division': 0.0, 'versionsdmorfxexe': 0.0, 'gmtreplyto': 0.0, 'programmes': 0.0, 'kphqonyxcsvirginiaedu': 0.0, 'programs': 0.0, 'durned': 0.0, 'assembler': 0.0, 'last': 0.0, 'buggy': 0.0, 'affiliations': 0.0, 'lipoceandtnavymilcomputational': 0.0, 'include': 0.0, 'univ': 0.0, 'arrows': 0.0, 'cantaloupesrvcscmueducrabapplesrvcscmuedufsececmuedueuropaenggtefsdcomgatechasuvaxcsutexaseduzaphodmpsohiostateedusaimiriprimatewisceduusenetcoemontanaedunewsuwashingtoneduuwbeavercsubccaunixgubccakakwaucsualbertacaersysjothfrom': 0.025546633530700004, 'presentations': 0.0, 'usaorganization': 0.0, 'summary': 0.0, 'add': 0.0, 'looking': 0.0, 'widely': 0.0, 'week': 0.0, 'graphical': 0.0, 'lipman': 0.0, 'designate': 0.0, 'respective': 0.0, 'lipmanoasysdtnavymil': 0.0, 'four': 0.0, 'please': 0.0, 'thanksrobert': 0.0, 'voicenet': 0.0, 'remote': 0.025546633530700004, 'group': 0.0, 'mar': 0.0, 'submission': 0.0, 'officesan': 0.0, 'sure': 0.0, 'need': 0.0, 'called': 0.025546633530700004, 'presentation': 0.0, 'taylor': 0.0, 'aspects': 0.0, 'system': 0.0, 'lipmanoasysdtnavymilauthors': 0.0, 'westonucssunsdsuedudepartment': 0.0, 'writescan': 0.0, 'received': 0.0, 'compgraphicsdistribution': 0.0, 'easy': 0.0, 'daves': 0.0, 'functions': 0.0, 'usenet': 0.0, 'used': 0.014544297331335795, 'serviceslines': 0.0, 'got': 0.025546633530700004, 'tp': 0.0, 'creates': 0.025546633530700004, 'bundled': 0.0, 'alreadydone': 0.0, 'applicable': 0.0, 'tga': 0.0, 'anddefinitely': 0.0, 'porternewsgroups': 0.0, 'reproduced': 0.0, 'think': 0.0, 'input': 0.0, 'downloaded': 0.0, 'papers': 0.0, 'whole': 0.0, 'warfare': 0.0, 'tricksi': 0.0, 'developments': 0.0, 'diego': 0.0, 'arjed': 0.0, 'n': 0.0, 'frustrating': 0.0, 'getting': 0.0, 'byohaccepted': 0.0, 'file': 0.025546633530700004, 'video': 0.0, 'etc': 0.0, 'ucssunsdsuedugnuplot': 0.0, 'must': 0.0, 'seminarmessageid': 0.0, 'robert': 0.0, 'havethe': 0.0, 'regular': 0.0, 'viewgraphs': 0.0, 'specific': 0.0, 'author': 0.0, 'navy': 0.0, 'model': 0.0, 'whose': 0.0, 'deadline': 0.0, 'crash': 0.0, 'valued': 0.0, 'ryan': 0.0, 'dtaxexe': 0.0, 'stockingslonglegs\\t\\t\\t\\t': 0.0, 'abstract': 0.0, 'kenneth': 0.0, 'ibm': 0.0, 'timejust': 0.0, 'virginiadate': 0.0, 'msdosuploads': 0.0, 'sippmessageid': 0.025546633530700004, 'joe': 0.05109326706140001, 'tham': 0.025546633530700004, '\\t': 0.0, 'ab': 0.025546633530700004, 'compgraphicsaltgraphicscompgraphicsanimationsubject': 0.0, 'going': 0.0, 'voice': 0.0, 'center\\t': 0.0, 'notification': 0.0, 'morphwithout': 0.0, 'jnaucsusledu': 0.0, 'first': 0.0, 'environment': 0.0, 'morph': 0.0, 'materials': 0.0, 'gmtorganization': 0.0, 'may': 0.0, 'also': 0.014544297331335795, 'purpose': 0.0, 'cantaloupesrvcscmuedudasnewsharvardeduogicseuwmeduzaphodmpsohiostateedudarwinsuranetdtixdtnavymiloasyslipmanfrom': 0.0, 'nntppostinghost': 0.0, 'neurosurgical': 0.0, 'proceedings': 0.0, 'like': 0.014544297331335795}]\n"
     ]
    }
   ],
   "source": [
    "\n",
    "tfidfl = [] \n",
    "for i in tfbow:\n",
    "    tfidfl.append(tfidf(i,idfs))  \n",
    "#Above loop iterates through list of dictionaries tfbow. \n",
    "#Appends output of tfidf function(a dictionary) to tfidfl\n",
    "print(tfidfl)"
   ]
  },
  {
   "cell_type": "code",
   "execution_count": 18,
   "metadata": {
    "id": "KH8oiu8be845"
   },
   "outputs": [],
   "source": [
    "\n",
    "def transpose(A):\n",
    "    '''\n",
    "    Parameter: \n",
    "        A - 2D matrix having dimension m*n\n",
    "    Process:\n",
    "        Calculates transpose of given matrix\n",
    "    Output:\n",
    "        ans - 2D matrix having dimension n*m\n",
    "    '''\n",
    "    ans = np.zeros((len(A[0]),len(A)))\n",
    "    for i in range(len(A)):\n",
    "        for j in range(len(A[0])):\n",
    "            ans[j][i] = A[i][j]\n",
    "    return ans\n"
   ]
  },
  {
   "cell_type": "code",
   "execution_count": null,
   "metadata": {
    "id": "A8ZwwwFjfEFn"
   },
   "outputs": [],
   "source": [
    "def matmul(A,X):\n",
    "    '''\n",
    "    Parameter: \n",
    "        A - 2D matrix having dimension m*r\n",
    "        X - 2D matrix having dimension r*n\n",
    "    Process:\n",
    "        matrix multiplication of A and X\n",
    "    Output:\n",
    "        ans - 2D matrix having dimension m*n\n",
    "    '''\n",
    "    \n",
    "    if(type(X)!=list and len(X.shape)==1):\n",
    "        X = X.reshape((len(X), 1))\n",
    "    ans = np.zeros((len(A),len(X[0])))\n",
    "    for i in range(len(A)):\n",
    "        for j in range(len(X[0])):\n",
    "            for k in range(len(X)):\n",
    "                ans[i][j] = ans[i][j] + A[i][k]*X[k][j]\n",
    "    if(type(X)!=list and ans.shape[1]==1):\n",
    "        ans = ans.reshape((len(ans)))\n",
    "    return ans\n"
   ]
  },
  {
   "cell_type": "code",
   "execution_count": null,
   "metadata": {
    "id": "O7Px-NuifQbJ"
   },
   "outputs": [],
   "source": [
    "def SvD(Amatrix):\n",
    "    '''\n",
    "    Parameter:\n",
    "        Amatrix - matrix to be decomposed of dimension m*n\n",
    "    Process:\n",
    "        Implements Jacobi method to find eigenvalues and eigenvectors.\n",
    "        So, eigenvectors are in the V matrix. \n",
    "        S is a list of singular values of Amatrix. To find S, we just find square root \n",
    "        eigenvlues of Amatrix.\n",
    "        We then find UMatrix using the formula U_i = (Amatrix*V_i)/Sigma_i \n",
    "    Output:\n",
    "        U - Orthogonal matrix of dimension m*m \n",
    "        S - List of singular values of Amatrix\n",
    "        VT - Transpose of orthogonal matrix V having dimensions n*n\n",
    "    '''\n",
    "    originalMatrix = Amatrix.copy()\n",
    "    \n",
    "    ROWS=len(Amatrix)\n",
    "    COLS=len(Amatrix[0])\n",
    "\n",
    "    if (ROWS > COLS):\n",
    "        Amatrix = transpose(Amatrix)\n",
    "    B=Amatrix.copy()\n",
    "\n",
    "    \n",
    "\n",
    "    Amatrix = matmul(transpose(Amatrix),Amatrix)\n",
    "\n",
    "    # HERE Amatrix IS CONVERTED TO SQUARE MATRIX THUS ROWS=COLS\n",
    "    ROWS=len(Amatrix)\n",
    "    COLS=len(Amatrix[0])\n",
    "\n",
    "    Amatrix=np.round(Amatrix,decimals=5)\n",
    "    diagonalMatrix = Amatrix.copy()\n",
    "    eigenVectorsMatrix = np.zeros((ROWS,ROWS))\n",
    "    for i in range(0,ROWS):\n",
    "        eigenVectorsMatrix[i][i] = 1\n",
    "    \n",
    "    maximum=1\n",
    "    # Loop is iterated untill the max element does not become 0.\n",
    "    while(maximum>0.001):\n",
    "        # iOfMaxElement is the ith index of the max element other then diagonal\n",
    "        # jOfMaxElement is the jth index of the max element other then diagonal\n",
    "\n",
    "        maximum, iOfMaxElement,jOfMaxElement =math.fabs(diagonalMatrix[0][1]) ,0,1\n",
    "        for i in range(0,len(diagonalMatrix)):\n",
    "            for j in range(0,len(diagonalMatrix[0])):\n",
    "                if(i!=j and math.fabs(diagonalMatrix[i][j]) > maximum):\n",
    "                    maximum = math.fabs(diagonalMatrix[i][j])\n",
    "                    iOfMaxElement = i\n",
    "                    jOfMaxElement = j\n",
    "        theta = 0\n",
    "\n",
    "        if(diagonalMatrix[iOfMaxElement][iOfMaxElement] == diagonalMatrix[jOfMaxElement][jOfMaxElement]):\n",
    "            if(diagonalMatrix[iOfMaxElement][jOfMaxElement] > 0):\n",
    "                theta = pi/4\n",
    "            else:\n",
    "                theta = -1*pi/4\n",
    "        else:\n",
    "            value = 2*diagonalMatrix[iOfMaxElement][jOfMaxElement]/(diagonalMatrix[iOfMaxElement][iOfMaxElement] - diagonalMatrix[jOfMaxElement][jOfMaxElement])\n",
    "            theta = abs(0.5*math.atan(value))\n",
    "        OrthogonalMatrix = np.zeros((len(diagonalMatrix),len(diagonalMatrix[0])))\n",
    "        \n",
    "        for i in range(0,len(diagonalMatrix)):\n",
    "            OrthogonalMatrix[i][i] = 1\n",
    "        OrthogonalMatrix[iOfMaxElement][iOfMaxElement] = math.cos(theta)\n",
    "        OrthogonalMatrix[jOfMaxElement][jOfMaxElement] = OrthogonalMatrix[iOfMaxElement][iOfMaxElement] \n",
    "        OrthogonalMatrix[iOfMaxElement][jOfMaxElement] = math.sin(theta)\n",
    "        OrthogonalMatrix[jOfMaxElement][iOfMaxElement] = -1*OrthogonalMatrix[iOfMaxElement][jOfMaxElement]\n",
    "\n",
    "        \n",
    "        #diagonalMatrix= P^(-1)*D*P     where P^(-1) is P transpose\n",
    "\n",
    "        diagonalMatrix = matmul(transpose(OrthogonalMatrix),diagonalMatrix)\n",
    "        \n",
    "        diagonalMatrix = matmul(diagonalMatrix,OrthogonalMatrix)\n",
    "        \n",
    "        eigenVectorsMatrix = matmul(eigenVectorsMatrix,OrthogonalMatrix)\n",
    "        \n",
    "    # l1 is the list of eigen values which is extracted from the diagonal of the diagonalMatrix.\n",
    "    l1 = []\n",
    "    \n",
    "    for i in range(0,len(diagonalMatrix)):\n",
    "        l1.append(diagonalMatrix[i][i])\n",
    "        \n",
    "    #eigenVectorsMatrix is a list of eigenvectors -- VT\n",
    "    eigenVectorsMatrix=transpose(eigenVectorsMatrix) \n",
    "    \n",
    "    tempList = list(eigenVectorsMatrix.copy())\n",
    "    \n",
    "    for i in range(0,len(tempList)):\n",
    "        tempList[i] = list(tempList[i])\n",
    "        tempList[i].insert(0,l1[i])\n",
    "    \n",
    "    #Sorting the eigen values in descending order and simuntaneously arranging the eigen vectors w.r.t descending eigen values.\n",
    "    tempList.sort(reverse = True)\n",
    "    EigenValueslist=[]\n",
    "    EigenFinalVectorslist=[]\n",
    "    for i in range(0,len(tempList)):\n",
    "        EigenValueslist.append(tempList[i].pop(0))\n",
    "        EigenFinalVectorslist.append(tempList[i])\n",
    "    EigenValuesarr = np.array(EigenValueslist)\n",
    "    #VT is ready now\n",
    "    EigenFinalVectorsTransarr=np.array(EigenFinalVectorslist)\n",
    "\n",
    "    #Initiallizing U matrix\n",
    "    UMatrix=np.zeros((len(B),len(B)))\n",
    "    for i in range(len(B)):\n",
    "        # Ui=(B*Vi)/root(lamda)\n",
    "        mul=matmul((B),(EigenFinalVectorsTransarr[i]))\n",
    "        \n",
    "        UMatrix[i]=mul/math.sqrt(EigenValuesarr[i])\n",
    "    UMatrix = transpose(UMatrix)\n",
    "    finEigVals = []\n",
    "    for i in EigenValuesarr:\n",
    "        if(i > 1e-4): #we check if i!=0 \n",
    "            finEigVals.append(i)\n",
    "    #Singular values are root of every eigen values.\n",
    "    finSingVals = [math.sqrt(i) for i in finEigVals]\n",
    "    finSingVals = np.round(finSingVals,decimals = 6)\n",
    "\n",
    "    #Initiallizing Sigma matrix\n",
    "    Sigma = np.zeros((len(B),len(B[0])))\n",
    "    for i in range(0,min(len(B),len(B[0]))):\n",
    "        Sigma[i][i] = finSingVals[i]\n",
    "    VT = EigenFinalVectorsTransarr\n",
    "\n",
    "    if(len(originalMatrix) > len(originalMatrix[0])):\n",
    "        # For rows>columns we had taken Atranspose above and we had found U*Sigma*VT of AT\n",
    "        # Thus this will be equivalent to V*SigmaT*UT of A.\n",
    "        Sigma = transpose(Sigma)\n",
    "        Utemp = UMatrix.copy()\n",
    "        UMatrix = transpose(EigenFinalVectorsTransarr)\n",
    "        VT = transpose(Utemp)\n",
    "    return UMatrix,finSingVals,VT\n"
   ]
  },
  {
   "cell_type": "code",
   "execution_count": null,
   "metadata": {
    "id": "w8_qCFQ6kgKS"
   },
   "outputs": [],
   "source": [
    "X = pd.DataFrame(tfidfl).T\n",
    "l_2d = X.T.values.tolist()\n",
    "l_2d = np.array(l_2d)\n",
    "l_2d = transpose(l_2d)\n",
    "L,S,R=SvD(l_2d)"
   ]
  },
  {
   "cell_type": "code",
   "execution_count": null,
   "metadata": {
    "colab": {
     "base_uri": "https://localhost:8080/"
    },
    "id": "9PHj4lLzkkGP",
    "outputId": "857ed0db-e1c5-465d-e771-54bf0aee4f35"
   },
   "outputs": [
    {
     "name": "stdout",
     "output_type": "stream",
     "text": [
      "(32, 32) (5,) (5, 5)\n"
     ]
    }
   ],
   "source": [
    "print(L.shape,S.shape,R.shape)"
   ]
  },
  {
   "cell_type": "code",
   "execution_count": null,
   "metadata": {
    "colab": {
     "base_uri": "https://localhost:8080/"
    },
    "id": "IFYvYsWV8B0v",
    "outputId": "22064336-b217-4b6d-c8fe-7b7436ff2656"
   },
   "outputs": [
    {
     "data": {
      "text/plain": [
       "array([0.836235, 0.719757, 0.712577, 0.477454, 0.462726])"
      ]
     },
     "execution_count": 58,
     "metadata": {},
     "output_type": "execute_result"
    }
   ],
   "source": [
    "S"
   ]
  },
  {
   "cell_type": "code",
   "execution_count": null,
   "metadata": {
    "id": "KhrRQY0_e3NX"
   },
   "outputs": [],
   "source": [
    "\n",
    "def zero_padding(n,U,S,V):\n",
    "    '''\n",
    "    Parameter: \n",
    "        n - integer\n",
    "        U - Matrix having dimension m*m\n",
    "        S - List of singular values\n",
    "        V - Matrix having dimension n*n\n",
    "    Process:\n",
    "        The aim of this function is to use S to make a matrix A which contains n singular \n",
    "        values on its diagonal. Rest all values are 0. Dimensions of A are m*n\n",
    "        Basically, we want to make A such that multiply(U,A,V) is possible\n",
    "    Output:\n",
    "        A - Matrix having dimension m*n\n",
    "    '''\n",
    "    t = []\n",
    "    for i in range(0,n):\n",
    "        t.append(S[i])\n",
    "    #t is the tuple consisting of first n characters of the tuple S (S is sigma)\n",
    "    for i in range(len(S)-n):\n",
    "        t.append(0) #zero_padding t with zeros\n",
    "    \n",
    "    #convert the non-selected singular values to 0 and form a diagonal matrix, store as A\n",
    "    A=[]\n",
    "    for i in range (0,len(S)):\n",
    "        temp = []\n",
    "        for j in range(0,len(S)):\n",
    "            if(j == i):\n",
    "                temp.append(float(t[j]))\n",
    "            else:\n",
    "                temp.append(float(0))\n",
    "        A.append(temp)\n",
    "    newrow = []\n",
    "    for i in range(0,len(S)):\n",
    "        newrow.append(0)\n",
    "    #newrow is a list of zeros having same length as S\n",
    "    for i in range(len(U)-len(S)): \n",
    "        A.append(newrow)\n",
    "        \n",
    "    return A\n",
    "\n",
    "def reconstruct(u,s,v,n):\n",
    "    '''\n",
    "    Parameter: \n",
    "        u - Matrix having dimension m*m\n",
    "        s - List of singular values\n",
    "        v - Matrix having dimension n*n\n",
    "        n - integer\n",
    "    Process:\n",
    "        produces matrix A having m*n dimensions.\n",
    "        Returns the product of multiply(u,A,v)\n",
    "    Output:\n",
    "        m*n matrix\n",
    "    '''\n",
    "    A=zero_padding(n,u,s,v)\n",
    "    return np.round(matmul(matmul(u,A),v),decimals=3)\n",
    "    \n",
    "def frobenius(a,a2): #finds how similar two matrices are\n",
    "    '''\n",
    "    Parameter: \n",
    "        a - Matrix having dimension m*n\n",
    "        a2 - Matrix having dimension m*n\n",
    "    Process:\n",
    "        computes the frobenius norm of the matrix\n",
    "    Output:\n",
    "        an integer (frobenius norm of the two matrices)\n",
    "    '''\n",
    "    \n",
    "    tempi1=(a-a2)**2\n",
    "    tempi2=a**2\n",
    "    sum1,sum2=0,0\n",
    "    \n",
    "    for i in (tempi1):\n",
    "        for j in (i):\n",
    "            sum1+=j\n",
    "    for i in (tempi2):\n",
    "        for j in (i):\n",
    "            sum2+=j\n",
    "    ret = math.sqrt(sum1)/math.sqrt(sum2)\n",
    "    return ret \n",
    "\n",
    "def find_k():\n",
    "    '''\n",
    "    Parameter:\n",
    "        None \n",
    "    Process:\n",
    "        iterates through 1 to number of singular values - 1.\n",
    "        compares the two matrices l_2d and reconstructed matrix of l_2d\n",
    "        Note that l_2d is the original matrix (the one passed into SVD)\n",
    "    Output:\n",
    "        an integer - the number of singular values required to reconstruct a matrix\n",
    "                     whose frobenius norm with l_2d is less than 0.38 \n",
    "    '''\n",
    "    for i in range(1,len(S)):\n",
    "        f=frobenius(l_2d,reconstruct(L,S,R,i))\n",
    "        if f<0.35 :\n",
    "          print(i)\n",
    "          return i\n",
    "\n",
    "\n",
    "def search(q):\n",
    "    q=rem_punct(q)\n",
    "    q=q.lower().split(\" \")\n",
    "    terms = X.index\n",
    "    \n",
    "    query=[]\n",
    "    for i in terms:\n",
    "        if(i in q):\n",
    "            query.append(1)\n",
    "        else:\n",
    "            query.append(0) \n",
    "    query=np.asarray(query)\n",
    "    if 1 not in query:\n",
    "        print(\"Could not find any documents\")\n",
    "    \n",
    "    else:\n",
    "        k = find_k()\n",
    "        \n",
    "        print(\"k\",k)\n",
    "        print(\"q\",query)\n",
    "        reconstructed_A = reconstruct(L,S,R,k) \n",
    "        print(reconstructed_A)\n",
    "\n",
    "        score = query.dot(reconstructed_A)\n",
    "        \n",
    "        sort = {}\n",
    "        for i in range(len(score)):\n",
    "            if(score[i]<0):\n",
    "                score[i]=0\n",
    "            sort[i+1] = score[i]\n",
    "        last = {}\n",
    "        for w in sorted(sort, key=sort.get, reverse=True):\n",
    "            last[w]=sort[w]\n",
    "        xAxis=[]\n",
    "        title=\"Document-wise weightage of the string: \"\n",
    "        for i in q: \n",
    "            title=title+\" \"+i\n",
    "        yAxis=[]\n",
    "        \n",
    "        for document,sc in last.items():\n",
    "            print(\"Document: \",document)\n",
    "            xAxis.append(document)\n",
    "            yAxis.append(sc)\n",
    "        \n",
    "        plt.bar(xAxis, yAxis, color ='red',  \n",
    "                width = 0.4) \n",
    "        \n",
    "        plt.xlabel(\"Document number\") \n",
    "        plt.ylabel(\"Relevance-Score\") \n",
    "        plt.title(title) \n",
    "        plt.show() \n",
    "\n"
   ]
  },
  {
   "cell_type": "code",
   "execution_count": null,
   "metadata": {
    "colab": {
     "base_uri": "https://localhost:8080/",
     "height": 375
    },
    "id": "c_9-T9oknZHq",
    "outputId": "748169ce-7f07-4dfb-89a3-fd296ade9b48"
   },
   "outputs": [
    {
     "name": "stdout",
     "output_type": "stream",
     "text": [
      "Please choose an option:\n",
      "1: Search keywords \n",
      "2: View Documents \n",
      "3: Exit\n",
      "2\n",
      "Enter Document number:\n",
      "\n",
      "\n",
      "1\n"
     ]
    },
    {
     "ename": "NameError",
     "evalue": "ignored",
     "output_type": "error",
     "traceback": [
      "\u001b[0;31m---------------------------------------------------------------------------\u001b[0m",
      "\u001b[0;31mNameError\u001b[0m                                 Traceback (most recent call last)",
      "\u001b[0;32m<ipython-input-2-93a6e478af9f>\u001b[0m in \u001b[0;36m<module>\u001b[0;34m()\u001b[0m\n\u001b[1;32m     15\u001b[0m         \u001b[0mdoc_n\u001b[0m \u001b[0;34m=\u001b[0m \u001b[0mint\u001b[0m\u001b[0;34m(\u001b[0m\u001b[0minput\u001b[0m\u001b[0;34m(\u001b[0m\u001b[0;34m)\u001b[0m\u001b[0;34m)\u001b[0m\u001b[0;34m\u001b[0m\u001b[0;34m\u001b[0m\u001b[0m\n\u001b[1;32m     16\u001b[0m \u001b[0;34m\u001b[0m\u001b[0m\n\u001b[0;32m---> 17\u001b[0;31m         \u001b[0;32mif\u001b[0m\u001b[0;34m(\u001b[0m\u001b[0mdoc_n\u001b[0m\u001b[0;34m>\u001b[0m\u001b[0mlen\u001b[0m\u001b[0;34m(\u001b[0m\u001b[0mstore\u001b[0m\u001b[0;34m)\u001b[0m\u001b[0;34m)\u001b[0m\u001b[0;34m:\u001b[0m\u001b[0;34m\u001b[0m\u001b[0;34m\u001b[0m\u001b[0m\n\u001b[0m\u001b[1;32m     18\u001b[0m             \u001b[0mprint\u001b[0m\u001b[0;34m(\u001b[0m\u001b[0;34m\"There are only \"\u001b[0m\u001b[0;34m,\u001b[0m\u001b[0mlen\u001b[0m\u001b[0;34m(\u001b[0m\u001b[0mstore\u001b[0m\u001b[0;34m)\u001b[0m\u001b[0;34m,\u001b[0m\u001b[0;34m\" documents\"\u001b[0m\u001b[0;34m)\u001b[0m\u001b[0;34m\u001b[0m\u001b[0;34m\u001b[0m\u001b[0m\n\u001b[1;32m     19\u001b[0m             \u001b[0;32mcontinue\u001b[0m\u001b[0;34m\u001b[0m\u001b[0;34m\u001b[0m\u001b[0m\n",
      "\u001b[0;31mNameError\u001b[0m: name 'store' is not defined"
     ]
    }
   ],
   "source": [
    "while(1):\n",
    "    print(\"Please choose an option:\\n\"\n",
    "    + \"1: Search keywords \\n\"\n",
    "    + \"2: View Documents \\n\"\n",
    "    + \"3: Exit\")\n",
    "    opt = int(input())\n",
    "    if(opt == 1):\n",
    "        print(\"Enter keyword you want to search\\n\")\n",
    "        s = input()\n",
    "        print(\"Loading your search results...\")\n",
    "        search(s)\n",
    "        print(\"\\n\")\n",
    "    elif (opt == 2):\n",
    "        print(\"Enter Document number:\\n\\n\")\n",
    "        doc_n = int(input())\n",
    "\n",
    "        if(doc_n>len(store)):\n",
    "            print(\"There are only \",len(store),\" documents\")\n",
    "            continue\n",
    "        print(store[doc_n - 1])\n",
    "        print(\"\\n\")\n",
    "    elif( opt == 3):\n",
    "        print(\"THANK YOU\")\n",
    "        exit()\n",
    "    else:\n",
    "        print(\"Enter valid input. \")"
   ]
  }
 ],
 "metadata": {
  "colab": {
   "collapsed_sections": [],
   "name": "LAB6_LSI.ipynb",
   "provenance": []
  },
  "kernelspec": {
   "display_name": "Python 3",
   "language": "python",
   "name": "python3"
  },
  "language_info": {
   "codemirror_mode": {
    "name": "ipython",
    "version": 3
   },
   "file_extension": ".py",
   "mimetype": "text/x-python",
   "name": "python",
   "nbconvert_exporter": "python",
   "pygments_lexer": "ipython3",
   "version": "3.8.5"
  }
 },
 "nbformat": 4,
 "nbformat_minor": 1
}
